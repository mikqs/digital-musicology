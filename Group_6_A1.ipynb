{
 "cells": [
  {
   "cell_type": "markdown",
   "metadata": {
    "pycharm": {
     "name": "#%% md\n"
    }
   },
   "source": [
    "# Digital Musicology (DH-401)\n",
    "## Assignment 1: Discovering meter\n",
    "Group 6\n",
    "- Mickaël Achkar\n",
    "- Yichen Wang\n",
    "- Yinghui Jiang"
   ]
  },
  {
   "cell_type": "markdown",
   "metadata": {},
   "source": [
    "Rough outline\n",
    "## 0. Data preparation\n",
    "## 1. From musical score to metrical weights\n",
    "## 2. From metrical weights to periodicities\n",
    "## 3. From periodicities to time signature\n",
    "## 4. Accuracy of classification\n",
    "\n",
    "#TODO:\n",
    "- consider grace notes as normal notes (replace 'duration' with 'nominal_duration',\n",
    "because 'duration' is empty for them) -> check before/after impact to classification\n",
    "- we also need to sum up durations of tied notes based on piece and staff and voice\n",
    "- use appropriate method to extract frequencies/periodicities\n",
    "- use appropriate method to infer time signature\n",
    "- create simple classification accuracy measure with Ground Truth"
   ]
  },
  {
   "cell_type": "code",
   "execution_count": 1,
   "metadata": {
    "pycharm": {
     "name": "#%%\n"
    }
   },
   "outputs": [],
   "source": [
    "import ms3\n",
    "import pandas as pd\n",
    "import numpy as np\n",
    "import math\n",
    "import fractions\n",
    "import matplotlib.pyplot as plt"
   ]
  },
  {
   "cell_type": "markdown",
   "metadata": {
    "pycharm": {
     "name": "#%% md\n"
    }
   },
   "source": [
    "## 0. Data preparation"
   ]
  },
  {
   "cell_type": "code",
   "execution_count": 2,
   "metadata": {
    "pycharm": {
     "name": "#%%\n"
    }
   },
   "outputs": [],
   "source": [
    "# This is the time unit of 'global_onset' used in the dataset\n",
    "time_unit = 1/4\n",
    "\n",
    "meter_dataset = pd.read_csv('DM2022 - Assignment 1 [Dataset].csv', index_col = 0, converters = {'global_onset':fractions.Fraction, 'duration': fractions.Fraction})\n",
    "df = meter_dataset[['piece','timesig','global_onset', 'staff', 'voice', 'duration', 'nominal_duration', 'tied', 'gracenote']]\n",
    "\n",
    "# Ignore gracenotes for now\n",
    "df = df[df['gracenote'].isna()]\n",
    "\n",
    "# df['beat_unit'] = [fractions.Fraction(1/int(timesig.split('/')[1])) for timesig in df['timesig']]"
   ]
  },
  {
   "cell_type": "markdown",
   "metadata": {},
   "source": [
    "## 1. From musical score to metrical weights"
   ]
  },
  {
   "cell_type": "code",
   "execution_count": 3,
   "metadata": {
    "pycharm": {
     "name": "#%%\n"
    }
   },
   "outputs": [
    {
     "name": "stdout",
     "output_type": "stream",
     "text": [
      "Smallest note length in dataset: 1/32\n"
     ]
    },
    {
     "data": {
      "text/html": [
       "<div>\n",
       "<style scoped>\n",
       "    .dataframe tbody tr th:only-of-type {\n",
       "        vertical-align: middle;\n",
       "    }\n",
       "\n",
       "    .dataframe tbody tr th {\n",
       "        vertical-align: top;\n",
       "    }\n",
       "\n",
       "    .dataframe thead th {\n",
       "        text-align: right;\n",
       "    }\n",
       "</style>\n",
       "<table border=\"1\" class=\"dataframe\">\n",
       "  <thead>\n",
       "    <tr style=\"text-align: right;\">\n",
       "      <th></th>\n",
       "      <th>piece</th>\n",
       "      <th>timesig</th>\n",
       "      <th>global_onset</th>\n",
       "      <th>staff</th>\n",
       "      <th>voice</th>\n",
       "      <th>duration</th>\n",
       "      <th>nominal_duration</th>\n",
       "      <th>tied</th>\n",
       "      <th>gracenote</th>\n",
       "    </tr>\n",
       "  </thead>\n",
       "  <tbody>\n",
       "    <tr>\n",
       "      <th>269850</th>\n",
       "      <td>K309-1</td>\n",
       "      <td>4/4</td>\n",
       "      <td>0</td>\n",
       "      <td>1</td>\n",
       "      <td>1</td>\n",
       "      <td>1/2</td>\n",
       "      <td>1/2</td>\n",
       "      <td>NaN</td>\n",
       "      <td>NaN</td>\n",
       "    </tr>\n",
       "    <tr>\n",
       "      <th>269852</th>\n",
       "      <td>K309-1</td>\n",
       "      <td>4/4</td>\n",
       "      <td>2</td>\n",
       "      <td>1</td>\n",
       "      <td>1</td>\n",
       "      <td>1/2</td>\n",
       "      <td>1/2</td>\n",
       "      <td>NaN</td>\n",
       "      <td>NaN</td>\n",
       "    </tr>\n",
       "    <tr>\n",
       "      <th>269854</th>\n",
       "      <td>K309-1</td>\n",
       "      <td>4/4</td>\n",
       "      <td>4</td>\n",
       "      <td>1</td>\n",
       "      <td>1</td>\n",
       "      <td>3/8</td>\n",
       "      <td>1/4</td>\n",
       "      <td>NaN</td>\n",
       "      <td>NaN</td>\n",
       "    </tr>\n",
       "    <tr>\n",
       "      <th>269856</th>\n",
       "      <td>K309-1</td>\n",
       "      <td>4/4</td>\n",
       "      <td>11/2</td>\n",
       "      <td>1</td>\n",
       "      <td>1</td>\n",
       "      <td>1/16</td>\n",
       "      <td>1/16</td>\n",
       "      <td>NaN</td>\n",
       "      <td>NaN</td>\n",
       "    </tr>\n",
       "    <tr>\n",
       "      <th>269858</th>\n",
       "      <td>K309-1</td>\n",
       "      <td>4/4</td>\n",
       "      <td>23/4</td>\n",
       "      <td>1</td>\n",
       "      <td>1</td>\n",
       "      <td>1/16</td>\n",
       "      <td>1/16</td>\n",
       "      <td>NaN</td>\n",
       "      <td>NaN</td>\n",
       "    </tr>\n",
       "    <tr>\n",
       "      <th>...</th>\n",
       "      <td>...</td>\n",
       "      <td>...</td>\n",
       "      <td>...</td>\n",
       "      <td>...</td>\n",
       "      <td>...</td>\n",
       "      <td>...</td>\n",
       "      <td>...</td>\n",
       "      <td>...</td>\n",
       "      <td>...</td>\n",
       "    </tr>\n",
       "    <tr>\n",
       "      <th>272217</th>\n",
       "      <td>K309-1</td>\n",
       "      <td>4/4</td>\n",
       "      <td>617</td>\n",
       "      <td>1</td>\n",
       "      <td>1</td>\n",
       "      <td>1/4</td>\n",
       "      <td>1/4</td>\n",
       "      <td>NaN</td>\n",
       "      <td>NaN</td>\n",
       "    </tr>\n",
       "    <tr>\n",
       "      <th>272218</th>\n",
       "      <td>K309-1</td>\n",
       "      <td>4/4</td>\n",
       "      <td>617</td>\n",
       "      <td>1</td>\n",
       "      <td>1</td>\n",
       "      <td>1/4</td>\n",
       "      <td>1/4</td>\n",
       "      <td>NaN</td>\n",
       "      <td>NaN</td>\n",
       "    </tr>\n",
       "    <tr>\n",
       "      <th>272221</th>\n",
       "      <td>K309-1</td>\n",
       "      <td>4/4</td>\n",
       "      <td>618</td>\n",
       "      <td>1</td>\n",
       "      <td>1</td>\n",
       "      <td>1/4</td>\n",
       "      <td>1/4</td>\n",
       "      <td>NaN</td>\n",
       "      <td>NaN</td>\n",
       "    </tr>\n",
       "    <tr>\n",
       "      <th>272222</th>\n",
       "      <td>K309-1</td>\n",
       "      <td>4/4</td>\n",
       "      <td>618</td>\n",
       "      <td>1</td>\n",
       "      <td>1</td>\n",
       "      <td>1/4</td>\n",
       "      <td>1/4</td>\n",
       "      <td>NaN</td>\n",
       "      <td>NaN</td>\n",
       "    </tr>\n",
       "    <tr>\n",
       "      <th>272223</th>\n",
       "      <td>K309-1</td>\n",
       "      <td>4/4</td>\n",
       "      <td>618</td>\n",
       "      <td>1</td>\n",
       "      <td>1</td>\n",
       "      <td>1/4</td>\n",
       "      <td>1/4</td>\n",
       "      <td>NaN</td>\n",
       "      <td>NaN</td>\n",
       "    </tr>\n",
       "  </tbody>\n",
       "</table>\n",
       "<p>1005 rows × 9 columns</p>\n",
       "</div>"
      ],
      "text/plain": [
       "         piece timesig global_onset  staff  voice duration nominal_duration  \\\n",
       "269850  K309-1     4/4            0      1      1      1/2              1/2   \n",
       "269852  K309-1     4/4            2      1      1      1/2              1/2   \n",
       "269854  K309-1     4/4            4      1      1      3/8              1/4   \n",
       "269856  K309-1     4/4         11/2      1      1     1/16             1/16   \n",
       "269858  K309-1     4/4         23/4      1      1     1/16             1/16   \n",
       "...        ...     ...          ...    ...    ...      ...              ...   \n",
       "272217  K309-1     4/4          617      1      1      1/4              1/4   \n",
       "272218  K309-1     4/4          617      1      1      1/4              1/4   \n",
       "272221  K309-1     4/4          618      1      1      1/4              1/4   \n",
       "272222  K309-1     4/4          618      1      1      1/4              1/4   \n",
       "272223  K309-1     4/4          618      1      1      1/4              1/4   \n",
       "\n",
       "        tied gracenote  \n",
       "269850   NaN       NaN  \n",
       "269852   NaN       NaN  \n",
       "269854   NaN       NaN  \n",
       "269856   NaN       NaN  \n",
       "269858   NaN       NaN  \n",
       "...      ...       ...  \n",
       "272217   NaN       NaN  \n",
       "272218   NaN       NaN  \n",
       "272221   NaN       NaN  \n",
       "272222   NaN       NaN  \n",
       "272223   NaN       NaN  \n",
       "\n",
       "[1005 rows x 9 columns]"
      ]
     },
     "execution_count": 3,
     "metadata": {},
     "output_type": "execute_result"
    },
    {
     "data": {
      "image/png": "[encoded data removed]",
      "text/plain": [
       "<Figure size 1728x360 with 1 Axes>"
      ]
     },
     "metadata": {
      "needs_background": "light"
     },
     "output_type": "display_data"
    }
   ],
   "source": [
    "# Select one piece and staff (time signature may change per staff)\n",
    "one_piece_staff = df[(df['piece'] == 'K309-1') & (df['staff'] == 1)]\n",
    "\n",
    "# To fine-tune sampling, get minimum note duration among all notes in the piece/staff\n",
    "min_note = float(one_piece_staff['duration'].min())\n",
    "print(\"Smallest note length in dataset:\", fractions.Fraction(min_note))\n",
    "\n",
    "sampling_period = min_note/time_unit\n",
    "total_piece_duration = one_piece_staff['global_onset'].max()\n",
    "\n",
    "# Partition the global_onsets in bins\n",
    "bins = np.arange(0, (total_piece_duration+sampling_period+1e-10), sampling_period)\n",
    "binned_onsets = pd.cut(one_piece_staff['global_onset'], bins, right = False)\n",
    "\n",
    "# Compute the sum of durations of all events with onsets in each bin\n",
    "binned_durations = one_piece_staff.groupby(binned_onsets)['duration'].sum().apply(float)\n",
    "binned_durations.plot(figsize=(24,5));\n",
    "\n",
    "one_piece_staff"
   ]
  },
  {
   "cell_type": "code",
   "execution_count": 182,
   "metadata": {
    "pycharm": {
     "name": "#%%\n"
    }
   },
   "outputs": [
    {
     "name": "stdout",
     "output_type": "stream",
     "text": [
      "CPU times: user 1min 21s, sys: 672 ms, total: 1min 21s\n",
      "Wall time: 1min 24s\n"
     ]
    }
   ],
   "source": [
    "%%time\n",
    "\n",
    "# For all pieces and staves (This operation takes around 2-3 minutes on our computer)\n",
    "\n",
    "# Create dictionaries of total piece durations and smallest notes in each piece/staff\n",
    "total_piece_durations_df = df.groupby(['piece','staff'])['global_onset'].max().apply(float)\n",
    "minimum_note_durations_df = df.groupby(['piece','staff'])['duration'].min().apply(float)\n",
    "total_piece_durations = total_piece_durations_df.to_dict()\n",
    "minimum_note_durations = minimum_note_durations_df.to_dict()\n",
    "\n",
    "binned_durations = {}\n",
    "for key,value in total_piece_durations.items():\n",
    "    piece_staff = df[(df['piece'] == key[0]) & (df['staff'] == key[1])]\n",
    "\n",
    "    min_note = minimum_note_durations[key]\n",
    "    sampling_period = min_note/time_unit\n",
    "\n",
    "    bins = np.arange(0, (value+sampling_period+1e-10), sampling_period)\n",
    "    binned_onsets = pd.cut(piece_staff['global_onset'], bins, right = False)\n",
    "    binned_durations[key] = piece_staff.groupby(binned_onsets)['duration'].sum().apply(float)"
   ]
  },
  {
   "cell_type": "code",
   "execution_count": 275,
   "metadata": {
    "pycharm": {
     "name": "#%%\n"
    }
   },
   "outputs": [
    {
     "name": "stdout",
     "output_type": "stream",
     "text": [
      "[('n01op18-1_01', 3, '3/4')]\n",
      "piece         staff\n",
      "n01op18-1_01  3        1/16\n",
      "Name: duration, dtype: object\n",
      "Metrical weights of Piece: n01op18-1_01, Staff: 3\n"
     ]
    },
    {
     "data": {
      "image/png": "[encoded data removed]",
      "text/plain": [
       "<Figure size 1800x720 with 1 Axes>"
      ]
     },
     "metadata": {
      "needs_background": "light"
     },
     "output_type": "display_data"
    }
   ],
   "source": [
    "# Now we can print the metrical weights of a random piece + staff\n",
    "random_piece_staff = df[['piece', 'staff','timesig']].sample(n=1).to_records(index=False)\n",
    "print(random_piece_staff)\n",
    "random_piece_staff = random_piece_staff[['piece', 'staff']]\n",
    "key = tuple(random_piece_staff[0])\n",
    "one_piece_staff = df[(df['piece'] == key[0]) & (df['staff'] == key[1])]\n",
    "print(one_piece_staff.groupby(['piece','staff'])['duration'].min())\n",
    "print(\"Metrical weights of Piece: {piece}, Staff: {staff}\".format(piece = key[0], staff = key[1]))\n",
    "\n",
    "binned_durations[key].plot(figsize=(25,10));"
   ]
  },
  {
   "cell_type": "markdown",
   "metadata": {},
   "source": [
    "## 2. From metrical weights to periodicities"
   ]
  },
  {
   "cell_type": "code",
   "execution_count": 276,
   "metadata": {},
   "outputs": [
    {
     "name": "stdout",
     "output_type": "stream",
     "text": [
      "1/4\n",
      "0.25\n"
     ]
    },
    {
     "data": {
      "image/png": "[encoded data removed]",
      "text/plain": [
       "<Figure size 432x288 with 1 Axes>"
      ]
     },
     "metadata": {
      "needs_background": "light"
     },
     "output_type": "display_data"
    },
    {
     "data": {
      "text/html": [
       "<div>\n",
       "<style scoped>\n",
       "    .dataframe tbody tr th:only-of-type {\n",
       "        vertical-align: middle;\n",
       "    }\n",
       "\n",
       "    .dataframe tbody tr th {\n",
       "        vertical-align: top;\n",
       "    }\n",
       "\n",
       "    .dataframe thead th {\n",
       "        text-align: right;\n",
       "    }\n",
       "</style>\n",
       "<table border=\"1\" class=\"dataframe\">\n",
       "  <thead>\n",
       "    <tr style=\"text-align: right;\">\n",
       "      <th></th>\n",
       "      <th>freq</th>\n",
       "      <th>amp</th>\n",
       "    </tr>\n",
       "  </thead>\n",
       "  <tbody>\n",
       "    <tr>\n",
       "      <th>3748</th>\n",
       "      <td>1.999467</td>\n",
       "      <td>124.471136</td>\n",
       "    </tr>\n",
       "    <tr>\n",
       "      <th>1874</th>\n",
       "      <td>0.999733</td>\n",
       "      <td>72.896587</td>\n",
       "    </tr>\n",
       "    <tr>\n",
       "      <th>1873</th>\n",
       "      <td>0.999733</td>\n",
       "      <td>58.697656</td>\n",
       "    </tr>\n",
       "    <tr>\n",
       "      <th>3123</th>\n",
       "      <td>1.666578</td>\n",
       "      <td>54.685035</td>\n",
       "    </tr>\n",
       "    <tr>\n",
       "      <th>1249</th>\n",
       "      <td>0.666844</td>\n",
       "      <td>48.234514</td>\n",
       "    </tr>\n",
       "    <tr>\n",
       "      <th>2500</th>\n",
       "      <td>1.333689</td>\n",
       "      <td>43.719283</td>\n",
       "    </tr>\n",
       "    <tr>\n",
       "      <th>624</th>\n",
       "      <td>0.332889</td>\n",
       "      <td>38.943169</td>\n",
       "    </tr>\n",
       "    <tr>\n",
       "      <th>3744</th>\n",
       "      <td>1.997333</td>\n",
       "      <td>33.404090</td>\n",
       "    </tr>\n",
       "    <tr>\n",
       "      <th>3746</th>\n",
       "      <td>1.998400</td>\n",
       "      <td>30.081607</td>\n",
       "    </tr>\n",
       "    <tr>\n",
       "      <th>1875</th>\n",
       "      <td>1.000800</td>\n",
       "      <td>29.557085</td>\n",
       "    </tr>\n",
       "    <tr>\n",
       "      <th>632</th>\n",
       "      <td>0.337157</td>\n",
       "      <td>29.108513</td>\n",
       "    </tr>\n",
       "    <tr>\n",
       "      <th>1867</th>\n",
       "      <td>0.996532</td>\n",
       "      <td>26.579108</td>\n",
       "    </tr>\n",
       "    <tr>\n",
       "      <th>1870</th>\n",
       "      <td>0.997599</td>\n",
       "      <td>25.205978</td>\n",
       "    </tr>\n",
       "    <tr>\n",
       "      <th>3117</th>\n",
       "      <td>1.663377</td>\n",
       "      <td>23.324716</td>\n",
       "    </tr>\n",
       "    <tr>\n",
       "      <th>3100</th>\n",
       "      <td>1.653774</td>\n",
       "      <td>22.659502</td>\n",
       "    </tr>\n",
       "    <tr>\n",
       "      <th>2505</th>\n",
       "      <td>1.336890</td>\n",
       "      <td>21.195804</td>\n",
       "    </tr>\n",
       "    <tr>\n",
       "      <th>1882</th>\n",
       "      <td>1.004001</td>\n",
       "      <td>21.141993</td>\n",
       "    </tr>\n",
       "    <tr>\n",
       "      <th>626</th>\n",
       "      <td>0.333956</td>\n",
       "      <td>20.944507</td>\n",
       "    </tr>\n",
       "    <tr>\n",
       "      <th>1250</th>\n",
       "      <td>0.666844</td>\n",
       "      <td>20.686659</td>\n",
       "    </tr>\n",
       "    <tr>\n",
       "      <th>1850</th>\n",
       "      <td>0.986930</td>\n",
       "      <td>20.597476</td>\n",
       "    </tr>\n",
       "  </tbody>\n",
       "</table>\n",
       "</div>"
      ],
      "text/plain": [
       "          freq         amp\n",
       "3748  1.999467  124.471136\n",
       "1874  0.999733   72.896587\n",
       "1873  0.999733   58.697656\n",
       "3123  1.666578   54.685035\n",
       "1249  0.666844   48.234514\n",
       "2500  1.333689   43.719283\n",
       "624   0.332889   38.943169\n",
       "3744  1.997333   33.404090\n",
       "3746  1.998400   30.081607\n",
       "1875  1.000800   29.557085\n",
       "632   0.337157   29.108513\n",
       "1867  0.996532   26.579108\n",
       "1870  0.997599   25.205978\n",
       "3117  1.663377   23.324716\n",
       "3100  1.653774   22.659502\n",
       "2505  1.336890   21.195804\n",
       "1882  1.004001   21.141993\n",
       "626   0.333956   20.944507\n",
       "1250  0.666844   20.686659\n",
       "1850  0.986930   20.597476"
      ]
     },
     "execution_count": 276,
     "metadata": {},
     "output_type": "execute_result"
    }
   ],
   "source": [
    "from scipy.fftpack import fft, ifft, fftfreq, rfft, rfftfreq\n",
    "\n",
    "x = binned_durations[key].index.tolist()\n",
    "\n",
    "# X = []\n",
    "# for i in range(len(x)):\n",
    "#     X.append(x[i].left)\n",
    "\n",
    "y = binned_durations[key]\n",
    "y = y.tolist()\n",
    "\n",
    "# Number of sample points\n",
    "N = len(x)\n",
    "# sample spacing\n",
    "T = x[1].left\n",
    "print(fractions.Fraction(T))\n",
    "print(T)\n",
    "\n",
    "yf = rfft(y)\n",
    "xf = rfftfreq(N, T)#/T\n",
    "\n",
    "plt.plot(xf, np.abs(yf))\n",
    "plt.grid()\n",
    "plt.show()\n",
    "\n",
    "amplitudes = np.abs(yf)\n",
    "\n",
    "a = np.array(tuple(zip(xf,amplitudes)))\n",
    "\n",
    "fourier_df = pd.DataFrame(a, columns = ['freq', 'amp'])\n",
    "fourier_df['freq'] = fourier_df['freq']\n",
    "\n",
    "# bins = np.arange(0, (value+sampling_period+1e-10), sampling_period)\n",
    "# binned_onsets = pd.cut(piece_staff['global_onset'], bins, right = False)\n",
    "\n",
    "fourier_df.sort_values(by='amp', ascending=False).head(21).tail(20)"
   ]
  },
  {
   "cell_type": "code",
   "execution_count": null,
   "metadata": {},
   "outputs": [],
   "source": []
  },
  {
   "cell_type": "code",
   "execution_count": null,
   "metadata": {},
   "outputs": [],
   "source": []
  },
  {
   "cell_type": "code",
   "execution_count": null,
   "metadata": {},
   "outputs": [],
   "source": []
  }
 ],
 "metadata": {
  "kernelspec": {
   "display_name": "Python 3 (ipykernel)",
   "language": "python",
   "name": "python3"
  },
  "language_info": {
   "codemirror_mode": {
    "name": "ipython",
    "version": 3
   },
   "file_extension": ".py",
   "mimetype": "text/x-python",
   "name": "python",
   "nbconvert_exporter": "python",
   "pygments_lexer": "ipython3",
   "version": "3.9.10"
  }
 },
 "nbformat": 4,
 "nbformat_minor": 4
}
