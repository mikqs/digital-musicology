{
 "cells": [
  {
   "cell_type": "markdown",
   "metadata": {
    "pycharm": {
     "name": "#%% md\n"
    }
   },
   "source": [
    "# Digital Musicology (DH-401)\n",
    "## Assignment 1: Discovering meter\n",
    "Group 6\n",
    "- Mickaël Achkar\n",
    "- Yichen Wang\n",
    "- Yinghui Jiang"
   ]
  },
  {
   "cell_type": "markdown",
   "metadata": {},
   "source": [
    "Rough outline\n",
    "## 0. Data preparation\n",
    "## 1. From musical score to metrical weights\n",
    "## 2. From metrical weights to periodicities\n",
    "## 3. From periodicities to time signature\n",
    "## 4. Accuracy of classification\n",
    "\n",
    "#TODO:\n",
    "- consider grace notes as normal notes (replace 'duration' with 'nominal_duration',\n",
    "because 'duration' is empty for them) -> check before/after impact to classification\n",
    "- we also need to sum up durations of tied notes based on piece and staff and voice\n",
    "- use appropriate method to extract frequencies/periodicities\n",
    "- use appropriate method to infer time signature\n",
    "- create simple classification accuracy measure with Ground Truth"
   ]
  },
  {
   "cell_type": "code",
   "execution_count": 1,
   "metadata": {
    "pycharm": {
     "name": "#%%\n"
    }
   },
   "outputs": [],
   "source": [
    "import ms3\n",
    "import pandas as pd\n",
    "import numpy as np\n",
    "import math\n",
    "import fractions\n",
    "import matplotlib.pyplot as plt\n",
    "from scipy.fftpack import rfft, rfftfreq\n",
    "from scipy.signal import find_peaks, get_window\n",
    "from statsmodels.graphics.tsaplots import plot_acf\n",
    "import statsmodels.api as sm\n",
    "from sklearn.model_selection import train_test_split\n",
    "from sklearn.ensemble import RandomForestClassifier  \n",
    "from sklearn import metrics"
   ]
  },
  {
   "cell_type": "markdown",
   "metadata": {
    "pycharm": {
     "name": "#%% md\n"
    }
   },
   "source": [
    "## 0. Data preparation"
   ]
  },
  {
   "cell_type": "code",
   "execution_count": 2,
   "metadata": {
    "pycharm": {
     "name": "#%%\n"
    }
   },
   "outputs": [],
   "source": [
    "# This is the time unit of 'global_onset' used in the dataset\n",
    "time_unit = 1/4\n",
    "\n",
    "meter_dataset = pd.read_csv('DM2022 - Assignment 1 [Dataset].csv', index_col = 0, converters = {'global_onset':fractions.Fraction, 'duration': fractions.Fraction})\n",
    "meter_dataset = meter_dataset[['piece', 'staff', 'timesig', 'voice', 'global_onset', 'duration', 'tied', 'gracenote']]\n",
    "\n",
    "# Ignore gracenotes for now\n",
    "meter_dataset = meter_dataset[meter_dataset['gracenote'].isna()].drop(columns = ['gracenote'])\n",
    "\n",
    "meter_dataset = meter_dataset.sort_values(by=['piece','staff','voice','global_onset']).reset_index(drop=True)\n",
    "\n",
    "timesignatures = [fractions.Fraction(timesig) for timesig in meter_dataset['timesig']]\n",
    "max_bar_length = max(timesignatures)"
   ]
  },
  {
   "cell_type": "code",
   "execution_count": 3,
   "metadata": {},
   "outputs": [
    {
     "name": "stdout",
     "output_type": "stream",
     "text": [
      "CPU times: user 275 ms, sys: 34.2 ms, total: 309 ms\n",
      "Wall time: 347 ms\n"
     ]
    }
   ],
   "source": [
    "%%time\n",
    "\n",
    "untied_df = meter_dataset\n",
    "tied_df = meter_dataset\n",
    "\n",
    "# Aggregating ties (to verify if this is worse or better)\n",
    "blocks = (tied_df.tied.ne(tied_df.tied.shift()) & tied_df.tied.ne(tied_df.tied.shift() - 2) & tied_df.tied.ne(tied_df.tied.shift() - 1)).cumsum()\n",
    "tied_df = tied_df.groupby(blocks, as_index=False).agg({'piece':'first', 'staff':'first', 'voice':'first', 'timesig':'first', 'global_onset':'first', 'duration':'sum', 'tied':'first'})\n",
    "\n",
    "# not optimized\n",
    "# tied_df = pd.DataFrame(columns=['piece', 'staff', 'voice', 'global_onset', 'duration', 'tied', 'timesig'])\n",
    "# for index, row in wdf.iterrows():\n",
    "#     if pd.isnull(row['tied']):\n",
    "#         tied_df.loc[index]=row\n",
    "#     if row['tied'] == 1:\n",
    "#         tied_df.loc[index]=row\n",
    "#         subindex = index\n",
    "#         while wdf.loc[subindex + 1]['tied'].item() == 0:\n",
    "#             tied_df.loc[index]['duration'] += wdf.loc[subindex + 1]['duration']\n",
    "#             subindex += 1\n",
    "#         else:\n",
    "#             tied_df.loc[index]['duration'] += wdf.loc[subindex + 1]['duration']\n"
   ]
  },
  {
   "cell_type": "code",
   "execution_count": 4,
   "metadata": {},
   "outputs": [],
   "source": [
    "df = tied_df\n",
    "#df = untied_df"
   ]
  },
  {
   "cell_type": "markdown",
   "metadata": {},
   "source": [
    "## 1. From musical score to metrical weights"
   ]
  },
  {
   "cell_type": "code",
   "execution_count": 5,
   "metadata": {
    "pycharm": {
     "name": "#%%\n"
    }
   },
   "outputs": [
    {
     "name": "stdout",
     "output_type": "stream",
     "text": [
      "Smallest note length in dataset: 1/32\n"
     ]
    },
    {
     "data": {
      "text/html": [
       "<div>\n",
       "<style scoped>\n",
       "    .dataframe tbody tr th:only-of-type {\n",
       "        vertical-align: middle;\n",
       "    }\n",
       "\n",
       "    .dataframe tbody tr th {\n",
       "        vertical-align: top;\n",
       "    }\n",
       "\n",
       "    .dataframe thead th {\n",
       "        text-align: right;\n",
       "    }\n",
       "</style>\n",
       "<table border=\"1\" class=\"dataframe\">\n",
       "  <thead>\n",
       "    <tr style=\"text-align: right;\">\n",
       "      <th></th>\n",
       "      <th>piece</th>\n",
       "      <th>staff</th>\n",
       "      <th>voice</th>\n",
       "      <th>timesig</th>\n",
       "      <th>global_onset</th>\n",
       "      <th>duration</th>\n",
       "      <th>tied</th>\n",
       "    </tr>\n",
       "  </thead>\n",
       "  <tbody>\n",
       "    <tr>\n",
       "      <th>28794</th>\n",
       "      <td>K309-1</td>\n",
       "      <td>1</td>\n",
       "      <td>1</td>\n",
       "      <td>4/4</td>\n",
       "      <td>0</td>\n",
       "      <td>1/2</td>\n",
       "      <td>NaN</td>\n",
       "    </tr>\n",
       "    <tr>\n",
       "      <th>28795</th>\n",
       "      <td>K309-1</td>\n",
       "      <td>1</td>\n",
       "      <td>1</td>\n",
       "      <td>4/4</td>\n",
       "      <td>2</td>\n",
       "      <td>1/2</td>\n",
       "      <td>NaN</td>\n",
       "    </tr>\n",
       "    <tr>\n",
       "      <th>28796</th>\n",
       "      <td>K309-1</td>\n",
       "      <td>1</td>\n",
       "      <td>1</td>\n",
       "      <td>4/4</td>\n",
       "      <td>4</td>\n",
       "      <td>3/8</td>\n",
       "      <td>NaN</td>\n",
       "    </tr>\n",
       "    <tr>\n",
       "      <th>28797</th>\n",
       "      <td>K309-1</td>\n",
       "      <td>1</td>\n",
       "      <td>1</td>\n",
       "      <td>4/4</td>\n",
       "      <td>11/2</td>\n",
       "      <td>1/16</td>\n",
       "      <td>NaN</td>\n",
       "    </tr>\n",
       "    <tr>\n",
       "      <th>28798</th>\n",
       "      <td>K309-1</td>\n",
       "      <td>1</td>\n",
       "      <td>1</td>\n",
       "      <td>4/4</td>\n",
       "      <td>23/4</td>\n",
       "      <td>1/16</td>\n",
       "      <td>NaN</td>\n",
       "    </tr>\n",
       "    <tr>\n",
       "      <th>...</th>\n",
       "      <td>...</td>\n",
       "      <td>...</td>\n",
       "      <td>...</td>\n",
       "      <td>...</td>\n",
       "      <td>...</td>\n",
       "      <td>...</td>\n",
       "      <td>...</td>\n",
       "    </tr>\n",
       "    <tr>\n",
       "      <th>29790</th>\n",
       "      <td>K309-1</td>\n",
       "      <td>1</td>\n",
       "      <td>1</td>\n",
       "      <td>4/4</td>\n",
       "      <td>618</td>\n",
       "      <td>1/4</td>\n",
       "      <td>NaN</td>\n",
       "    </tr>\n",
       "    <tr>\n",
       "      <th>29791</th>\n",
       "      <td>K309-1</td>\n",
       "      <td>1</td>\n",
       "      <td>2</td>\n",
       "      <td>4/4</td>\n",
       "      <td>200</td>\n",
       "      <td>1/8</td>\n",
       "      <td>NaN</td>\n",
       "    </tr>\n",
       "    <tr>\n",
       "      <th>29792</th>\n",
       "      <td>K309-1</td>\n",
       "      <td>1</td>\n",
       "      <td>2</td>\n",
       "      <td>4/4</td>\n",
       "      <td>401/2</td>\n",
       "      <td>1/8</td>\n",
       "      <td>NaN</td>\n",
       "    </tr>\n",
       "    <tr>\n",
       "      <th>29793</th>\n",
       "      <td>K309-1</td>\n",
       "      <td>1</td>\n",
       "      <td>2</td>\n",
       "      <td>4/4</td>\n",
       "      <td>576</td>\n",
       "      <td>1/8</td>\n",
       "      <td>NaN</td>\n",
       "    </tr>\n",
       "    <tr>\n",
       "      <th>29794</th>\n",
       "      <td>K309-1</td>\n",
       "      <td>1</td>\n",
       "      <td>2</td>\n",
       "      <td>4/4</td>\n",
       "      <td>1153/2</td>\n",
       "      <td>1/8</td>\n",
       "      <td>NaN</td>\n",
       "    </tr>\n",
       "  </tbody>\n",
       "</table>\n",
       "<p>1001 rows × 7 columns</p>\n",
       "</div>"
      ],
      "text/plain": [
       "        piece  staff  voice timesig global_onset duration  tied\n",
       "28794  K309-1      1      1     4/4            0      1/2   NaN\n",
       "28795  K309-1      1      1     4/4            2      1/2   NaN\n",
       "28796  K309-1      1      1     4/4            4      3/8   NaN\n",
       "28797  K309-1      1      1     4/4         11/2     1/16   NaN\n",
       "28798  K309-1      1      1     4/4         23/4     1/16   NaN\n",
       "...       ...    ...    ...     ...          ...      ...   ...\n",
       "29790  K309-1      1      1     4/4          618      1/4   NaN\n",
       "29791  K309-1      1      2     4/4          200      1/8   NaN\n",
       "29792  K309-1      1      2     4/4        401/2      1/8   NaN\n",
       "29793  K309-1      1      2     4/4          576      1/8   NaN\n",
       "29794  K309-1      1      2     4/4       1153/2      1/8   NaN\n",
       "\n",
       "[1001 rows x 7 columns]"
      ]
     },
     "execution_count": 5,
     "metadata": {},
     "output_type": "execute_result"
    },
    {
     "data": {
      "image/png": "[encoded data removed]",
      "text/plain": [
       "<Figure size 1728x360 with 1 Axes>"
      ]
     },
     "metadata": {
      "needs_background": "light"
     },
     "output_type": "display_data"
    }
   ],
   "source": [
    "# Select one piece and staff (time signature may change per staff)\n",
    "one_piece_staff = df[(df['piece'] == 'K309-1') & (df['staff'] == 1)]\n",
    "\n",
    "# To fine-tune sampling, get minimum note duration among all notes in the piece/staff\n",
    "min_note = float(one_piece_staff['duration'].min())\n",
    "print(\"Smallest note length in dataset:\", fractions.Fraction(min_note))\n",
    "\n",
    "sampling_period = min_note/time_unit\n",
    "total_piece_duration = one_piece_staff['global_onset'].max()\n",
    "\n",
    "# Partition the global_onsets in bins\n",
    "bins = np.arange(0, (total_piece_duration+sampling_period+1e-10), sampling_period)\n",
    "binned_onsets = pd.cut(one_piece_staff['global_onset'], bins, right = False)\n",
    "\n",
    "# Compute the sum of durations of all events with onsets in each bin\n",
    "summed_durations = one_piece_staff.groupby(binned_onsets)['duration'].sum().apply(float)\n",
    "summed_durations.plot(figsize=(24,5));\n",
    "\n",
    "one_piece_staff"
   ]
  },
  {
   "cell_type": "code",
   "execution_count": 6,
   "metadata": {
    "pycharm": {
     "name": "#%%\n"
    }
   },
   "outputs": [
    {
     "name": "stdout",
     "output_type": "stream",
     "text": [
      "CPU times: user 1min 33s, sys: 1.2 s, total: 1min 34s\n",
      "Wall time: 1min 39s\n"
     ]
    }
   ],
   "source": [
    "%%time\n",
    "\n",
    "# For all pieces and staves (This operation takes around 2-3 minutes on our computer)\n",
    "\n",
    "# Create dictionaries of total piece durations and smallest notes in each piece/staff\n",
    "total_piece_durations_df = df.groupby(['piece','staff'])['global_onset'].max().apply(float)\n",
    "minimum_note_durations_df = df.groupby(['piece','staff'])['duration'].min().apply(float)\n",
    "total_piece_durations = total_piece_durations_df.to_dict()\n",
    "minimum_note_durations = minimum_note_durations_df.to_dict()\n",
    "\n",
    "summed_durations = {}\n",
    "for key,value in total_piece_durations.items():\n",
    "    piece_staff = df[(df['piece'] == key[0]) & (df['staff'] == key[1])]\n",
    "\n",
    "    min_note = minimum_note_durations[key]\n",
    "    sampling_period = min_note/time_unit\n",
    "\n",
    "    bins = np.arange(0, (value+sampling_period+1e-10), sampling_period)\n",
    "    binned_onsets = pd.cut(piece_staff['global_onset'], bins, right = False)\n",
    "    summed_durations[key] = piece_staff.groupby(binned_onsets)['duration'].sum().apply(float)"
   ]
  },
  {
   "cell_type": "code",
   "execution_count": 7,
   "metadata": {
    "pycharm": {
     "name": "#%%\n"
    }
   },
   "outputs": [
    {
     "name": "stdout",
     "output_type": "stream",
     "text": [
      "Metrical weights of Piece: n13op130_06, Staff: 1, Time Signature: 2/4\n"
     ]
    },
    {
     "data": {
      "image/png": "[encoded data removed]",
      "text/plain": [
       "<Figure size 1800x720 with 1 Axes>"
      ]
     },
     "metadata": {
      "needs_background": "light"
     },
     "output_type": "display_data"
    }
   ],
   "source": [
    "# Now we can plot the metrical weights of a random piece + staff\n",
    "random_piece_staff = df[['piece', 'staff']].sample(n=1).to_records(index=False)\n",
    "key = tuple(random_piece_staff[0])\n",
    "\n",
    "# Get timesignature for reference\n",
    "timesig = df[(df['piece'] == key[0]) & (df['staff'] == key[1])]['timesig'].sample(n=1).item()\n",
    "\n",
    "print(\"Metrical weights of Piece: {piece}, Staff: {staff}, Time Signature: {timesig}\".format(piece = key[0], staff = key[1], timesig=timesig))\n",
    "\n",
    "# Plot metrical weights\n",
    "summed_durations[key].plot(figsize=(25,10));\n"
   ]
  },
  {
   "cell_type": "markdown",
   "metadata": {},
   "source": [
    "## 2. From metrical weights to periodicities"
   ]
  },
  {
   "cell_type": "code",
   "execution_count": 8,
   "metadata": {},
   "outputs": [
    {
     "name": "stdout",
     "output_type": "stream",
     "text": [
      "Periodicity analysis of Piece: n13op130_06, Staff: 1, Time Signature: 2/4\n"
     ]
    },
    {
     "data": {
      "image/png": "[encoded data removed]",
      "text/plain": [
       "<Figure size 432x288 with 1 Axes>"
      ]
     },
     "metadata": {
      "needs_background": "light"
     },
     "output_type": "display_data"
    },
    {
     "name": "stdout",
     "output_type": "stream",
     "text": [
      "   frequency (cycles/whole note) period (1/f)  amplitude\n",
      "4                       3.998984          1/4  16.278495\n",
      "8                       7.985776          1/8  14.030695\n",
      "2                       1.999492          1/2   8.622993\n",
      "6                       5.998476          1/6   6.434284\n",
      "0                       0.089408       727/65   6.200749\n",
      "7                       7.075438        13/92   4.194536\n",
      "1                       0.926594        68/63   4.107328\n",
      "3                       3.019558       33/100   3.957606\n",
      "5                       4.925578        13/64   3.929537\n"
     ]
    },
    {
     "data": {
      "image/png": "[encoded data removed]",
      "text/plain": [
       "<Figure size 432x288 with 1 Axes>"
      ]
     },
     "metadata": {
      "needs_background": "light"
     },
     "output_type": "display_data"
    },
    {
     "name": "stdout",
     "output_type": "stream",
     "text": [
      "   lag (whole notes)  autocorrelation\n",
      "8                1/2         0.484532\n",
      "32                 2         0.452457\n",
      "16                 1         0.409059\n",
      "24               3/2         0.370783\n",
      "4                1/4         0.349581\n",
      "36               9/4         0.326307\n",
      "28               7/4         0.321638\n",
      "12               3/4         0.308896\n",
      "20               5/4         0.297552\n",
      "2                1/8         0.234266\n",
      "22              11/8         0.231336\n",
      "18               9/8         0.228377\n",
      "34              17/8         0.227581\n",
      "26              13/8         0.227441\n",
      "10               5/8         0.220946\n",
      "30              15/8         0.219781\n",
      "14               7/8         0.214763\n",
      "6                3/8         0.212744\n"
     ]
    }
   ],
   "source": [
    "print(\"Periodicity analysis of Piece: {piece}, Staff: {staff}, Time Signature: {timesig}\".format(piece = key[0], staff = key[1], timesig=timesig))\n",
    "\n",
    "x = summed_durations[key].index.tolist()\n",
    "y = summed_durations[key].tolist()\n",
    "\n",
    "# Number of sample points\n",
    "N = len(x)\n",
    "# Sample spacing (in units of time_unit)\n",
    "T = x[1].left\n",
    "\n",
    "################################################################\n",
    "# Window the signal to reduce spectral leakage in the FFT (a good practise)\n",
    "window = get_window('hann', N)\n",
    "\n",
    "# Compute Fourier transform of signal\n",
    "yf = rfft(y * window)\n",
    "xf = rfftfreq(N, T)\n",
    "# Convert frequencies to units of cycles/whole note\n",
    "xf = xf/time_unit\n",
    "# Convert Fourier output to real-valued amplitudes\n",
    "amplitudes = np.abs(yf)\n",
    "\n",
    "# Find significant peaks (using min distance between neighbouring peaks)\n",
    "peaks, _ = find_peaks(amplitudes, distance=N*.07)\n",
    "\n",
    "##### Plot Right Fast Fourier Transform #####\n",
    "plt.plot(xf, amplitudes)\n",
    "plt.plot(xf[peaks], amplitudes[peaks], \"x\")\n",
    "plt.xlabel('Frequencies in units of cycles/whole note')\n",
    "plt.grid()\n",
    "plt.show()\n",
    "\n",
    "##### Get top frequencies (and periods) #####\n",
    "fourier_peaks = np.array(tuple(zip(xf[peaks], 1/xf[peaks], amplitudes[peaks])))\n",
    "# Create DataFrame\n",
    "fourier_df = pd.DataFrame(fourier_peaks, columns = ['frequency (cycles/whole note)', 'period (1/f)', 'amplitude'])\n",
    "# Convert period (1/f) to Fractions\n",
    "fourier_df['period (1/f)'] = [fractions.Fraction(period).limit_denominator(100) for period in fourier_df['period (1/f)']]\n",
    "# Sort in descending order\n",
    "fourier_df_sorted = fourier_df.sort_values(by='amplitude', ascending=False)\n",
    "print(fourier_df_sorted)\n",
    "\n",
    "################################################################\n",
    "# Create a window with the first few lags\n",
    "# The window length will correspond to the maximum bar length (time signature) found in the dataset in the units of whole notes\n",
    "nlags = math.ceil(max_bar_length / (T*time_unit))\n",
    "\n",
    "##### Plot autocorrelations with respect to first few lags #####\n",
    "plot_acf(y, lags=nlags)\n",
    "plt.xlabel('Lag in units of {} notes'.format(fractions.Fraction(T*time_unit).limit_denominator(100)))\n",
    "plt.grid()\n",
    "plt.show()\n",
    "\n",
    "##### Get top autocorrelations #####\n",
    "autocorr = sm.tsa.acf(y, nlags=nlags)\n",
    "# Convert lags in units of whole notes\n",
    "converted_lags = range(len(autocorr)) * (T*time_unit)\n",
    "# Create DataFrame\n",
    "autocorr_df = pd.DataFrame(tuple(zip(converted_lags, autocorr)), columns = ['lag (whole notes)','autocorrelation'])\n",
    "# Convert lags to Fractions\n",
    "autocorr_df['lag (whole notes)'] = [fractions.Fraction(onset).limit_denominator(100) for onset in autocorr_df['lag (whole notes)']]\n",
    "# Sort in descending order\n",
    "autocorr_df_sorted = autocorr_df.sort_values(ascending=False, by='autocorrelation').where(autocorr_df.autocorrelation > 0).dropna().drop(0)\n",
    "print(autocorr_df_sorted)\n",
    "\n"
   ]
  },
  {
   "cell_type": "markdown",
   "metadata": {},
   "source": [
    "## 3. From periodicities to time signature"
   ]
  },
  {
   "cell_type": "code",
   "execution_count": 9,
   "metadata": {},
   "outputs": [],
   "source": [
    "def top_periodicities(piece_staff):\n",
    "    x = summed_durations[piece_staff].index.tolist()\n",
    "    y = summed_durations[piece_staff].tolist()\n",
    "    \n",
    "    # Number of sample points\n",
    "    N = len(x)\n",
    "    # Sample spacing (in units of time_unit)\n",
    "    T = x[1].left\n",
    "    \n",
    "    ################################################################\n",
    "    # Create a window with the first few lags\n",
    "    # The window length will correspond to the maximum bar length (time signature) found in the dataset in the units of whole notes\n",
    "    nlags = math.ceil(max_bar_length / (T*time_unit))\n",
    "\n",
    "    ##### Get top autocorrelations #####\n",
    "    autocorr = sm.tsa.acf(y, nlags=nlags)\n",
    "    # Convert lags in units of whole notes\n",
    "    converted_lags = range(len(autocorr)) * (T*time_unit)\n",
    "    # Create DataFrame\n",
    "    autocorr_df = pd.DataFrame(tuple(zip(converted_lags, autocorr)), columns = ['lag (whole notes)','autocorrelation'])\n",
    "    # Convert lags to Fractions\n",
    "    autocorr_df['lag (whole notes)'] = [fractions.Fraction(onset).limit_denominator(100) for onset in autocorr_df['lag (whole notes)']]\n",
    "    # Sort in descending order\n",
    "    autocorr_df_sorted = autocorr_df.sort_values(ascending=False, by='autocorrelation').where(autocorr_df.autocorrelation > 0).dropna().drop(0)\n",
    "    #print(autocorr_df_sorted.iloc[:10,0])\n",
    "    tops = autocorr_df_sorted.iloc[:10,0].to_numpy()\n",
    "    return tops\n",
    "    "
   ]
  },
  {
   "cell_type": "code",
   "execution_count": 10,
   "metadata": {
    "tags": []
   },
   "outputs": [],
   "source": [
    "ground_truth_df = df.groupby(['piece', 'staff'], as_index=False).first().drop(columns=['voice','global_onset','tied','duration'])\n",
    "\n",
    "periodicities = []\n",
    "for i in ground_truth_df.itertuples():\n",
    "    piece = i.piece\n",
    "    staff = i.staff\n",
    "    piece_staff = (piece, staff)\n",
    "    tops = top_periodicities(piece_staff)\n",
    "    periodicities.append(tops)"
   ]
  },
  {
   "cell_type": "code",
   "execution_count": 11,
   "metadata": {},
   "outputs": [
    {
     "data": {
      "text/html": [
       "<div>\n",
       "<style scoped>\n",
       "    .dataframe tbody tr th:only-of-type {\n",
       "        vertical-align: middle;\n",
       "    }\n",
       "\n",
       "    .dataframe tbody tr th {\n",
       "        vertical-align: top;\n",
       "    }\n",
       "\n",
       "    .dataframe thead th {\n",
       "        text-align: right;\n",
       "    }\n",
       "</style>\n",
       "<table border=\"1\" class=\"dataframe\">\n",
       "  <thead>\n",
       "    <tr style=\"text-align: right;\">\n",
       "      <th></th>\n",
       "      <th>piece</th>\n",
       "      <th>staff</th>\n",
       "      <th>timesig</th>\n",
       "      <th>p01</th>\n",
       "      <th>p02</th>\n",
       "      <th>p03</th>\n",
       "      <th>p04</th>\n",
       "      <th>p05</th>\n",
       "      <th>p06</th>\n",
       "      <th>p07</th>\n",
       "      <th>p08</th>\n",
       "      <th>p09</th>\n",
       "      <th>p10</th>\n",
       "    </tr>\n",
       "  </thead>\n",
       "  <tbody>\n",
       "    <tr>\n",
       "      <th>0</th>\n",
       "      <td>K279-1</td>\n",
       "      <td>1</td>\n",
       "      <td>4/4</td>\n",
       "      <td>1</td>\n",
       "      <td>2</td>\n",
       "      <td>1/4</td>\n",
       "      <td>3/2</td>\n",
       "      <td>1/2</td>\n",
       "      <td>9/4</td>\n",
       "      <td>3/4</td>\n",
       "      <td>7/4</td>\n",
       "      <td>5/4</td>\n",
       "      <td>5/8</td>\n",
       "    </tr>\n",
       "    <tr>\n",
       "      <th>1</th>\n",
       "      <td>K279-1</td>\n",
       "      <td>2</td>\n",
       "      <td>4/4</td>\n",
       "      <td>2</td>\n",
       "      <td>1/4</td>\n",
       "      <td>1/2</td>\n",
       "      <td>7/4</td>\n",
       "      <td>9/4</td>\n",
       "      <td>1</td>\n",
       "      <td>3/2</td>\n",
       "      <td>1/8</td>\n",
       "      <td>3/4</td>\n",
       "      <td>5/4</td>\n",
       "    </tr>\n",
       "    <tr>\n",
       "      <th>2</th>\n",
       "      <td>K279-2</td>\n",
       "      <td>1</td>\n",
       "      <td>3/4</td>\n",
       "      <td>1/4</td>\n",
       "      <td>3/4</td>\n",
       "      <td>3/2</td>\n",
       "      <td>1/2</td>\n",
       "      <td>5/4</td>\n",
       "      <td>1</td>\n",
       "      <td>9/4</td>\n",
       "      <td>7/4</td>\n",
       "      <td>2</td>\n",
       "      <td>3/32</td>\n",
       "    </tr>\n",
       "    <tr>\n",
       "      <th>3</th>\n",
       "      <td>K279-2</td>\n",
       "      <td>2</td>\n",
       "      <td>3/4</td>\n",
       "      <td>1/4</td>\n",
       "      <td>3/4</td>\n",
       "      <td>1/2</td>\n",
       "      <td>3/2</td>\n",
       "      <td>1</td>\n",
       "      <td>5/4</td>\n",
       "      <td>2</td>\n",
       "      <td>218/97</td>\n",
       "      <td>173/99</td>\n",
       "      <td>233/100</td>\n",
       "    </tr>\n",
       "    <tr>\n",
       "      <th>4</th>\n",
       "      <td>K279-3</td>\n",
       "      <td>1</td>\n",
       "      <td>2/4</td>\n",
       "      <td>1/2</td>\n",
       "      <td>1</td>\n",
       "      <td>2</td>\n",
       "      <td>3/2</td>\n",
       "      <td>1/8</td>\n",
       "      <td>1/4</td>\n",
       "      <td>17/8</td>\n",
       "      <td>9/8</td>\n",
       "      <td>3/8</td>\n",
       "      <td>5/8</td>\n",
       "    </tr>\n",
       "    <tr>\n",
       "      <th>...</th>\n",
       "      <td>...</td>\n",
       "      <td>...</td>\n",
       "      <td>...</td>\n",
       "      <td>...</td>\n",
       "      <td>...</td>\n",
       "      <td>...</td>\n",
       "      <td>...</td>\n",
       "      <td>...</td>\n",
       "      <td>...</td>\n",
       "      <td>...</td>\n",
       "      <td>...</td>\n",
       "      <td>...</td>\n",
       "      <td>...</td>\n",
       "    </tr>\n",
       "    <tr>\n",
       "      <th>383</th>\n",
       "      <td>n16op135_03</td>\n",
       "      <td>4</td>\n",
       "      <td>6/8</td>\n",
       "      <td>3/4</td>\n",
       "      <td>3/8</td>\n",
       "      <td>3/2</td>\n",
       "      <td>9/8</td>\n",
       "      <td>15/8</td>\n",
       "      <td>9/4</td>\n",
       "      <td>17/8</td>\n",
       "      <td>None</td>\n",
       "      <td>None</td>\n",
       "      <td>None</td>\n",
       "    </tr>\n",
       "    <tr>\n",
       "      <th>384</th>\n",
       "      <td>n16op135_04</td>\n",
       "      <td>1</td>\n",
       "      <td>3/2</td>\n",
       "      <td>2</td>\n",
       "      <td>1</td>\n",
       "      <td>1/2</td>\n",
       "      <td>3/2</td>\n",
       "      <td>1/4</td>\n",
       "      <td>9/4</td>\n",
       "      <td>3/4</td>\n",
       "      <td>7/4</td>\n",
       "      <td>5/4</td>\n",
       "      <td>None</td>\n",
       "    </tr>\n",
       "    <tr>\n",
       "      <th>385</th>\n",
       "      <td>n16op135_04</td>\n",
       "      <td>2</td>\n",
       "      <td>3/2</td>\n",
       "      <td>2</td>\n",
       "      <td>1/2</td>\n",
       "      <td>3/2</td>\n",
       "      <td>1</td>\n",
       "      <td>1/4</td>\n",
       "      <td>3/4</td>\n",
       "      <td>9/4</td>\n",
       "      <td>7/4</td>\n",
       "      <td>5/4</td>\n",
       "      <td>None</td>\n",
       "    </tr>\n",
       "    <tr>\n",
       "      <th>386</th>\n",
       "      <td>n16op135_04</td>\n",
       "      <td>3</td>\n",
       "      <td>3/2</td>\n",
       "      <td>2</td>\n",
       "      <td>1/2</td>\n",
       "      <td>3/2</td>\n",
       "      <td>1</td>\n",
       "      <td>3/4</td>\n",
       "      <td>9/4</td>\n",
       "      <td>7/4</td>\n",
       "      <td>1/4</td>\n",
       "      <td>5/4</td>\n",
       "      <td>None</td>\n",
       "    </tr>\n",
       "    <tr>\n",
       "      <th>387</th>\n",
       "      <td>n16op135_04</td>\n",
       "      <td>4</td>\n",
       "      <td>3/2</td>\n",
       "      <td>2</td>\n",
       "      <td>1</td>\n",
       "      <td>3/2</td>\n",
       "      <td>1/2</td>\n",
       "      <td>1/4</td>\n",
       "      <td>5/4</td>\n",
       "      <td>3/4</td>\n",
       "      <td>7/4</td>\n",
       "      <td>9/4</td>\n",
       "      <td>None</td>\n",
       "    </tr>\n",
       "  </tbody>\n",
       "</table>\n",
       "<p>388 rows × 13 columns</p>\n",
       "</div>"
      ],
      "text/plain": [
       "           piece  staff timesig  p01  p02  p03  p04   p05  p06   p07     p08  \\\n",
       "0         K279-1      1     4/4    1    2  1/4  3/2   1/2  9/4   3/4     7/4   \n",
       "1         K279-1      2     4/4    2  1/4  1/2  7/4   9/4    1   3/2     1/8   \n",
       "2         K279-2      1     3/4  1/4  3/4  3/2  1/2   5/4    1   9/4     7/4   \n",
       "3         K279-2      2     3/4  1/4  3/4  1/2  3/2     1  5/4     2  218/97   \n",
       "4         K279-3      1     2/4  1/2    1    2  3/2   1/8  1/4  17/8     9/8   \n",
       "..           ...    ...     ...  ...  ...  ...  ...   ...  ...   ...     ...   \n",
       "383  n16op135_03      4     6/8  3/4  3/8  3/2  9/8  15/8  9/4  17/8    None   \n",
       "384  n16op135_04      1     3/2    2    1  1/2  3/2   1/4  9/4   3/4     7/4   \n",
       "385  n16op135_04      2     3/2    2  1/2  3/2    1   1/4  3/4   9/4     7/4   \n",
       "386  n16op135_04      3     3/2    2  1/2  3/2    1   3/4  9/4   7/4     1/4   \n",
       "387  n16op135_04      4     3/2    2    1  3/2  1/2   1/4  5/4   3/4     7/4   \n",
       "\n",
       "        p09      p10  \n",
       "0       5/4      5/8  \n",
       "1       3/4      5/4  \n",
       "2         2     3/32  \n",
       "3    173/99  233/100  \n",
       "4       3/8      5/8  \n",
       "..      ...      ...  \n",
       "383    None     None  \n",
       "384     5/4     None  \n",
       "385     5/4     None  \n",
       "386     5/4     None  \n",
       "387     9/4     None  \n",
       "\n",
       "[388 rows x 13 columns]"
      ]
     },
     "execution_count": 11,
     "metadata": {},
     "output_type": "execute_result"
    }
   ],
   "source": [
    "df_autocorr = pd.DataFrame(periodicities, columns=['p01','p02','p03','p04','p05','p06','p07','p08','p09','p10',])\n",
    "ground_truth_and_features_df = pd.concat([ground_truth_df, df_autocorr],axis=1)\n",
    "ground_truth_and_features_df"
   ]
  },
  {
   "cell_type": "code",
   "execution_count": 12,
   "metadata": {},
   "outputs": [],
   "source": [
    "X= ground_truth_and_features_df.iloc[:,3:6].values\n",
    "y= ground_truth_and_features_df.iloc[:,2].values\n",
    "X_train, X_test, y_train, y_test = train_test_split(X, y, test_size = 0.25, random_state = 0)"
   ]
  },
  {
   "cell_type": "code",
   "execution_count": 22,
   "metadata": {},
   "outputs": [
    {
     "name": "stdout",
     "output_type": "stream",
     "text": [
      "Accuracy: 0.5773195876288659\n"
     ]
    }
   ],
   "source": [
    "model = RandomForestClassifier(n_estimators=100,bootstrap = True)\n",
    "model.fit(X_train, y_train)\n",
    "y_pred = model.predict(X_test)\n",
    "print(\"Accuracy:\",metrics.accuracy_score(y_test, y_pred))"
   ]
  },
  {
   "cell_type": "code",
   "execution_count": 14,
   "metadata": {},
   "outputs": [
    {
     "data": {
      "text/plain": [
       "array(['2/4', '2/4', '3/4', '6/8', '2/4', '2/4', '3/4', '2/4', '4/4',\n",
       "       '3/4', '2/2', '4/4', '2/4', '3/4', '3/4', '2/4', '4/4', '2/2',\n",
       "       '2/2', '6/8', '2/2', '6/8', '3/8', '2/2', '3/4', '4/4', '2/2',\n",
       "       '3/8', '2/4', '2/4', '2/2', '2/4', '2/2', '4/4', '3/4', '4/4',\n",
       "       '2/2', '3/4', '2/2', '2/4', '6/8', '6/8', '2/4', '3/8', '4/4',\n",
       "       '3/4', '2/4', '2/2', '2/4', '2/2', '2/2', '3/8', '4/4', '2/2',\n",
       "       '2/4', '3/4', '2/4', '3/4', '3/8', '3/4', '3/4', '4/4', '3/4',\n",
       "       '6/8', '3/4', '3/4', '6/8', '3/4', '4/4', '3/4', '3/4', '2/4',\n",
       "       '2/4', '4/4', '3/8', '2/4', '3/4', '2/2', '2/4', '3/4', '6/8',\n",
       "       '3/8', '3/4', '3/4', '6/8', '4/4', '3/4', '3/4', '2/2', '2/2',\n",
       "       '2/4', '4/4', '4/4', '3/4', '6/8', '2/2', '3/4'], dtype=object)"
      ]
     },
     "execution_count": 14,
     "metadata": {},
     "output_type": "execute_result"
    }
   ],
   "source": [
    "y_test"
   ]
  },
  {
   "cell_type": "code",
   "execution_count": 15,
   "metadata": {},
   "outputs": [
    {
     "data": {
      "text/plain": [
       "array(['2/4', '2/2', '3/4', '3/4', '3/4', '2/4', '2/2', '3/4', '2/2',\n",
       "       '3/4', '2/2', '2/4', '2/4', '3/4', '6/8', '3/2', '2/4', '2/4',\n",
       "       '2/2', '3/8', '2/2', '3/4', '6/8', '2/2', '3/4', '4/4', '2/2',\n",
       "       '3/8', '2/4', '2/4', '2/2', '2/2', '2/2', '3/4', '2/2', '2/2',\n",
       "       '2/2', '3/4', '2/2', '2/4', '3/8', '3/8', '3/4', '6/8', '2/4',\n",
       "       '3/4', '4/4', '2/2', '3/4', '2/2', '2/2', '6/8', '2/2', '2/2',\n",
       "       '2/4', '3/4', '2/4', '3/4', '6/8', '2/4', '3/4', '2/2', '2/2',\n",
       "       '6/8', '3/4', '4/4', '3/8', '3/4', '3/2', '3/4', '3/4', '3/4',\n",
       "       '2/4', '2/2', '3/8', '2/4', '3/4', '2/2', '3/4', '3/4', '6/8',\n",
       "       '3/4', '3/4', '3/4', '12/8', '4/4', '3/4', '3/4', '2/2', '2/2',\n",
       "       '2/2', '2/4', '4/4', '4/4', '2/2', '2/2', '3/4'], dtype=object)"
      ]
     },
     "execution_count": 15,
     "metadata": {},
     "output_type": "execute_result"
    }
   ],
   "source": [
    "y_pred"
   ]
  },
  {
   "cell_type": "code",
   "execution_count": null,
   "metadata": {},
   "outputs": [],
   "source": []
  }
 ],
 "metadata": {
  "kernelspec": {
   "display_name": "Python 3 (ipykernel)",
   "language": "python",
   "name": "python3"
  },
  "language_info": {
   "codemirror_mode": {
    "name": "ipython",
    "version": 3
   },
   "file_extension": ".py",
   "mimetype": "text/x-python",
   "name": "python",
   "nbconvert_exporter": "python",
   "pygments_lexer": "ipython3",
   "version": "3.9.10"
  }
 },
 "nbformat": 4,
 "nbformat_minor": 4
}
