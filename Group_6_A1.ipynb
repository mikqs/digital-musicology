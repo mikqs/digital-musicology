{
 "cells": [
  {
   "cell_type": "markdown",
   "metadata": {
    "pycharm": {
     "name": "#%% md\n"
    }
   },
   "source": [
    "# Digital Musicology (DH-401)\n",
    "## Assignment 1: Discovering meter\n",
    "Group 6\n",
    "- Mickaël Achkar\n",
    "- Yichen Wang\n",
    "- Yinghui Jiang"
   ]
  },
  {
   "cell_type": "markdown",
   "metadata": {},
   "source": [
    "#TODO:\n",
    "- consider grace notes as normal notes (replace 'duration' with 'nominal_duration',\n",
    "because 'duration' is empty for them) -> check before/after impact to classification\n",
    "- we also need to sum up durations of tied notes based on piece and staff and voice\n",
    "- use appropriate method to extract frequencies/periodicities\n",
    "- use appropriate method to infer time signature\n",
    "- create simple classification accuracy measure with Ground Truth"
   ]
  },
  {
   "cell_type": "code",
   "execution_count": 1,
   "metadata": {
    "pycharm": {
     "name": "#%%\n"
    }
   },
   "outputs": [],
   "source": [
    "import ms3\n",
    "import pandas as pd\n",
    "import numpy as np\n",
    "import math\n",
    "import fractions\n",
    "import matplotlib.pyplot as plt\n",
    "from scipy.fftpack import rfft, rfftfreq\n",
    "from scipy.signal import find_peaks, get_window\n",
    "from statsmodels.graphics.tsaplots import plot_acf\n",
    "import statsmodels.api as sm\n",
    "from sklearn.model_selection import train_test_split, validation_curve\n",
    "from sklearn.ensemble import RandomForestClassifier  \n",
    "from sklearn import metrics"
   ]
  },
  {
   "cell_type": "markdown",
   "metadata": {
    "pycharm": {
     "name": "#%% md\n"
    }
   },
   "source": [
    "## 0. Dataset preparation"
   ]
  },
  {
   "cell_type": "code",
   "execution_count": 2,
   "metadata": {
    "pycharm": {
     "name": "#%%\n"
    }
   },
   "outputs": [],
   "source": [
    "# This is the time unit of 'global_onset' used in the dataset\n",
    "time_unit = 1/4\n",
    "\n",
    "meter_dataset = pd.read_csv('DM2022 - Assignment 1 [Dataset].csv', index_col = 0, converters = {'global_onset':fractions.Fraction, 'duration': fractions.Fraction})\n",
    "meter_dataset = meter_dataset[['piece', 'staff', 'timesig', 'voice', 'global_onset', 'duration', 'tied', 'gracenote']]\n",
    "\n",
    "# Ignore gracenotes for now\n",
    "meter_dataset = meter_dataset[meter_dataset['gracenote'].isna()].drop(columns = ['gracenote'])\n",
    "\n",
    "# Sort dataset\n",
    "meter_dataset = meter_dataset.sort_values(by=['piece', 'staff', 'voice', 'global_onset']).reset_index(drop=True)\n",
    "\n",
    "# Get maximum bar length of the dataset for analysis later on\n",
    "timesignatures = [fractions.Fraction(timesig) for timesig in meter_dataset['timesig']]\n",
    "max_bar_length = max(timesignatures)"
   ]
  },
  {
   "cell_type": "code",
   "execution_count": 3,
   "metadata": {},
   "outputs": [
    {
     "name": "stdout",
     "output_type": "stream",
     "text": [
      "CPU times: user 218 ms, sys: 21.6 ms, total: 240 ms\n",
      "Wall time: 245 ms\n"
     ]
    }
   ],
   "source": [
    "%%time\n",
    "\n",
    "untied_df = meter_dataset\n",
    "tied_df = meter_dataset\n",
    "\n",
    "# Aggregating ties (to verify if this is worse or better)\n",
    "blocks = (tied_df.tied.ne(tied_df.tied.shift()) & tied_df.tied.ne(tied_df.tied.shift() - 2) & tied_df.tied.ne(tied_df.tied.shift() - 1)).cumsum()\n",
    "tied_df = tied_df.groupby(blocks, as_index=False).agg({'piece':'first', 'staff':'first', 'voice':'first', 'timesig':'first', 'global_onset':'first', 'duration':'sum', 'tied':'first'})"
   ]
  },
  {
   "cell_type": "code",
   "execution_count": 4,
   "metadata": {},
   "outputs": [],
   "source": [
    "#df = tied_df\n",
    "df = untied_df"
   ]
  },
  {
   "cell_type": "markdown",
   "metadata": {},
   "source": [
    "## 1. For one piece and staff"
   ]
  },
  {
   "cell_type": "markdown",
   "metadata": {},
   "source": [
    "### a. From musical score to metrical weights"
   ]
  },
  {
   "cell_type": "code",
   "execution_count": 5,
   "metadata": {
    "pycharm": {
     "name": "#%%\n"
    }
   },
   "outputs": [
    {
     "name": "stdout",
     "output_type": "stream",
     "text": [
      "Smallest note length in dataset: 1/32\n"
     ]
    },
    {
     "data": {
      "text/html": [
       "<div>\n",
       "<style scoped>\n",
       "    .dataframe tbody tr th:only-of-type {\n",
       "        vertical-align: middle;\n",
       "    }\n",
       "\n",
       "    .dataframe tbody tr th {\n",
       "        vertical-align: top;\n",
       "    }\n",
       "\n",
       "    .dataframe thead th {\n",
       "        text-align: right;\n",
       "    }\n",
       "</style>\n",
       "<table border=\"1\" class=\"dataframe\">\n",
       "  <thead>\n",
       "    <tr style=\"text-align: right;\">\n",
       "      <th></th>\n",
       "      <th>piece</th>\n",
       "      <th>staff</th>\n",
       "      <th>timesig</th>\n",
       "      <th>voice</th>\n",
       "      <th>global_onset</th>\n",
       "      <th>duration</th>\n",
       "      <th>tied</th>\n",
       "    </tr>\n",
       "  </thead>\n",
       "  <tbody>\n",
       "    <tr>\n",
       "      <th>64698</th>\n",
       "      <td>K332-3</td>\n",
       "      <td>1</td>\n",
       "      <td>6/8</td>\n",
       "      <td>1</td>\n",
       "      <td>1/4</td>\n",
       "      <td>1/16</td>\n",
       "      <td>NaN</td>\n",
       "    </tr>\n",
       "    <tr>\n",
       "      <th>64699</th>\n",
       "      <td>K332-3</td>\n",
       "      <td>1</td>\n",
       "      <td>6/8</td>\n",
       "      <td>1</td>\n",
       "      <td>1/2</td>\n",
       "      <td>1/16</td>\n",
       "      <td>NaN</td>\n",
       "    </tr>\n",
       "    <tr>\n",
       "      <th>64700</th>\n",
       "      <td>K332-3</td>\n",
       "      <td>1</td>\n",
       "      <td>6/8</td>\n",
       "      <td>1</td>\n",
       "      <td>3/4</td>\n",
       "      <td>1/16</td>\n",
       "      <td>NaN</td>\n",
       "    </tr>\n",
       "    <tr>\n",
       "      <th>64701</th>\n",
       "      <td>K332-3</td>\n",
       "      <td>1</td>\n",
       "      <td>6/8</td>\n",
       "      <td>1</td>\n",
       "      <td>1</td>\n",
       "      <td>1/16</td>\n",
       "      <td>NaN</td>\n",
       "    </tr>\n",
       "    <tr>\n",
       "      <th>64702</th>\n",
       "      <td>K332-3</td>\n",
       "      <td>1</td>\n",
       "      <td>6/8</td>\n",
       "      <td>1</td>\n",
       "      <td>5/4</td>\n",
       "      <td>1/16</td>\n",
       "      <td>NaN</td>\n",
       "    </tr>\n",
       "    <tr>\n",
       "      <th>...</th>\n",
       "      <td>...</td>\n",
       "      <td>...</td>\n",
       "      <td>...</td>\n",
       "      <td>...</td>\n",
       "      <td>...</td>\n",
       "      <td>...</td>\n",
       "      <td>...</td>\n",
       "    </tr>\n",
       "    <tr>\n",
       "      <th>66499</th>\n",
       "      <td>K332-3</td>\n",
       "      <td>1</td>\n",
       "      <td>6/8</td>\n",
       "      <td>2</td>\n",
       "      <td>720</td>\n",
       "      <td>3/4</td>\n",
       "      <td>NaN</td>\n",
       "    </tr>\n",
       "    <tr>\n",
       "      <th>66500</th>\n",
       "      <td>K332-3</td>\n",
       "      <td>1</td>\n",
       "      <td>6/8</td>\n",
       "      <td>2</td>\n",
       "      <td>723</td>\n",
       "      <td>3/8</td>\n",
       "      <td>NaN</td>\n",
       "    </tr>\n",
       "    <tr>\n",
       "      <th>66501</th>\n",
       "      <td>K332-3</td>\n",
       "      <td>1</td>\n",
       "      <td>6/8</td>\n",
       "      <td>2</td>\n",
       "      <td>1449/2</td>\n",
       "      <td>3/8</td>\n",
       "      <td>NaN</td>\n",
       "    </tr>\n",
       "    <tr>\n",
       "      <th>66502</th>\n",
       "      <td>K332-3</td>\n",
       "      <td>1</td>\n",
       "      <td>6/8</td>\n",
       "      <td>2</td>\n",
       "      <td>726</td>\n",
       "      <td>3/8</td>\n",
       "      <td>NaN</td>\n",
       "    </tr>\n",
       "    <tr>\n",
       "      <th>66503</th>\n",
       "      <td>K332-3</td>\n",
       "      <td>1</td>\n",
       "      <td>6/8</td>\n",
       "      <td>2</td>\n",
       "      <td>1455/2</td>\n",
       "      <td>3/8</td>\n",
       "      <td>NaN</td>\n",
       "    </tr>\n",
       "  </tbody>\n",
       "</table>\n",
       "<p>1806 rows × 7 columns</p>\n",
       "</div>"
      ],
      "text/plain": [
       "        piece  staff timesig  voice global_onset duration  tied\n",
       "64698  K332-3      1     6/8      1          1/4     1/16   NaN\n",
       "64699  K332-3      1     6/8      1          1/2     1/16   NaN\n",
       "64700  K332-3      1     6/8      1          3/4     1/16   NaN\n",
       "64701  K332-3      1     6/8      1            1     1/16   NaN\n",
       "64702  K332-3      1     6/8      1          5/4     1/16   NaN\n",
       "...       ...    ...     ...    ...          ...      ...   ...\n",
       "66499  K332-3      1     6/8      2          720      3/4   NaN\n",
       "66500  K332-3      1     6/8      2          723      3/8   NaN\n",
       "66501  K332-3      1     6/8      2       1449/2      3/8   NaN\n",
       "66502  K332-3      1     6/8      2          726      3/8   NaN\n",
       "66503  K332-3      1     6/8      2       1455/2      3/8   NaN\n",
       "\n",
       "[1806 rows x 7 columns]"
      ]
     },
     "execution_count": 5,
     "metadata": {},
     "output_type": "execute_result"
    }
   ],
   "source": [
    "# Select a random piece and staff (time signature may change per staff)\n",
    "random_piece_staff = df[['piece', 'staff']].sample(n=1).to_records(index=False)\n",
    "key = tuple(random_piece_staff[0])\n",
    "\n",
    "random_piece_staff_df = df[(df['piece'] == key[0]) & (df['staff'] == key[1])]\n",
    "\n",
    "# To fine-tune sampling, get minimum note duration among all notes in the piece/staff\n",
    "min_note = float(random_piece_staff_df['duration'].min())\n",
    "print(\"Smallest note length in dataset:\", fractions.Fraction(min_note).limit_denominator(1000))\n",
    "\n",
    "sampling_period = min_note/time_unit\n",
    "total_piece_duration = random_piece_staff_df['global_onset'].max()\n",
    "\n",
    "# Partition the global_onsets in bins\n",
    "bins = np.arange(0, (total_piece_duration+sampling_period+1e-10), sampling_period)\n",
    "binned_onsets = pd.cut(random_piece_staff_df['global_onset'], bins, right = False)\n",
    "\n",
    "# Compute the sum of durations of all events with onsets in each bin\n",
    "summed_durations = random_piece_staff_df.groupby(binned_onsets)['duration'].sum().apply(float)\n",
    "\n",
    "random_piece_staff_df"
   ]
  },
  {
   "cell_type": "code",
   "execution_count": 6,
   "metadata": {},
   "outputs": [
    {
     "name": "stdout",
     "output_type": "stream",
     "text": [
      "Metrical weights of Piece: K332-3, Staff: 1, Time Signature: 6/8\n"
     ]
    },
    {
     "data": {
      "image/png": "[encoded data removed]",
      "text/plain": [
       "<Figure size 1800x360 with 1 Axes>"
      ]
     },
     "metadata": {
      "needs_background": "light"
     },
     "output_type": "display_data"
    }
   ],
   "source": [
    "# Now we can plot the metrical weights of this piece\n",
    "\n",
    "# Get timesignature for reference\n",
    "timesig = random_piece_staff_df['timesig'].iloc[0]\n",
    "\n",
    "print(\"Metrical weights of Piece: {piece}, Staff: {staff}, Time Signature: {timesig}\".format(piece = key[0], staff = key[1], timesig=timesig))\n",
    "\n",
    "# Plot metrical weights\n",
    "summed_durations.plot(figsize=(25,5));"
   ]
  },
  {
   "cell_type": "markdown",
   "metadata": {
    "tags": []
   },
   "source": [
    "### b. From metrical weights to periodicities"
   ]
  },
  {
   "cell_type": "code",
   "execution_count": 7,
   "metadata": {},
   "outputs": [],
   "source": [
    "def top_frequencies(summed_durations_piece_staff, n_tops, plot):\n",
    "    x = summed_durations_piece_staff.index.to_list()\n",
    "    y = summed_durations_piece_staff.to_list()\n",
    "\n",
    "    # Number of sample points\n",
    "    N = len(x)\n",
    "    # Sample spacing (in units of time_unit)\n",
    "    T = x[1].left\n",
    "\n",
    "    ################################################################\n",
    "    # Window the signal to reduce spectral leakage in the FFT (a good practise)\n",
    "    window = get_window('hann', N)\n",
    "\n",
    "    # Compute Fourier transform of signal\n",
    "    yf = rfft(y * window)\n",
    "    xf = rfftfreq(N, T)\n",
    "    # Convert frequencies to units of cycles/whole note\n",
    "    xf = xf/time_unit\n",
    "    # Convert Fourier output to real-valued amplitudes\n",
    "    amplitudes = np.abs(yf)\n",
    "\n",
    "    # Find significant peaks (using min distance between neighbouring peaks)\n",
    "    peaks, _ = find_peaks(amplitudes, distance=N*.07)\n",
    "\n",
    "    ##### Get top n_tops frequencies (and periods) #####\n",
    "    fourier_peaks = np.array(tuple(zip(xf[peaks], 1/xf[peaks], amplitudes[peaks])))\n",
    "    # Create DataFrame\n",
    "    fourier_df = pd.DataFrame(fourier_peaks, columns = ['frequency (cycles/whole note)', 'period (1/f)', 'amplitude'])\n",
    "    # Convert period (1/f) to Fractions\n",
    "    fourier_df['period (1/f)'] = [fractions.Fraction(period).limit_denominator(100) for period in fourier_df['period (1/f)']]\n",
    "    # Sort in descending order\n",
    "    fourier_df_sorted = fourier_df.sort_values(by='amplitude', ascending=False).head(n_tops)\n",
    "    tops = fourier_df_sorted['period (1/f)'].to_numpy()\n",
    "        \n",
    "    if plot:\n",
    "        plt.plot(xf, amplitudes)\n",
    "        plt.plot(xf[peaks], amplitudes[peaks], \"x\")\n",
    "        plt.xlabel('Frequencies [cycles/whole note]')\n",
    "        plt.ylabel('Amplitude')\n",
    "        plt.grid()\n",
    "        plt.show()\n",
    "        print(\"Top {} or less frequencies and periods\".format(n_tops))\n",
    "        print(fourier_df_sorted)\n",
    "        \n",
    "    return tops\n",
    "\n",
    "def top_autocorrelations(summed_durations_piece_staff, n_tops, plot):\n",
    "    x = summed_durations_piece_staff.index.tolist()\n",
    "    y = summed_durations_piece_staff.tolist()\n",
    "    \n",
    "    # Number of sample points\n",
    "    N = len(x)\n",
    "    # Sample spacing (in units of time_unit)\n",
    "    T = x[1].left\n",
    "    \n",
    "    ################################################################\n",
    "    # Create a window with the first few lags\n",
    "    # The lags captured will correspond to 6 whole notes (least amount needed for ACF coefficients duple/triple criteron formula)\n",
    "    nlags = math.ceil(6 / (T*time_unit))\n",
    "    # The plotting and ranking window will correspond to the maximum duration of a bar in the whole dataset (ACF confidence interval decreases with lags)\n",
    "    ranking_window = math.ceil(max_bar_length / (T*time_unit))\n",
    "\n",
    "    ##### Get top n_tops autocorrelations #####\n",
    "    autocorr = sm.tsa.acf(y, nlags=nlags)\n",
    "    # Convert lags in units of whole notes\n",
    "    converted_lags = range(len(autocorr)) * (T*time_unit)\n",
    "    # Create DataFrame\n",
    "    autocorr_df = pd.DataFrame(tuple(zip(converted_lags, autocorr)), columns = ['lag (whole notes)','autocorrelation'])\n",
    "    # Convert lags to Fractions\n",
    "    autocorr_df['lag (whole notes)'] = [fractions.Fraction(onset).limit_denominator(100) for onset in autocorr_df['lag (whole notes)']]\n",
    "    # Sort in descending order\n",
    "    autocorr_df_sorted = autocorr_df.head(ranking_window).sort_values(ascending=False, by='autocorrelation').where(autocorr_df.autocorrelation > 0).dropna().drop(0).head(n_tops)\n",
    "    tops = autocorr_df_sorted['lag (whole notes)'].to_numpy()\n",
    "    \n",
    "    # Distinction between Duple/Triple meters: use ACF average coefficients formula\n",
    "    coeffs = {}\n",
    "    for beat_unit in [1/2, 1/4, 1/8]:\n",
    "        n = math.floor(beat_unit/(T*time_unit))\n",
    "        duple = (autocorr_df.iloc[2*n,1] + autocorr_df.iloc[4*n,1] + autocorr_df.iloc[8*n,1]) / 3\n",
    "        triple = (autocorr_df.iloc[3*n,1] + autocorr_df.iloc[6*n,1] + autocorr_df.iloc[12*n,1]) / 3\n",
    "        coeffs[fractions.Fraction(beat_unit)] = duple - triple\n",
    "            \n",
    "    if plot:\n",
    "        plot_acf(y, lags=ranking_window)\n",
    "        plt.xlabel('Lag [{} notes]'.format(fractions.Fraction(T*time_unit).limit_denominator(100)))\n",
    "        plt.ylabel('Autocorrelation')\n",
    "        plt.grid()\n",
    "        plt.show()\n",
    "        print(\"Top {} or less autocorrelations\".format(n_tops))\n",
    "        print(autocorr_df_sorted)\n",
    "        \n",
    "    return tops, coeffs"
   ]
  },
  {
   "cell_type": "code",
   "execution_count": 8,
   "metadata": {},
   "outputs": [
    {
     "name": "stdout",
     "output_type": "stream",
     "text": [
      "Periodicity analysis of Piece: K332-3, Staff: 1, Time Signature: 6/8\n"
     ]
    },
    {
     "data": {
      "image/png": "[encoded data removed]",
      "text/plain": [
       "<Figure size 432x288 with 1 Axes>"
      ]
     },
     "metadata": {
      "needs_background": "light"
     },
     "output_type": "display_data"
    },
    {
     "name": "stdout",
     "output_type": "stream",
     "text": [
      "Top 7 or less frequencies and periods\n",
      "    frequency (cycles/whole note) period (1/f)  amplitude\n",
      "6                        7.998637          1/8  36.520906\n",
      "2                        2.666212          3/8  27.776421\n",
      "4                        5.332425         3/16  25.767918\n",
      "8                       10.664849         3/32  23.422256\n",
      "10                      13.331062         3/40  22.760415\n",
      "12                      15.991821         1/16   9.753395\n",
      "0                        0.043619       619/27   7.858431\n"
     ]
    },
    {
     "data": {
      "image/png": "[encoded data removed]",
      "text/plain": [
       "<Figure size 432x288 with 1 Axes>"
      ]
     },
     "metadata": {
      "needs_background": "light"
     },
     "output_type": "display_data"
    },
    {
     "name": "stdout",
     "output_type": "stream",
     "text": [
      "Top 7 or less autocorrelations\n",
      "   lag (whole notes)  autocorrelation\n",
      "12               3/8         0.571846\n",
      "24               3/4         0.524363\n",
      "48               3/2         0.491128\n",
      "36               9/8         0.438176\n",
      "60              15/8         0.403109\n",
      "64                 2         0.141349\n",
      "32                 1         0.139342\n"
     ]
    }
   ],
   "source": [
    "print(\"Periodicity analysis of Piece: {piece}, Staff: {staff}, Time Signature: {timesig}\".format(piece = key[0], staff = key[1], timesig=timesig))\n",
    "\n",
    "top_frequencies(summed_durations, n_tops=7, plot=True)\n",
    "top_autocorrelations(summed_durations, n_tops=7, plot=True);"
   ]
  },
  {
   "cell_type": "markdown",
   "metadata": {
    "tags": []
   },
   "source": [
    "## 2. Full dataset classification pipeline"
   ]
  },
  {
   "cell_type": "markdown",
   "metadata": {},
   "source": [
    "### a. Metrical weights"
   ]
  },
  {
   "cell_type": "code",
   "execution_count": 9,
   "metadata": {},
   "outputs": [
    {
     "name": "stdout",
     "output_type": "stream",
     "text": [
      "CPU times: user 1min 54s, sys: 2.78 s, total: 1min 57s\n",
      "Wall time: 2min 8s\n"
     ]
    }
   ],
   "source": [
    "%%time\n",
    "\n",
    "# For all pieces and staves (This operation takes around 2-3 minutes on our computer)\n",
    "\n",
    "# Create dictionaries of total piece durations and smallest notes in each piece/staff\n",
    "total_piece_durations_df = df.groupby(['piece','staff'])['global_onset'].max().apply(float)\n",
    "minimum_note_durations_df = df.groupby(['piece','staff'])['duration'].min().apply(float)\n",
    "total_piece_durations = total_piece_durations_df.to_dict()\n",
    "minimum_note_durations = minimum_note_durations_df.to_dict()\n",
    "\n",
    "summed_durations_dict = {}\n",
    "for key,value in total_piece_durations.items():\n",
    "    piece_staff = df[(df['piece'] == key[0]) & (df['staff'] == key[1])]\n",
    "\n",
    "    min_note = minimum_note_durations[key]\n",
    "    sampling_period = min_note/time_unit\n",
    "\n",
    "    bins = np.arange(0, (value+sampling_period+1e-10), sampling_period)\n",
    "    binned_onsets = pd.cut(piece_staff['global_onset'], bins, right = False)\n",
    "    summed_durations_dict[key] = piece_staff.groupby(binned_onsets)['duration'].sum().apply(float)"
   ]
  },
  {
   "cell_type": "markdown",
   "metadata": {},
   "source": [
    "### b. Building features dataset: Periodicities"
   ]
  },
  {
   "cell_type": "code",
   "execution_count": 10,
   "metadata": {
    "tags": []
   },
   "outputs": [
    {
     "data": {
      "text/html": [
       "<div>\n",
       "<style scoped>\n",
       "    .dataframe tbody tr th:only-of-type {\n",
       "        vertical-align: middle;\n",
       "    }\n",
       "\n",
       "    .dataframe tbody tr th {\n",
       "        vertical-align: top;\n",
       "    }\n",
       "\n",
       "    .dataframe thead th {\n",
       "        text-align: right;\n",
       "    }\n",
       "</style>\n",
       "<table border=\"1\" class=\"dataframe\">\n",
       "  <thead>\n",
       "    <tr style=\"text-align: right;\">\n",
       "      <th></th>\n",
       "      <th>piece</th>\n",
       "      <th>staff</th>\n",
       "      <th>timesig</th>\n",
       "      <th>0</th>\n",
       "      <th>1</th>\n",
       "      <th>2</th>\n",
       "      <th>3</th>\n",
       "      <th>4</th>\n",
       "      <th>5</th>\n",
       "      <th>6</th>\n",
       "      <th>7</th>\n",
       "      <th>8</th>\n",
       "      <th>9</th>\n",
       "      <th>10</th>\n",
       "      <th>11</th>\n",
       "      <th>12</th>\n",
       "      <th>13</th>\n",
       "      <th>14</th>\n",
       "      <th>15</th>\n",
       "    </tr>\n",
       "  </thead>\n",
       "  <tbody>\n",
       "    <tr>\n",
       "      <th>0</th>\n",
       "      <td>K279-1</td>\n",
       "      <td>1</td>\n",
       "      <td>4/4</td>\n",
       "      <td>1</td>\n",
       "      <td>2</td>\n",
       "      <td>1/4</td>\n",
       "      <td>1/2</td>\n",
       "      <td>3/2</td>\n",
       "      <td>3/4</td>\n",
       "      <td>5/4</td>\n",
       "      <td>7/4</td>\n",
       "      <td>1/8</td>\n",
       "      <td>1/4</td>\n",
       "      <td>1/12</td>\n",
       "      <td>1/16</td>\n",
       "      <td>1/2</td>\n",
       "      <td>0.154796</td>\n",
       "      <td>0.165688</td>\n",
       "      <td>0.189548</td>\n",
       "    </tr>\n",
       "    <tr>\n",
       "      <th>1</th>\n",
       "      <td>K279-1</td>\n",
       "      <td>2</td>\n",
       "      <td>4/4</td>\n",
       "      <td>2</td>\n",
       "      <td>1/4</td>\n",
       "      <td>1/2</td>\n",
       "      <td>7/4</td>\n",
       "      <td>1</td>\n",
       "      <td>3/2</td>\n",
       "      <td>1/8</td>\n",
       "      <td>3/4</td>\n",
       "      <td>1/4</td>\n",
       "      <td>31/33</td>\n",
       "      <td>1/2</td>\n",
       "      <td>1/6</td>\n",
       "      <td>16/81</td>\n",
       "      <td>0.163630</td>\n",
       "      <td>0.173697</td>\n",
       "      <td>0.171674</td>\n",
       "    </tr>\n",
       "    <tr>\n",
       "      <th>2</th>\n",
       "      <td>K279-2</td>\n",
       "      <td>1</td>\n",
       "      <td>3/4</td>\n",
       "      <td>3/4</td>\n",
       "      <td>1/4</td>\n",
       "      <td>1/2</td>\n",
       "      <td>3/2</td>\n",
       "      <td>5/4</td>\n",
       "      <td>1</td>\n",
       "      <td>7/4</td>\n",
       "      <td>2</td>\n",
       "      <td>1/12</td>\n",
       "      <td>1/8</td>\n",
       "      <td>1/4</td>\n",
       "      <td>74/99</td>\n",
       "      <td>3/44</td>\n",
       "      <td>-0.119920</td>\n",
       "      <td>-0.081835</td>\n",
       "      <td>0.134694</td>\n",
       "    </tr>\n",
       "    <tr>\n",
       "      <th>3</th>\n",
       "      <td>K279-2</td>\n",
       "      <td>2</td>\n",
       "      <td>3/4</td>\n",
       "      <td>1/4</td>\n",
       "      <td>3/4</td>\n",
       "      <td>1/2</td>\n",
       "      <td>3/2</td>\n",
       "      <td>1</td>\n",
       "      <td>5/4</td>\n",
       "      <td>2</td>\n",
       "      <td>218/97</td>\n",
       "      <td>1/4</td>\n",
       "      <td>995/36</td>\n",
       "      <td>32/33</td>\n",
       "      <td>77/39</td>\n",
       "      <td>30/83</td>\n",
       "      <td>0.018164</td>\n",
       "      <td>-0.006570</td>\n",
       "      <td>-0.345994</td>\n",
       "    </tr>\n",
       "    <tr>\n",
       "      <th>4</th>\n",
       "      <td>K279-3</td>\n",
       "      <td>1</td>\n",
       "      <td>2/4</td>\n",
       "      <td>1/2</td>\n",
       "      <td>1</td>\n",
       "      <td>2</td>\n",
       "      <td>3/2</td>\n",
       "      <td>1/8</td>\n",
       "      <td>1/4</td>\n",
       "      <td>17/8</td>\n",
       "      <td>9/8</td>\n",
       "      <td>1/6</td>\n",
       "      <td>1/2</td>\n",
       "      <td>1/4</td>\n",
       "      <td>12/95</td>\n",
       "      <td>83/77</td>\n",
       "      <td>0.107614</td>\n",
       "      <td>0.199445</td>\n",
       "      <td>0.179263</td>\n",
       "    </tr>\n",
       "    <tr>\n",
       "      <th>...</th>\n",
       "      <td>...</td>\n",
       "      <td>...</td>\n",
       "      <td>...</td>\n",
       "      <td>...</td>\n",
       "      <td>...</td>\n",
       "      <td>...</td>\n",
       "      <td>...</td>\n",
       "      <td>...</td>\n",
       "      <td>...</td>\n",
       "      <td>...</td>\n",
       "      <td>...</td>\n",
       "      <td>...</td>\n",
       "      <td>...</td>\n",
       "      <td>...</td>\n",
       "      <td>...</td>\n",
       "      <td>...</td>\n",
       "      <td>...</td>\n",
       "      <td>...</td>\n",
       "      <td>...</td>\n",
       "    </tr>\n",
       "    <tr>\n",
       "      <th>383</th>\n",
       "      <td>n16op135_03</td>\n",
       "      <td>4</td>\n",
       "      <td>6/8</td>\n",
       "      <td>3/4</td>\n",
       "      <td>3/8</td>\n",
       "      <td>3/2</td>\n",
       "      <td>9/8</td>\n",
       "      <td>15/8</td>\n",
       "      <td>17/8</td>\n",
       "      <td>7/4</td>\n",
       "      <td>2</td>\n",
       "      <td>3/8</td>\n",
       "      <td>3/16</td>\n",
       "      <td>12/95</td>\n",
       "      <td>83/95</td>\n",
       "      <td>1/4</td>\n",
       "      <td>-0.378025</td>\n",
       "      <td>-0.537130</td>\n",
       "      <td>-0.642430</td>\n",
       "    </tr>\n",
       "    <tr>\n",
       "      <th>384</th>\n",
       "      <td>n16op135_04</td>\n",
       "      <td>1</td>\n",
       "      <td>3/2</td>\n",
       "      <td>2</td>\n",
       "      <td>1</td>\n",
       "      <td>3/2</td>\n",
       "      <td>1/2</td>\n",
       "      <td>1/4</td>\n",
       "      <td>3/4</td>\n",
       "      <td>7/4</td>\n",
       "      <td>5/4</td>\n",
       "      <td>1/4</td>\n",
       "      <td>1/2</td>\n",
       "      <td>1/6</td>\n",
       "      <td>1/8</td>\n",
       "      <td>1/7</td>\n",
       "      <td>0.105089</td>\n",
       "      <td>0.160427</td>\n",
       "      <td>0.258956</td>\n",
       "    </tr>\n",
       "    <tr>\n",
       "      <th>385</th>\n",
       "      <td>n16op135_04</td>\n",
       "      <td>2</td>\n",
       "      <td>3/2</td>\n",
       "      <td>2</td>\n",
       "      <td>1/2</td>\n",
       "      <td>3/2</td>\n",
       "      <td>1</td>\n",
       "      <td>1/4</td>\n",
       "      <td>3/4</td>\n",
       "      <td>7/4</td>\n",
       "      <td>5/4</td>\n",
       "      <td>1/2</td>\n",
       "      <td>1/4</td>\n",
       "      <td>1/3</td>\n",
       "      <td>101/100</td>\n",
       "      <td>2293/80</td>\n",
       "      <td>0.039016</td>\n",
       "      <td>0.149358</td>\n",
       "      <td>0.289164</td>\n",
       "    </tr>\n",
       "    <tr>\n",
       "      <th>386</th>\n",
       "      <td>n16op135_04</td>\n",
       "      <td>3</td>\n",
       "      <td>3/2</td>\n",
       "      <td>1</td>\n",
       "      <td>2</td>\n",
       "      <td>1/2</td>\n",
       "      <td>3/2</td>\n",
       "      <td>7/4</td>\n",
       "      <td>5/4</td>\n",
       "      <td>3/4</td>\n",
       "      <td>1/4</td>\n",
       "      <td>1/2</td>\n",
       "      <td>1/4</td>\n",
       "      <td>101/100</td>\n",
       "      <td>1/3</td>\n",
       "      <td>2293/80</td>\n",
       "      <td>0.161078</td>\n",
       "      <td>0.203221</td>\n",
       "      <td>0.267732</td>\n",
       "    </tr>\n",
       "    <tr>\n",
       "      <th>387</th>\n",
       "      <td>n16op135_04</td>\n",
       "      <td>4</td>\n",
       "      <td>3/2</td>\n",
       "      <td>1</td>\n",
       "      <td>2</td>\n",
       "      <td>3/2</td>\n",
       "      <td>1/2</td>\n",
       "      <td>5/4</td>\n",
       "      <td>1/4</td>\n",
       "      <td>3/4</td>\n",
       "      <td>7/4</td>\n",
       "      <td>1/4</td>\n",
       "      <td>1/2</td>\n",
       "      <td>1/6</td>\n",
       "      <td>1/8</td>\n",
       "      <td>1/3</td>\n",
       "      <td>0.157543</td>\n",
       "      <td>0.217735</td>\n",
       "      <td>0.254196</td>\n",
       "    </tr>\n",
       "  </tbody>\n",
       "</table>\n",
       "<p>388 rows × 19 columns</p>\n",
       "</div>"
      ],
      "text/plain": [
       "           piece  staff timesig    0    1    2    3     4     5     6       7  \\\n",
       "0         K279-1      1     4/4    1    2  1/4  1/2   3/2   3/4   5/4     7/4   \n",
       "1         K279-1      2     4/4    2  1/4  1/2  7/4     1   3/2   1/8     3/4   \n",
       "2         K279-2      1     3/4  3/4  1/4  1/2  3/2   5/4     1   7/4       2   \n",
       "3         K279-2      2     3/4  1/4  3/4  1/2  3/2     1   5/4     2  218/97   \n",
       "4         K279-3      1     2/4  1/2    1    2  3/2   1/8   1/4  17/8     9/8   \n",
       "..           ...    ...     ...  ...  ...  ...  ...   ...   ...   ...     ...   \n",
       "383  n16op135_03      4     6/8  3/4  3/8  3/2  9/8  15/8  17/8   7/4       2   \n",
       "384  n16op135_04      1     3/2    2    1  3/2  1/2   1/4   3/4   7/4     5/4   \n",
       "385  n16op135_04      2     3/2    2  1/2  3/2    1   1/4   3/4   7/4     5/4   \n",
       "386  n16op135_04      3     3/2    1    2  1/2  3/2   7/4   5/4   3/4     1/4   \n",
       "387  n16op135_04      4     3/2    1    2  3/2  1/2   5/4   1/4   3/4     7/4   \n",
       "\n",
       "        8       9       10       11       12        13        14        15  \n",
       "0     1/8     1/4     1/12     1/16      1/2  0.154796  0.165688  0.189548  \n",
       "1     1/4   31/33      1/2      1/6    16/81  0.163630  0.173697  0.171674  \n",
       "2    1/12     1/8      1/4    74/99     3/44 -0.119920 -0.081835  0.134694  \n",
       "3     1/4  995/36    32/33    77/39    30/83  0.018164 -0.006570 -0.345994  \n",
       "4     1/6     1/2      1/4    12/95    83/77  0.107614  0.199445  0.179263  \n",
       "..    ...     ...      ...      ...      ...       ...       ...       ...  \n",
       "383   3/8    3/16    12/95    83/95      1/4 -0.378025 -0.537130 -0.642430  \n",
       "384   1/4     1/2      1/6      1/8      1/7  0.105089  0.160427  0.258956  \n",
       "385   1/2     1/4      1/3  101/100  2293/80  0.039016  0.149358  0.289164  \n",
       "386   1/2     1/4  101/100      1/3  2293/80  0.161078  0.203221  0.267732  \n",
       "387   1/4     1/2      1/6      1/8      1/3  0.157543  0.217735  0.254196  \n",
       "\n",
       "[388 rows x 19 columns]"
      ]
     },
     "execution_count": 10,
     "metadata": {},
     "output_type": "execute_result"
    }
   ],
   "source": [
    "# Build ground truth time signature dataset\n",
    "ground_truth_df = df.groupby(['piece', 'staff'], as_index=False).first().drop(columns=['voice','global_onset','tied','duration'])\n",
    "\n",
    "# Gather features: top n autocorrelations and frequencies\n",
    "n_tops_autocorr = 8\n",
    "n_tops_freq = 5\n",
    "periodicities = []\n",
    "for i in ground_truth_df.itertuples():\n",
    "    key = (i.piece, i.staff)\n",
    "    summed_durations_piece_staff = summed_durations_dict[key]\n",
    "    tops_autocorr, coeffs = top_autocorrelations(summed_durations_piece_staff, n_tops_autocorr, plot=False)\n",
    "    tops_freq = top_frequencies(summed_durations_piece_staff, n_tops_freq, plot=False)\n",
    "    features = [*tops_autocorr, *tops_freq, *coeffs.values()]\n",
    "    periodicities.append(features)\n",
    "    \n",
    "features_df = pd.DataFrame(periodicities)\n",
    "\n",
    "ground_truth_and_features_df = pd.concat([ground_truth_df, features_df], axis=1)\n",
    "# Fill NaNs with mean of sample features or with 0s\n",
    "#ground_truth_and_features_df = ground_truth_and_features_df.T.fillna(ground_truth_and_features_df.iloc[:,3:].mean(axis=1)).T\n",
    "ground_truth_and_features_df = ground_truth_and_features_df.fillna(0)\n",
    "\n",
    "# Get features and labels \n",
    "X = ground_truth_and_features_df.iloc[:,3:].values\n",
    "y = ground_truth_and_features_df.iloc[:,2].values\n",
    "\n",
    "ground_truth_and_features_df"
   ]
  },
  {
   "cell_type": "markdown",
   "metadata": {},
   "source": [
    "### c. From periodicities to time signature: Classification (Random Forest)"
   ]
  },
  {
   "cell_type": "code",
   "execution_count": 11,
   "metadata": {},
   "outputs": [
    {
     "name": "stdout",
     "output_type": "stream",
     "text": [
      "Accuracy: 0.7319587628865979\n",
      "Wrong predicitons:\n",
      "[['2/2' 6]\n",
      " ['2/4' 8]\n",
      " ['3/4' 3]\n",
      " ['4/4' 7]\n",
      " ['6/8' 1]\n",
      " ['9/8' 1]]\n",
      "Correct_predictions:\n",
      "[['12/8' 1]\n",
      " ['2/2' 10]\n",
      " ['2/4' 18]\n",
      " ['3/4' 26]\n",
      " ['3/8' 4]\n",
      " ['4/4' 6]\n",
      " ['6/8' 6]]\n"
     ]
    }
   ],
   "source": [
    "# Split training and testing data\n",
    "X_train, X_test, y_train, y_test = train_test_split(X, y, test_size=0.25, random_state=None)\n",
    "\n",
    "# Train model\n",
    "model = RandomForestClassifier(n_estimators=200, bootstrap=True)\n",
    "model.fit(X_train, y_train)\n",
    "\n",
    "# Test model\n",
    "y_pred = model.predict(X_test)\n",
    "print(\"Accuracy:\", metrics.accuracy_score(y_test, y_pred))\n",
    "\n",
    "# Get summary of predictions\n",
    "wrong_predictions = y_test[y_test!=y_pred]\n",
    "correct_predictions = y_test[y_test==y_pred]\n",
    "\n",
    "unique_wrong, counts_wrong = np.unique(wrong_predictions, return_counts=True)\n",
    "unique_correct, counts_correct = np.unique(correct_predictions, return_counts=True)\n",
    "\n",
    "result_wrong = np.column_stack((unique_wrong, counts_wrong)) \n",
    "result_correct = np.column_stack((unique_correct, counts_correct)) \n",
    "print(\"Wrong predicitons:\")\n",
    "print(result_wrong)\n",
    "print(\"Correct_predictions:\")\n",
    "print(result_correct)"
   ]
  },
  {
   "cell_type": "markdown",
   "metadata": {},
   "source": [
    "### d. Evaluation of model"
   ]
  },
  {
   "cell_type": "code",
   "execution_count": 12,
   "metadata": {},
   "outputs": [
    {
     "name": "stderr",
     "output_type": "stream",
     "text": [
      "/Users/mukqs/Documents/Spring-2022/Digital-Musicology/Assignment-1/dm-meter-timesig/venv/lib/python3.9/site-packages/sklearn/model_selection/_split.py:676: UserWarning: The least populated class in y has only 4 members, which is less than n_splits=5.\n",
      "  warnings.warn(\n"
     ]
    },
    {
     "data": {
      "image/png": "[encoded data removed]",
      "text/plain": [
       "<Figure size 504x504 with 1 Axes>"
      ]
     },
     "metadata": {
      "needs_background": "light"
     },
     "output_type": "display_data"
    },
    {
     "name": "stdout",
     "output_type": "stream",
     "text": [
      "CPU times: user 41.5 s, sys: 631 ms, total: 42.1 s\n",
      "Wall time: 43.7 s\n"
     ]
    }
   ],
   "source": [
    "%%time\n",
    "\n",
    "# Cross-validation curve\n",
    "n_trees_range=np.arange(1, 250, 10)\n",
    "\n",
    "train_scores, test_scores = validation_curve(RandomForestClassifier(), X, y, param_name=\"n_estimators\", param_range=n_trees_range, cv=5, scoring='accuracy')\n",
    "train_mean = np.mean(train_scores, axis=1)\n",
    "train_std = np.std(train_scores, axis=1)\n",
    "\n",
    "test_mean = np.mean(test_scores, axis=1)\n",
    "test_std = np.std(test_scores, axis=1)\n",
    "\n",
    "plt.subplots(1, figsize=(7,7))\n",
    "plt.plot(n_trees_range, train_mean, label=\"Training score\", color=\"blue\")\n",
    "plt.plot(n_trees_range, test_mean, label=\"Cross-validation score\", color=\"red\")\n",
    "\n",
    "plt.fill_between(n_trees_range, train_mean - train_std, train_mean + train_std, color=\"skyblue\")\n",
    "plt.fill_between(n_trees_range, test_mean - test_std, test_mean + test_std, color=\"peachpuff\")\n",
    "\n",
    "plt.title(\"Validation curve With Random Forest\")\n",
    "plt.xlabel(\"Number of trees\")\n",
    "plt.ylabel(\"Accuracy score\")\n",
    "plt.tight_layout()\n",
    "plt.legend(loc=\"best\")\n",
    "plt.grid()\n",
    "plt.show()"
   ]
  }
 ],
 "metadata": {
  "kernelspec": {
   "display_name": "Python 3 (ipykernel)",
   "language": "python",
   "name": "python3"
  },
  "language_info": {
   "codemirror_mode": {
    "name": "ipython",
    "version": 3
   },
   "file_extension": ".py",
   "mimetype": "text/x-python",
   "name": "python",
   "nbconvert_exporter": "python",
   "pygments_lexer": "ipython3",
   "version": "3.9.10"
  }
 },
 "nbformat": 4,
 "nbformat_minor": 4
}
