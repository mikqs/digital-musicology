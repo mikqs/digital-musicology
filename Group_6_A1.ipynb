{
 "cells": [
  {
   "cell_type": "markdown",
   "metadata": {
    "pycharm": {
     "name": "#%% md\n"
    }
   },
   "source": [
    "# Digital Musicology (DH-401)\n",
    "## Assignment 1: Discovering meter\n",
    "Group 6\n",
    "- Mickaël Achkar\n",
    "- Yichen Wang\n",
    "- Yinghui Jiang"
   ]
  },
  {
   "cell_type": "markdown",
   "metadata": {},
   "source": [
    "#TODO:\n",
    "- consider grace notes as normal notes (replace 'duration' with 'nominal_duration',\n",
    "because 'duration' is empty for them) -> check before/after impact to classification\n",
    "- we also need to sum up durations of tied notes based on piece and staff and voice\n",
    "- use appropriate method to extract frequencies/periodicities\n",
    "- use appropriate method to infer time signature\n",
    "- create simple classification accuracy measure with Ground Truth"
   ]
  },
  {
   "cell_type": "code",
   "execution_count": 1,
   "metadata": {
    "pycharm": {
     "name": "#%%\n"
    }
   },
   "outputs": [],
   "source": [
    "import ms3\n",
    "import pandas as pd\n",
    "import numpy as np\n",
    "import math\n",
    "import fractions\n",
    "import matplotlib.pyplot as plt\n",
    "from scipy.fftpack import rfft, rfftfreq\n",
    "from scipy.signal import find_peaks, get_window\n",
    "from statsmodels.graphics.tsaplots import plot_acf\n",
    "import statsmodels.api as sm\n",
    "from sklearn.model_selection import train_test_split, validation_curve\n",
    "from sklearn.ensemble import RandomForestClassifier  \n",
    "from sklearn import metrics"
   ]
  },
  {
   "cell_type": "markdown",
   "metadata": {
    "pycharm": {
     "name": "#%% md\n"
    }
   },
   "source": [
    "## 0. Dataset preparation"
   ]
  },
  {
   "cell_type": "code",
   "execution_count": 2,
   "metadata": {
    "pycharm": {
     "name": "#%%\n"
    }
   },
   "outputs": [],
   "source": [
    "# This is the time unit of 'global_onset' used in the dataset\n",
    "time_unit = 1/4\n",
    "\n",
    "meter_dataset = pd.read_csv('DM2022 - Assignment 1 [Dataset].csv', index_col = 0, converters = {'global_onset':fractions.Fraction, 'duration': fractions.Fraction})\n",
    "meter_dataset = meter_dataset[['piece', 'staff', 'timesig', 'voice', 'global_onset', 'duration', 'tied', 'gracenote']]\n",
    "\n",
    "# Ignore gracenotes for now\n",
    "meter_dataset = meter_dataset[meter_dataset['gracenote'].isna()].drop(columns = ['gracenote'])\n",
    "\n",
    "# Sort dataset\n",
    "meter_dataset = meter_dataset.sort_values(by=['piece', 'staff', 'voice', 'global_onset']).reset_index(drop=True)\n",
    "\n",
    "# Get maximum bar length of the dataset for analysis later on\n",
    "timesignatures = [fractions.Fraction(timesig) for timesig in meter_dataset['timesig']]\n",
    "max_bar_length = max(timesignatures)"
   ]
  },
  {
   "cell_type": "code",
   "execution_count": 3,
   "metadata": {},
   "outputs": [
    {
     "name": "stdout",
     "output_type": "stream",
     "text": [
      "CPU times: user 251 ms, sys: 29.6 ms, total: 281 ms\n",
      "Wall time: 283 ms\n"
     ]
    }
   ],
   "source": [
    "%%time\n",
    "\n",
    "untied_df = meter_dataset\n",
    "tied_df = meter_dataset\n",
    "\n",
    "# Aggregating ties (to verify if this is worse or better)\n",
    "blocks = (tied_df.tied.ne(tied_df.tied.shift()) & tied_df.tied.ne(tied_df.tied.shift() - 2) & tied_df.tied.ne(tied_df.tied.shift() - 1)).cumsum()\n",
    "tied_df = tied_df.groupby(blocks, as_index=False).agg({'piece':'first', 'staff':'first', 'voice':'first', 'timesig':'first', 'global_onset':'first', 'duration':'sum', 'tied':'first'})"
   ]
  },
  {
   "cell_type": "code",
   "execution_count": 4,
   "metadata": {},
   "outputs": [],
   "source": [
    "#df = tied_df\n",
    "df = untied_df"
   ]
  },
  {
   "cell_type": "markdown",
   "metadata": {},
   "source": [
    "## 1. For one piece and staff"
   ]
  },
  {
   "cell_type": "markdown",
   "metadata": {},
   "source": [
    "### a. From musical score to metrical weights"
   ]
  },
  {
   "cell_type": "code",
   "execution_count": 30,
   "metadata": {
    "pycharm": {
     "name": "#%%\n"
    }
   },
   "outputs": [
    {
     "name": "stdout",
     "output_type": "stream",
     "text": [
      "Smallest note length in dataset: 1/32\n"
     ]
    },
    {
     "data": {
      "text/html": [
       "<div>\n",
       "<style scoped>\n",
       "    .dataframe tbody tr th:only-of-type {\n",
       "        vertical-align: middle;\n",
       "    }\n",
       "\n",
       "    .dataframe tbody tr th {\n",
       "        vertical-align: top;\n",
       "    }\n",
       "\n",
       "    .dataframe thead th {\n",
       "        text-align: right;\n",
       "    }\n",
       "</style>\n",
       "<table border=\"1\" class=\"dataframe\">\n",
       "  <thead>\n",
       "    <tr style=\"text-align: right;\">\n",
       "      <th></th>\n",
       "      <th>piece</th>\n",
       "      <th>staff</th>\n",
       "      <th>timesig</th>\n",
       "      <th>voice</th>\n",
       "      <th>global_onset</th>\n",
       "      <th>duration</th>\n",
       "      <th>tied</th>\n",
       "    </tr>\n",
       "  </thead>\n",
       "  <tbody>\n",
       "    <tr>\n",
       "      <th>1978</th>\n",
       "      <td>K279-2</td>\n",
       "      <td>1</td>\n",
       "      <td>3/4</td>\n",
       "      <td>1</td>\n",
       "      <td>0</td>\n",
       "      <td>1/16</td>\n",
       "      <td>NaN</td>\n",
       "    </tr>\n",
       "    <tr>\n",
       "      <th>1979</th>\n",
       "      <td>K279-2</td>\n",
       "      <td>1</td>\n",
       "      <td>3/4</td>\n",
       "      <td>1</td>\n",
       "      <td>1/4</td>\n",
       "      <td>1/4</td>\n",
       "      <td>NaN</td>\n",
       "    </tr>\n",
       "    <tr>\n",
       "      <th>1980</th>\n",
       "      <td>K279-2</td>\n",
       "      <td>1</td>\n",
       "      <td>3/4</td>\n",
       "      <td>1</td>\n",
       "      <td>5/4</td>\n",
       "      <td>1/4</td>\n",
       "      <td>NaN</td>\n",
       "    </tr>\n",
       "    <tr>\n",
       "      <th>1981</th>\n",
       "      <td>K279-2</td>\n",
       "      <td>1</td>\n",
       "      <td>3/4</td>\n",
       "      <td>1</td>\n",
       "      <td>9/4</td>\n",
       "      <td>1/4</td>\n",
       "      <td>NaN</td>\n",
       "    </tr>\n",
       "    <tr>\n",
       "      <th>1982</th>\n",
       "      <td>K279-2</td>\n",
       "      <td>1</td>\n",
       "      <td>3/4</td>\n",
       "      <td>1</td>\n",
       "      <td>13/4</td>\n",
       "      <td>1/4</td>\n",
       "      <td>NaN</td>\n",
       "    </tr>\n",
       "    <tr>\n",
       "      <th>...</th>\n",
       "      <td>...</td>\n",
       "      <td>...</td>\n",
       "      <td>...</td>\n",
       "      <td>...</td>\n",
       "      <td>...</td>\n",
       "      <td>...</td>\n",
       "      <td>...</td>\n",
       "    </tr>\n",
       "    <tr>\n",
       "      <th>2478</th>\n",
       "      <td>K279-2</td>\n",
       "      <td>1</td>\n",
       "      <td>3/4</td>\n",
       "      <td>2</td>\n",
       "      <td>2543/12</td>\n",
       "      <td>1/12</td>\n",
       "      <td>1.0</td>\n",
       "    </tr>\n",
       "    <tr>\n",
       "      <th>2479</th>\n",
       "      <td>K279-2</td>\n",
       "      <td>1</td>\n",
       "      <td>3/4</td>\n",
       "      <td>2</td>\n",
       "      <td>849/4</td>\n",
       "      <td>1/12</td>\n",
       "      <td>-1.0</td>\n",
       "    </tr>\n",
       "    <tr>\n",
       "      <th>2480</th>\n",
       "      <td>K279-2</td>\n",
       "      <td>1</td>\n",
       "      <td>3/4</td>\n",
       "      <td>2</td>\n",
       "      <td>2551/12</td>\n",
       "      <td>1/12</td>\n",
       "      <td>NaN</td>\n",
       "    </tr>\n",
       "    <tr>\n",
       "      <th>2481</th>\n",
       "      <td>K279-2</td>\n",
       "      <td>1</td>\n",
       "      <td>3/4</td>\n",
       "      <td>2</td>\n",
       "      <td>2555/12</td>\n",
       "      <td>1/12</td>\n",
       "      <td>NaN</td>\n",
       "    </tr>\n",
       "    <tr>\n",
       "      <th>2482</th>\n",
       "      <td>K279-2</td>\n",
       "      <td>1</td>\n",
       "      <td>3/4</td>\n",
       "      <td>2</td>\n",
       "      <td>853/4</td>\n",
       "      <td>1/8</td>\n",
       "      <td>NaN</td>\n",
       "    </tr>\n",
       "  </tbody>\n",
       "</table>\n",
       "<p>505 rows × 7 columns</p>\n",
       "</div>"
      ],
      "text/plain": [
       "       piece  staff timesig  voice global_onset duration  tied\n",
       "1978  K279-2      1     3/4      1            0     1/16   NaN\n",
       "1979  K279-2      1     3/4      1          1/4      1/4   NaN\n",
       "1980  K279-2      1     3/4      1          5/4      1/4   NaN\n",
       "1981  K279-2      1     3/4      1          9/4      1/4   NaN\n",
       "1982  K279-2      1     3/4      1         13/4      1/4   NaN\n",
       "...      ...    ...     ...    ...          ...      ...   ...\n",
       "2478  K279-2      1     3/4      2      2543/12     1/12   1.0\n",
       "2479  K279-2      1     3/4      2        849/4     1/12  -1.0\n",
       "2480  K279-2      1     3/4      2      2551/12     1/12   NaN\n",
       "2481  K279-2      1     3/4      2      2555/12     1/12   NaN\n",
       "2482  K279-2      1     3/4      2        853/4      1/8   NaN\n",
       "\n",
       "[505 rows x 7 columns]"
      ]
     },
     "execution_count": 30,
     "metadata": {},
     "output_type": "execute_result"
    }
   ],
   "source": [
    "# Select a random piece and staff (time signature may change per staff)\n",
    "random_piece_staff = df[['piece', 'staff']].sample(n=1).to_records(index=False)\n",
    "key = tuple(random_piece_staff[0])\n",
    "\n",
    "random_piece_staff_df = df[(df['piece'] == key[0]) & (df['staff'] == key[1])]\n",
    "\n",
    "# To fine-tune sampling, get minimum note duration among all notes in the piece/staff\n",
    "min_note = float(random_piece_staff_df['duration'].min())\n",
    "print(\"Smallest note length in dataset:\", fractions.Fraction(min_note))\n",
    "\n",
    "sampling_period = min_note/time_unit\n",
    "total_piece_duration = random_piece_staff_df['global_onset'].max()\n",
    "\n",
    "# Partition the global_onsets in bins\n",
    "bins = np.arange(0, (total_piece_duration+sampling_period+1e-10), sampling_period)\n",
    "binned_onsets = pd.cut(random_piece_staff_df['global_onset'], bins, right = False)\n",
    "\n",
    "# Compute the sum of durations of all events with onsets in each bin\n",
    "summed_durations = random_piece_staff_df.groupby(binned_onsets)['duration'].sum().apply(float)\n",
    "\n",
    "random_piece_staff_df"
   ]
  },
  {
   "cell_type": "code",
   "execution_count": 31,
   "metadata": {},
   "outputs": [
    {
     "name": "stdout",
     "output_type": "stream",
     "text": [
      "Metrical weights of Piece: K279-2, Staff: 1, Time Signature: 3/4\n"
     ]
    },
    {
     "data": {
      "image/png": "[encoded data removed]",
      "text/plain": [
       "<Figure size 1800x360 with 1 Axes>"
      ]
     },
     "metadata": {
      "needs_background": "light"
     },
     "output_type": "display_data"
    }
   ],
   "source": [
    "# Now we can plot the metrical weights of this piece\n",
    "\n",
    "# Get timesignature for reference\n",
    "timesig = random_piece_staff_df['timesig'].iloc[0]\n",
    "\n",
    "print(\"Metrical weights of Piece: {piece}, Staff: {staff}, Time Signature: {timesig}\".format(piece = key[0], staff = key[1], timesig=timesig))\n",
    "\n",
    "# Plot metrical weights\n",
    "summed_durations.plot(figsize=(25,5));"
   ]
  },
  {
   "cell_type": "markdown",
   "metadata": {
    "tags": []
   },
   "source": [
    "### b. From metrical weights to periodicities"
   ]
  },
  {
   "cell_type": "code",
   "execution_count": 23,
   "metadata": {},
   "outputs": [],
   "source": [
    "def top_frequencies(summed_durations_piece_staff, n_tops, plot):\n",
    "    x = summed_durations_piece_staff.index.to_list()\n",
    "    y = summed_durations_piece_staff.to_list()\n",
    "\n",
    "    # Number of sample points\n",
    "    N = len(x)\n",
    "    # Sample spacing (in units of time_unit)\n",
    "    T = x[1].left\n",
    "\n",
    "    ################################################################\n",
    "    # Window the signal to reduce spectral leakage in the FFT (a good practise)\n",
    "    window = get_window('hann', N)\n",
    "\n",
    "    # Compute Fourier transform of signal\n",
    "    yf = rfft(y * window)\n",
    "    xf = rfftfreq(N, T)\n",
    "    # Convert frequencies to units of cycles/whole note\n",
    "    xf = xf/time_unit\n",
    "    # Convert Fourier output to real-valued amplitudes\n",
    "    amplitudes = np.abs(yf)\n",
    "\n",
    "    # Find significant peaks (using min distance between neighbouring peaks)\n",
    "    peaks, _ = find_peaks(amplitudes, distance=N*.07)\n",
    "\n",
    "    ##### Get top frequencies (and periods) #####\n",
    "    fourier_peaks = np.array(tuple(zip(xf[peaks], 1/xf[peaks], amplitudes[peaks])))\n",
    "    # Create DataFrame\n",
    "    fourier_df = pd.DataFrame(fourier_peaks, columns = ['frequency (cycles/whole note)', 'period (1/f)', 'amplitude'])\n",
    "    # Convert period (1/f) to Fractions\n",
    "    fourier_df['period (1/f)'] = [fractions.Fraction(period).limit_denominator(100) for period in fourier_df['period (1/f)']]\n",
    "    # Sort in descending order\n",
    "    fourier_df_sorted = fourier_df.sort_values(by='amplitude', ascending=False).head(n_tops)\n",
    "    tops = fourier_df_sorted['period (1/f)'].to_numpy()\n",
    "        \n",
    "    if plot:\n",
    "        print(fourier_df_sorted)\n",
    "        ##### Plot Right Fast Fourier Transform #####\n",
    "        plt.plot(xf, amplitudes)\n",
    "        plt.plot(xf[peaks], amplitudes[peaks], \"x\")\n",
    "        plt.xlabel('Frequencies [cycles/whole note]')\n",
    "        plt.ylabel('Amplitude')\n",
    "        plt.grid()\n",
    "        plt.show()\n",
    "        \n",
    "    return tops\n",
    "\n",
    "def top_autocorrelations(summed_durations_piece_staff, n_tops, plot):\n",
    "    x = summed_durations_piece_staff.index.tolist()\n",
    "    y = summed_durations_piece_staff.tolist()\n",
    "    \n",
    "    # Number of sample points\n",
    "    N = len(x)\n",
    "    # Sample spacing (in units of time_unit)\n",
    "    T = x[1].left\n",
    "    \n",
    "    ################################################################\n",
    "    # Create a window with the first few lags\n",
    "    # The window length will correspond to the maximum bar length (time signature) found in the dataset in the units of whole notes\n",
    "    nlags = math.ceil(max_bar_length / (T*time_unit))\n",
    "\n",
    "    ##### Get top autocorrelations #####\n",
    "    autocorr = sm.tsa.acf(y, nlags=nlags)\n",
    "    # Convert lags in units of whole notes\n",
    "    converted_lags = range(len(autocorr)) * (T*time_unit)\n",
    "    # Create DataFrame\n",
    "    autocorr_df = pd.DataFrame(tuple(zip(converted_lags, autocorr)), columns = ['lag (whole notes)','autocorrelation'])\n",
    "    # Convert lags to Fractions\n",
    "    autocorr_df['lag (whole notes)'] = [fractions.Fraction(onset).limit_denominator(100) for onset in autocorr_df['lag (whole notes)']]\n",
    "    # Sort in descending order\n",
    "    autocorr_df_sorted = autocorr_df.sort_values(ascending=False, by='autocorrelation').where(autocorr_df.autocorrelation > 0).dropna().drop(0).head(n_tops)\n",
    "    tops = autocorr_df_sorted['lag (whole notes)'].to_numpy()\n",
    "    \n",
    "    if plot:\n",
    "        print(autocorr_df_sorted)\n",
    "        ##### Plot autocorrelations with respect to first few lags #####\n",
    "        plot_acf(y, lags=nlags)\n",
    "        plt.xlabel('Lag [{} notes]'.format(fractions.Fraction(T*time_unit).limit_denominator(100)))\n",
    "        plt.ylabel('Autocorrelation')\n",
    "        plt.grid()\n",
    "        plt.show()\n",
    "        \n",
    "    return tops"
   ]
  },
  {
   "cell_type": "code",
   "execution_count": 24,
   "metadata": {},
   "outputs": [
    {
     "name": "stdout",
     "output_type": "stream",
     "text": [
      "Periodicity analysis of Piece: K330-3, Staff: 1, Time Signature: 2/4\n",
      "    frequency (cycles/whole note) period (1/f)  amplitude\n",
      "8                       16.002480         1/16  28.231277\n",
      "4                        8.001240          1/8  22.737916\n",
      "2                        4.000620          1/4  11.869453\n",
      "10                      20.003100         1/20  11.365003\n",
      "6                       12.001860         1/12   9.307412\n",
      "12                      23.991954         1/24   8.562833\n",
      "0                        0.047066      1636/77   4.358230\n"
     ]
    },
    {
     "data": {
      "image/png": "[encoded data removed]",
      "text/plain": [
       "<Figure size 432x288 with 1 Axes>"
      ]
     },
     "metadata": {
      "needs_background": "light"
     },
     "output_type": "display_data"
    },
    {
     "name": "stdout",
     "output_type": "stream",
     "text": [
      "   lag (whole notes)  autocorrelation\n",
      "12               1/4         0.641645\n",
      "48                 1         0.587395\n",
      "36               3/4         0.553252\n",
      "24               1/2         0.547087\n",
      "96                 2         0.500570\n",
      "60               5/4         0.476617\n",
      "72               3/2         0.470402\n"
     ]
    },
    {
     "data": {
      "image/png": "[encoded data removed]",
      "text/plain": [
       "<Figure size 432x288 with 1 Axes>"
      ]
     },
     "metadata": {
      "needs_background": "light"
     },
     "output_type": "display_data"
    }
   ],
   "source": [
    "print(\"Periodicity analysis of Piece: {piece}, Staff: {staff}, Time Signature: {timesig}\".format(piece = key[0], staff = key[1], timesig=timesig))\n",
    "\n",
    "top_frequencies(summed_durations, n_tops=7, plot=True)\n",
    "top_autocorrelations(summed_durations, n_tops=7, plot=True);"
   ]
  },
  {
   "cell_type": "markdown",
   "metadata": {
    "tags": []
   },
   "source": [
    "## 2. Full dataset classification pipeline"
   ]
  },
  {
   "cell_type": "markdown",
   "metadata": {},
   "source": [
    "### a. Metrical weights"
   ]
  },
  {
   "cell_type": "code",
   "execution_count": 26,
   "metadata": {},
   "outputs": [
    {
     "name": "stdout",
     "output_type": "stream",
     "text": [
      "CPU times: user 1min 16s, sys: 396 ms, total: 1min 17s\n",
      "Wall time: 1min 18s\n"
     ]
    }
   ],
   "source": [
    "%%time\n",
    "\n",
    "# For all pieces and staves (This operation takes around 2-3 minutes on our computer)\n",
    "\n",
    "# Create dictionaries of total piece durations and smallest notes in each piece/staff\n",
    "total_piece_durations_df = df.groupby(['piece','staff'])['global_onset'].max().apply(float)\n",
    "minimum_note_durations_df = df.groupby(['piece','staff'])['duration'].min().apply(float)\n",
    "total_piece_durations = total_piece_durations_df.to_dict()\n",
    "minimum_note_durations = minimum_note_durations_df.to_dict()\n",
    "\n",
    "summed_durations_dict = {}\n",
    "for key,value in total_piece_durations.items():\n",
    "    piece_staff = df[(df['piece'] == key[0]) & (df['staff'] == key[1])]\n",
    "\n",
    "    min_note = minimum_note_durations[key]\n",
    "    sampling_period = min_note/time_unit\n",
    "\n",
    "    bins = np.arange(0, (value+sampling_period+1e-10), sampling_period)\n",
    "    binned_onsets = pd.cut(piece_staff['global_onset'], bins, right = False)\n",
    "    summed_durations_dict[key] = piece_staff.groupby(binned_onsets)['duration'].sum().apply(float)"
   ]
  },
  {
   "cell_type": "markdown",
   "metadata": {},
   "source": [
    "### b. Building features dataset: Periodicities"
   ]
  },
  {
   "cell_type": "code",
   "execution_count": 32,
   "metadata": {
    "tags": []
   },
   "outputs": [],
   "source": [
    "# Build ground truth time signature dataset\n",
    "ground_truth_df = df.groupby(['piece', 'staff'], as_index=False).first().drop(columns=['voice','global_onset','tied','duration'])\n",
    "\n",
    "# Gather features: top n autocorrelations and frequencies\n",
    "n_tops_autocorr = 7\n",
    "n_tops_freq = 7\n",
    "periodicities = []\n",
    "for i in ground_truth_df.itertuples():\n",
    "    key = (i.piece, i.staff)\n",
    "    summed_durations_piece_staff = summed_durations_dict[key]\n",
    "    tops_autocorr = top_autocorrelations(summed_durations_piece_staff, n_tops_autocorr, plot=False)\n",
    "    tops_freq = top_frequencies(summed_durations_piece_staff, n_tops_freq, plot=False)\n",
    "    tops = [*tops_autocorr, *tops_freq]\n",
    "    periodicities.append(tops)\n",
    "    \n",
    "features_df = pd.DataFrame(periodicities)\n",
    "\n",
    "ground_truth_and_features_df = pd.concat([ground_truth_df, features_df], axis=1)\n",
    "# Fill NaNs with mean of sample features or with 0s\n",
    "#ground_truth_and_features_df = ground_truth_and_features_df.T.fillna(ground_truth_and_features_df.iloc[:,3:].mean(axis=1)).T\n",
    "ground_truth_and_features_df = ground_truth_and_features_df.fillna(0)\n",
    "\n",
    "# Get features and labels \n",
    "X = ground_truth_and_features_df.iloc[:,3:].values\n",
    "y = ground_truth_and_features_df.iloc[:,2].values"
   ]
  },
  {
   "cell_type": "markdown",
   "metadata": {},
   "source": [
    "### c. From periodicities to time signature: Classification (Random Forest)"
   ]
  },
  {
   "cell_type": "code",
   "execution_count": 33,
   "metadata": {},
   "outputs": [
    {
     "name": "stdout",
     "output_type": "stream",
     "text": [
      "Accuracy: 0.6391752577319587\n",
      "Wrong predicitons:\n",
      "[['2/2' 6]\n",
      " ['2/4' 7]\n",
      " ['3/4' 2]\n",
      " ['3/8' 3]\n",
      " ['4/4' 12]\n",
      " ['6/8' 5]]\n",
      "Correct_predictions:\n",
      "[['2/2' 11]\n",
      " ['2/4' 16]\n",
      " ['3/4' 15]\n",
      " ['3/8' 7]\n",
      " ['4/4' 7]\n",
      " ['6/8' 6]]\n"
     ]
    }
   ],
   "source": [
    "# Split training and testing data\n",
    "X_train, X_test, y_train, y_test = train_test_split(X, y, test_size=0.25, random_state=None)\n",
    "\n",
    "# Train model\n",
    "model = RandomForestClassifier(n_estimators=100, bootstrap=True)\n",
    "model.fit(X_train, y_train)\n",
    "\n",
    "# Test model\n",
    "y_pred = model.predict(X_test)\n",
    "print(\"Accuracy:\", metrics.accuracy_score(y_test, y_pred))\n",
    "\n",
    "# Get summary of predictions\n",
    "wrong_predictions = y_test[y_test!=y_pred]\n",
    "correct_predictions = y_test[y_test==y_pred]\n",
    "\n",
    "unique_wrong, counts_wrong = np.unique(wrong_predictions, return_counts=True)\n",
    "unique_correct, counts_correct = np.unique(correct_predictions, return_counts=True)\n",
    "\n",
    "result_wrong = np.column_stack((unique_wrong, counts_wrong)) \n",
    "result_correct = np.column_stack((unique_correct, counts_correct)) \n",
    "print(\"Wrong predicitons:\")\n",
    "print(result_wrong)\n",
    "print(\"Correct_predictions:\")\n",
    "print(result_correct)"
   ]
  },
  {
   "cell_type": "markdown",
   "metadata": {},
   "source": [
    "### d. Evaluation of model"
   ]
  },
  {
   "cell_type": "code",
   "execution_count": 34,
   "metadata": {},
   "outputs": [
    {
     "name": "stderr",
     "output_type": "stream",
     "text": [
      "/Users/mukqs/Documents/Spring-2022/Digital-Musicology/Assignment-1/dm-meter-timesig/venv/lib/python3.9/site-packages/sklearn/model_selection/_split.py:676: UserWarning: The least populated class in y has only 4 members, which is less than n_splits=5.\n",
      "  warnings.warn(\n"
     ]
    },
    {
     "data": {
      "image/png": "[encoded data removed]",
      "text/plain": [
       "<Figure size 504x504 with 1 Axes>"
      ]
     },
     "metadata": {
      "needs_background": "light"
     },
     "output_type": "display_data"
    },
    {
     "name": "stdout",
     "output_type": "stream",
     "text": [
      "CPU times: user 18.9 s, sys: 324 ms, total: 19.2 s\n",
      "Wall time: 20.5 s\n"
     ]
    }
   ],
   "source": [
    "%%time\n",
    "\n",
    "# Cross-validation curve\n",
    "n_trees_range=np.arange(1, 200, 10)\n",
    "\n",
    "train_scores, test_scores = validation_curve(RandomForestClassifier(), X, y, param_name=\"n_estimators\", param_range=n_trees_range, cv=5, scoring='accuracy')\n",
    "train_mean = np.mean(train_scores, axis=1)\n",
    "train_std = np.std(train_scores, axis=1)\n",
    "\n",
    "test_mean = np.mean(test_scores, axis=1)\n",
    "test_std = np.std(test_scores, axis=1)\n",
    "\n",
    "plt.subplots(1, figsize=(7,7))\n",
    "plt.plot(n_trees_range, train_mean, label=\"Training score\", color=\"blue\")\n",
    "plt.plot(n_trees_range, test_mean, label=\"Cross-validation score\", color=\"red\")\n",
    "\n",
    "plt.fill_between(n_trees_range, train_mean - train_std, train_mean + train_std, color=\"skyblue\")\n",
    "plt.fill_between(n_trees_range, test_mean - test_std, test_mean + test_std, color=\"peachpuff\")\n",
    "\n",
    "plt.title(\"Validation curve With Random Forest\")\n",
    "plt.xlabel(\"Number of trees\")\n",
    "plt.ylabel(\"Accuracy score\")\n",
    "plt.tight_layout()\n",
    "plt.legend(loc=\"best\")\n",
    "plt.grid()\n",
    "plt.show()"
   ]
  }
 ],
 "metadata": {
  "kernelspec": {
   "display_name": "Python 3 (ipykernel)",
   "language": "python",
   "name": "python3"
  },
  "language_info": {
   "codemirror_mode": {
    "name": "ipython",
    "version": 3
   },
   "file_extension": ".py",
   "mimetype": "text/x-python",
   "name": "python",
   "nbconvert_exporter": "python",
   "pygments_lexer": "ipython3",
   "version": "3.9.10"
  }
 },
 "nbformat": 4,
 "nbformat_minor": 4
}
