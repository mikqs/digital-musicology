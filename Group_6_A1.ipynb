{
 "cells": [
  {
   "cell_type": "markdown",
   "metadata": {
    "pycharm": {
     "name": "#%% md\n"
    }
   },
   "source": [
    "# Digital Musicology (DH-401)\n",
    "## Assignment 1: Discovering meter\n",
    "Group 6\n",
    "- Mickaël Achkar\n",
    "- Yichen Wang\n",
    "- Yinghui Jiang"
   ]
  },
  {
   "cell_type": "markdown",
   "metadata": {},
   "source": [
    "Rough outline\n",
    "## 0. Data preparation\n",
    "## 1. From musical score to metrical weights\n",
    "## 2. From metrical weights to periodicities\n",
    "## 3. From periodicities to time signature\n",
    "## 4. Accuracy of classification\n",
    "\n",
    "#TODO:\n",
    "- consider grace notes as normal notes (replace 'duration' with 'nominal_duration',\n",
    "because 'duration' is empty for them) -> check before/after impact to classification\n",
    "- we also need to sum up durations of tied notes based on piece and staff and voice\n",
    "- use appropriate method to extract frequencies/periodicities\n",
    "- use appropriate method to infer time signature\n",
    "- create simple classification accuracy measure with Ground Truth"
   ]
  },
  {
   "cell_type": "code",
   "execution_count": 166,
   "metadata": {
    "pycharm": {
     "name": "#%%\n"
    }
   },
   "outputs": [],
   "source": [
    "import ms3\n",
    "import pandas as pd\n",
    "import numpy as np\n",
    "import math\n",
    "import fractions\n",
    "import matplotlib.pyplot as plt\n",
    "from scipy.fftpack import rfft, rfftfreq\n",
    "from scipy.signal import find_peaks, get_window\n",
    "from statsmodels.graphics.tsaplots import plot_acf\n",
    "import statsmodels.api as sm"
   ]
  },
  {
   "cell_type": "markdown",
   "metadata": {
    "pycharm": {
     "name": "#%% md\n"
    }
   },
   "source": [
    "## 0. Data preparation"
   ]
  },
  {
   "cell_type": "code",
   "execution_count": 286,
   "metadata": {
    "pycharm": {
     "name": "#%%\n"
    }
   },
   "outputs": [],
   "source": [
    "# This is the time unit of 'global_onset' used in the dataset\n",
    "time_unit = 1/4\n",
    "\n",
    "meter_dataset = pd.read_csv('DM2022 - Assignment 1 [Dataset].csv', index_col = 0, converters = {'global_onset':fractions.Fraction, 'duration': fractions.Fraction})\n",
    "df = meter_dataset[['piece','timesig','global_onset', 'staff', 'voice', 'duration', 'nominal_duration', 'tied', 'gracenote']]\n",
    "\n",
    "# Ignore gracenotes for now\n",
    "df = df[df['gracenote'].isna()]\n",
    "\n",
    "timesignatures = [fractions.Fraction(timesig) for timesig in df['timesig']]\n",
    "max_bar_length = max(timesignatures)"
   ]
  },
  {
   "cell_type": "code",
   "execution_count": 287,
   "metadata": {},
   "outputs": [
    {
     "name": "stdout",
     "output_type": "stream",
     "text": [
      "CPU times: user 2.56 s, sys: 117 ms, total: 2.68 s\n",
      "Wall time: 3.05 s\n"
     ]
    },
    {
     "data": {
      "text/html": [
       "<div>\n",
       "<style scoped>\n",
       "    .dataframe tbody tr th:only-of-type {\n",
       "        vertical-align: middle;\n",
       "    }\n",
       "\n",
       "    .dataframe tbody tr th {\n",
       "        vertical-align: top;\n",
       "    }\n",
       "\n",
       "    .dataframe thead th {\n",
       "        text-align: right;\n",
       "    }\n",
       "</style>\n",
       "<table border=\"1\" class=\"dataframe\">\n",
       "  <thead>\n",
       "    <tr style=\"text-align: right;\">\n",
       "      <th></th>\n",
       "      <th>piece</th>\n",
       "      <th>staff</th>\n",
       "      <th>voice</th>\n",
       "      <th>timesig</th>\n",
       "      <th>global_onset</th>\n",
       "      <th>tied</th>\n",
       "      <th>duration</th>\n",
       "    </tr>\n",
       "  </thead>\n",
       "  <tbody>\n",
       "    <tr>\n",
       "      <th>0</th>\n",
       "      <td>K279-1</td>\n",
       "      <td>1</td>\n",
       "      <td>1</td>\n",
       "      <td>4/4</td>\n",
       "      <td>0</td>\n",
       "      <td>NaN</td>\n",
       "      <td>1/4</td>\n",
       "    </tr>\n",
       "    <tr>\n",
       "      <th>1</th>\n",
       "      <td>K279-1</td>\n",
       "      <td>1</td>\n",
       "      <td>1</td>\n",
       "      <td>4/4</td>\n",
       "      <td>0</td>\n",
       "      <td>NaN</td>\n",
       "      <td>1/4</td>\n",
       "    </tr>\n",
       "    <tr>\n",
       "      <th>2</th>\n",
       "      <td>K279-1</td>\n",
       "      <td>1</td>\n",
       "      <td>1</td>\n",
       "      <td>4/4</td>\n",
       "      <td>0</td>\n",
       "      <td>NaN</td>\n",
       "      <td>1/4</td>\n",
       "    </tr>\n",
       "    <tr>\n",
       "      <th>3</th>\n",
       "      <td>K279-1</td>\n",
       "      <td>1</td>\n",
       "      <td>1</td>\n",
       "      <td>4/4</td>\n",
       "      <td>3/2</td>\n",
       "      <td>NaN</td>\n",
       "      <td>1/16</td>\n",
       "    </tr>\n",
       "    <tr>\n",
       "      <th>4</th>\n",
       "      <td>K279-1</td>\n",
       "      <td>1</td>\n",
       "      <td>1</td>\n",
       "      <td>4/4</td>\n",
       "      <td>7/4</td>\n",
       "      <td>NaN</td>\n",
       "      <td>1/16</td>\n",
       "    </tr>\n",
       "    <tr>\n",
       "      <th>...</th>\n",
       "      <td>...</td>\n",
       "      <td>...</td>\n",
       "      <td>...</td>\n",
       "      <td>...</td>\n",
       "      <td>...</td>\n",
       "      <td>...</td>\n",
       "      <td>...</td>\n",
       "    </tr>\n",
       "    <tr>\n",
       "      <th>330478</th>\n",
       "      <td>n16op135_04</td>\n",
       "      <td>4</td>\n",
       "      <td>1</td>\n",
       "      <td>4/4</td>\n",
       "      <td>1140</td>\n",
       "      <td>NaN</td>\n",
       "      <td>1/4</td>\n",
       "    </tr>\n",
       "    <tr>\n",
       "      <th>330479</th>\n",
       "      <td>n16op135_04</td>\n",
       "      <td>4</td>\n",
       "      <td>1</td>\n",
       "      <td>4/4</td>\n",
       "      <td>1141</td>\n",
       "      <td>NaN</td>\n",
       "      <td>1/4</td>\n",
       "    </tr>\n",
       "    <tr>\n",
       "      <th>330480</th>\n",
       "      <td>n16op135_04</td>\n",
       "      <td>4</td>\n",
       "      <td>1</td>\n",
       "      <td>4/4</td>\n",
       "      <td>1142</td>\n",
       "      <td>NaN</td>\n",
       "      <td>1/2</td>\n",
       "    </tr>\n",
       "    <tr>\n",
       "      <th>330481</th>\n",
       "      <td>n16op135_04</td>\n",
       "      <td>4</td>\n",
       "      <td>1</td>\n",
       "      <td>4/4</td>\n",
       "      <td>1144</td>\n",
       "      <td>NaN</td>\n",
       "      <td>1/2</td>\n",
       "    </tr>\n",
       "    <tr>\n",
       "      <th>330482</th>\n",
       "      <td>n16op135_04</td>\n",
       "      <td>4</td>\n",
       "      <td>1</td>\n",
       "      <td>4/4</td>\n",
       "      <td>1146</td>\n",
       "      <td>NaN</td>\n",
       "      <td>1/4</td>\n",
       "    </tr>\n",
       "  </tbody>\n",
       "</table>\n",
       "<p>330483 rows × 7 columns</p>\n",
       "</div>"
      ],
      "text/plain": [
       "              piece  staff  voice timesig global_onset  tied duration\n",
       "0            K279-1      1      1     4/4            0   NaN      1/4\n",
       "1            K279-1      1      1     4/4            0   NaN      1/4\n",
       "2            K279-1      1      1     4/4            0   NaN      1/4\n",
       "3            K279-1      1      1     4/4          3/2   NaN     1/16\n",
       "4            K279-1      1      1     4/4          7/4   NaN     1/16\n",
       "...             ...    ...    ...     ...          ...   ...      ...\n",
       "330478  n16op135_04      4      1     4/4         1140   NaN      1/4\n",
       "330479  n16op135_04      4      1     4/4         1141   NaN      1/4\n",
       "330480  n16op135_04      4      1     4/4         1142   NaN      1/2\n",
       "330481  n16op135_04      4      1     4/4         1144   NaN      1/2\n",
       "330482  n16op135_04      4      1     4/4         1146   NaN      1/4\n",
       "\n",
       "[330483 rows x 7 columns]"
      ]
     },
     "execution_count": 287,
     "metadata": {},
     "output_type": "execute_result"
    }
   ],
   "source": [
    "%%time\n",
    "\n",
    "tied_df = df.sort_values(by=['piece','staff','voice','global_onset']).reset_index()\n",
    "\n",
    "# Aggregating ties (to verify if this is worse or better)\n",
    "blocks = (tied_df.tied.ne(tied_df.tied.shift()) & tied_df.tied.ne(tied_df.tied.shift() - 2) & tied_df.tied.ne(tied_df.tied.shift() - 1)).cumsum()\n",
    "tied_df = tied_df.groupby(blocks, as_index=False).agg({'piece':'first','staff':'first', 'voice':'first', 'timesig':'first', 'global_onset':'first', 'tied':'first', 'duration':'sum'})\n",
    "old_df = df\n",
    "\n",
    "# not optimized\n",
    "# tied_df = pd.DataFrame(columns=['piece', 'staff', 'voice', 'global_onset', 'duration', 'tied', 'timesig'])\n",
    "# for index, row in wdf.iterrows():\n",
    "#     if pd.isnull(row['tied']):\n",
    "#         tied_df.loc[index]=row\n",
    "#     if row['tied'] == 1:\n",
    "#         tied_df.loc[index]=row\n",
    "#         subindex = index\n",
    "#         while wdf.loc[subindex + 1]['tied'].item() == 0:\n",
    "#             tied_df.loc[index]['duration'] += wdf.loc[subindex + 1]['duration']\n",
    "#             subindex += 1\n",
    "#         else:\n",
    "#             tied_df.loc[index]['duration'] += wdf.loc[subindex + 1]['duration']\n"
   ]
  },
  {
   "cell_type": "code",
   "execution_count": 279,
   "metadata": {},
   "outputs": [],
   "source": [
    "df = tied_df\n",
    "# df = old_df"
   ]
  },
  {
   "cell_type": "markdown",
   "metadata": {},
   "source": [
    "## 1. From musical score to metrical weights"
   ]
  },
  {
   "cell_type": "code",
   "execution_count": 280,
   "metadata": {
    "pycharm": {
     "name": "#%%\n"
    }
   },
   "outputs": [
    {
     "name": "stdout",
     "output_type": "stream",
     "text": [
      "Smallest note length in dataset: 1/32\n"
     ]
    },
    {
     "data": {
      "text/html": [
       "<div>\n",
       "<style scoped>\n",
       "    .dataframe tbody tr th:only-of-type {\n",
       "        vertical-align: middle;\n",
       "    }\n",
       "\n",
       "    .dataframe tbody tr th {\n",
       "        vertical-align: top;\n",
       "    }\n",
       "\n",
       "    .dataframe thead th {\n",
       "        text-align: right;\n",
       "    }\n",
       "</style>\n",
       "<table border=\"1\" class=\"dataframe\">\n",
       "  <thead>\n",
       "    <tr style=\"text-align: right;\">\n",
       "      <th></th>\n",
       "      <th>piece</th>\n",
       "      <th>staff</th>\n",
       "      <th>voice</th>\n",
       "      <th>timesig</th>\n",
       "      <th>global_onset</th>\n",
       "      <th>tied</th>\n",
       "      <th>duration</th>\n",
       "    </tr>\n",
       "  </thead>\n",
       "  <tbody>\n",
       "    <tr>\n",
       "      <th>28794</th>\n",
       "      <td>K309-1</td>\n",
       "      <td>1</td>\n",
       "      <td>1</td>\n",
       "      <td>4/4</td>\n",
       "      <td>0</td>\n",
       "      <td>NaN</td>\n",
       "      <td>1/2</td>\n",
       "    </tr>\n",
       "    <tr>\n",
       "      <th>28795</th>\n",
       "      <td>K309-1</td>\n",
       "      <td>1</td>\n",
       "      <td>1</td>\n",
       "      <td>4/4</td>\n",
       "      <td>2</td>\n",
       "      <td>NaN</td>\n",
       "      <td>1/2</td>\n",
       "    </tr>\n",
       "    <tr>\n",
       "      <th>28796</th>\n",
       "      <td>K309-1</td>\n",
       "      <td>1</td>\n",
       "      <td>1</td>\n",
       "      <td>4/4</td>\n",
       "      <td>4</td>\n",
       "      <td>NaN</td>\n",
       "      <td>3/8</td>\n",
       "    </tr>\n",
       "    <tr>\n",
       "      <th>28797</th>\n",
       "      <td>K309-1</td>\n",
       "      <td>1</td>\n",
       "      <td>1</td>\n",
       "      <td>4/4</td>\n",
       "      <td>11/2</td>\n",
       "      <td>NaN</td>\n",
       "      <td>1/16</td>\n",
       "    </tr>\n",
       "    <tr>\n",
       "      <th>28798</th>\n",
       "      <td>K309-1</td>\n",
       "      <td>1</td>\n",
       "      <td>1</td>\n",
       "      <td>4/4</td>\n",
       "      <td>23/4</td>\n",
       "      <td>NaN</td>\n",
       "      <td>1/16</td>\n",
       "    </tr>\n",
       "    <tr>\n",
       "      <th>...</th>\n",
       "      <td>...</td>\n",
       "      <td>...</td>\n",
       "      <td>...</td>\n",
       "      <td>...</td>\n",
       "      <td>...</td>\n",
       "      <td>...</td>\n",
       "      <td>...</td>\n",
       "    </tr>\n",
       "    <tr>\n",
       "      <th>29790</th>\n",
       "      <td>K309-1</td>\n",
       "      <td>1</td>\n",
       "      <td>1</td>\n",
       "      <td>4/4</td>\n",
       "      <td>618</td>\n",
       "      <td>NaN</td>\n",
       "      <td>1/4</td>\n",
       "    </tr>\n",
       "    <tr>\n",
       "      <th>29791</th>\n",
       "      <td>K309-1</td>\n",
       "      <td>1</td>\n",
       "      <td>2</td>\n",
       "      <td>4/4</td>\n",
       "      <td>200</td>\n",
       "      <td>NaN</td>\n",
       "      <td>1/8</td>\n",
       "    </tr>\n",
       "    <tr>\n",
       "      <th>29792</th>\n",
       "      <td>K309-1</td>\n",
       "      <td>1</td>\n",
       "      <td>2</td>\n",
       "      <td>4/4</td>\n",
       "      <td>401/2</td>\n",
       "      <td>NaN</td>\n",
       "      <td>1/8</td>\n",
       "    </tr>\n",
       "    <tr>\n",
       "      <th>29793</th>\n",
       "      <td>K309-1</td>\n",
       "      <td>1</td>\n",
       "      <td>2</td>\n",
       "      <td>4/4</td>\n",
       "      <td>576</td>\n",
       "      <td>NaN</td>\n",
       "      <td>1/8</td>\n",
       "    </tr>\n",
       "    <tr>\n",
       "      <th>29794</th>\n",
       "      <td>K309-1</td>\n",
       "      <td>1</td>\n",
       "      <td>2</td>\n",
       "      <td>4/4</td>\n",
       "      <td>1153/2</td>\n",
       "      <td>NaN</td>\n",
       "      <td>1/8</td>\n",
       "    </tr>\n",
       "  </tbody>\n",
       "</table>\n",
       "<p>1001 rows × 7 columns</p>\n",
       "</div>"
      ],
      "text/plain": [
       "        piece  staff  voice timesig global_onset  tied duration\n",
       "28794  K309-1      1      1     4/4            0   NaN      1/2\n",
       "28795  K309-1      1      1     4/4            2   NaN      1/2\n",
       "28796  K309-1      1      1     4/4            4   NaN      3/8\n",
       "28797  K309-1      1      1     4/4         11/2   NaN     1/16\n",
       "28798  K309-1      1      1     4/4         23/4   NaN     1/16\n",
       "...       ...    ...    ...     ...          ...   ...      ...\n",
       "29790  K309-1      1      1     4/4          618   NaN      1/4\n",
       "29791  K309-1      1      2     4/4          200   NaN      1/8\n",
       "29792  K309-1      1      2     4/4        401/2   NaN      1/8\n",
       "29793  K309-1      1      2     4/4          576   NaN      1/8\n",
       "29794  K309-1      1      2     4/4       1153/2   NaN      1/8\n",
       "\n",
       "[1001 rows x 7 columns]"
      ]
     },
     "execution_count": 280,
     "metadata": {},
     "output_type": "execute_result"
    },
    {
     "data": {
      "image/png": "[encoded data removed]",
      "text/plain": [
       "<Figure size 1728x360 with 1 Axes>"
      ]
     },
     "metadata": {
      "needs_background": "light"
     },
     "output_type": "display_data"
    }
   ],
   "source": [
    "# Select one piece and staff (time signature may change per staff)\n",
    "one_piece_staff = df[(df['piece'] == 'K309-1') & (df['staff'] == 1)]\n",
    "\n",
    "# To fine-tune sampling, get minimum note duration among all notes in the piece/staff\n",
    "min_note = float(one_piece_staff['duration'].min())\n",
    "print(\"Smallest note length in dataset:\", fractions.Fraction(min_note))\n",
    "\n",
    "sampling_period = min_note/time_unit\n",
    "total_piece_duration = one_piece_staff['global_onset'].max()\n",
    "\n",
    "# Partition the global_onsets in bins\n",
    "bins = np.arange(0, (total_piece_duration+sampling_period+1e-10), sampling_period)\n",
    "binned_onsets = pd.cut(one_piece_staff['global_onset'], bins, right = False)\n",
    "\n",
    "# Compute the sum of durations of all events with onsets in each bin\n",
    "summed_durations = one_piece_staff.groupby(binned_onsets)['duration'].sum().apply(float)\n",
    "summed_durations.plot(figsize=(24,5));\n",
    "\n",
    "one_piece_staff"
   ]
  },
  {
   "cell_type": "code",
   "execution_count": 281,
   "metadata": {
    "pycharm": {
     "name": "#%%\n"
    }
   },
   "outputs": [
    {
     "name": "stdout",
     "output_type": "stream",
     "text": [
      "CPU times: user 1min 50s, sys: 1.78 s, total: 1min 51s\n",
      "Wall time: 2min 2s\n"
     ]
    }
   ],
   "source": [
    "%%time\n",
    "\n",
    "# For all pieces and staves (This operation takes around 2-3 minutes on our computer)\n",
    "\n",
    "# Create dictionaries of total piece durations and smallest notes in each piece/staff\n",
    "total_piece_durations_df = df.groupby(['piece','staff'])['global_onset'].max().apply(float)\n",
    "minimum_note_durations_df = df.groupby(['piece','staff'])['duration'].min().apply(float)\n",
    "total_piece_durations = total_piece_durations_df.to_dict()\n",
    "minimum_note_durations = minimum_note_durations_df.to_dict()\n",
    "\n",
    "summed_durations = {}\n",
    "for key,value in total_piece_durations.items():\n",
    "    piece_staff = df[(df['piece'] == key[0]) & (df['staff'] == key[1])]\n",
    "\n",
    "    min_note = minimum_note_durations[key]\n",
    "    sampling_period = min_note/time_unit\n",
    "\n",
    "    bins = np.arange(0, (value+sampling_period+1e-10), sampling_period)\n",
    "    binned_onsets = pd.cut(piece_staff['global_onset'], bins, right = False)\n",
    "    summed_durations[key] = piece_staff.groupby(binned_onsets)['duration'].sum().apply(float)"
   ]
  },
  {
   "cell_type": "code",
   "execution_count": 282,
   "metadata": {
    "pycharm": {
     "name": "#%%\n"
    }
   },
   "outputs": [
    {
     "name": "stdout",
     "output_type": "stream",
     "text": [
      "Metrical weights of Piece: n12op127_04, Staff: 1, Time Signature: 2/2\n"
     ]
    },
    {
     "data": {
      "image/png": "[encoded data removed]",
      "text/plain": [
       "<Figure size 1800x720 with 1 Axes>"
      ]
     },
     "metadata": {
      "needs_background": "light"
     },
     "output_type": "display_data"
    }
   ],
   "source": [
    "# Now we can plot the metrical weights of a random piece + staff\n",
    "random_piece_staff = df[['piece', 'staff']].sample(n=1).to_records(index=False)\n",
    "key = tuple(random_piece_staff[0])\n",
    "\n",
    "# Get timesignature for reference\n",
    "timesig = df[(df['piece'] == key[0]) & (df['staff'] == key[1])]['timesig'].sample(n=1).item()\n",
    "\n",
    "print(\"Metrical weights of Piece: {piece}, Staff: {staff}, Time Signature: {timesig}\".format(piece = key[0], staff = key[1], timesig=timesig))\n",
    "\n",
    "# Plot metrical weights\n",
    "summed_durations[key].plot(figsize=(25,10));\n"
   ]
  },
  {
   "cell_type": "markdown",
   "metadata": {},
   "source": [
    "## 2. From metrical weights to periodicities"
   ]
  },
  {
   "cell_type": "code",
   "execution_count": 283,
   "metadata": {},
   "outputs": [
    {
     "name": "stdout",
     "output_type": "stream",
     "text": [
      "Periodicity analysis of Piece: n12op127_04, Staff: 1, Time Signature: 2/2\n"
     ]
    },
    {
     "data": {
      "image/png": "[encoded data removed]",
      "text/plain": [
       "<Figure size 432x288 with 1 Axes>"
      ]
     },
     "metadata": {
      "needs_background": "light"
     },
     "output_type": "display_data"
    },
    {
     "name": "stdout",
     "output_type": "stream",
     "text": [
      "    frequency (cycles/whole note) period (1/f)   amplitude\n",
      "8                        7.982874          1/8  109.799246\n",
      "4                        3.991437          1/4   88.438075\n",
      "10                       9.980329         1/10   23.573892\n",
      "2                        1.997455          1/2   19.288238\n",
      "6                        5.988892          1/6   17.640007\n",
      "12                      11.970837         1/12   14.839881\n",
      "9                        9.080606       11/100   11.801665\n",
      "1                        0.899723         10/9   11.379094\n",
      "11                      10.869631         8/87   10.769557\n",
      "7                        6.919880        13/90   10.484790\n",
      "3                        2.897179        29/84   10.352324\n",
      "5                        5.099591        10/51   10.278168\n",
      "0                        0.024317      3989/97    7.251286\n"
     ]
    },
    {
     "data": {
      "image/png": "[encoded data removed]",
      "text/plain": [
       "<Figure size 432x288 with 1 Axes>"
      ]
     },
     "metadata": {
      "needs_background": "light"
     },
     "output_type": "display_data"
    },
    {
     "name": "stdout",
     "output_type": "stream",
     "text": [
      "   lag (whole notes)  autocorrelation\n",
      "24                 1         0.608817\n",
      "48                 2         0.534289\n",
      "36            149/99         0.469566\n",
      "12               1/2         0.401859\n",
      "18             73/97         0.380963\n",
      "42            128/73         0.362837\n",
      "6                1/4         0.354181\n",
      "54            124/55         0.351201\n",
      "30            124/99         0.347622\n",
      "9              35/93         0.012200\n",
      "45             62/33         0.011297\n",
      "27             62/55         0.009848\n",
      "33             62/45         0.007279\n",
      "21             64/73         0.001349\n",
      "51            181/85         0.001134\n"
     ]
    }
   ],
   "source": [
    "print(\"Periodicity analysis of Piece: {piece}, Staff: {staff}, Time Signature: {timesig}\".format(piece = key[0], staff = key[1], timesig=timesig))\n",
    "\n",
    "x = summed_durations[key].index.tolist()\n",
    "y = summed_durations[key].tolist()\n",
    "\n",
    "# Number of sample points\n",
    "N = len(x)\n",
    "# Sample spacing (in units of time_unit)\n",
    "T = x[1].left\n",
    "\n",
    "################################################################\n",
    "# Window the signal to reduce spectral leakage in the FFT (a good practise)\n",
    "window = get_window('hann', N)\n",
    "\n",
    "# Compute Fourier transform of signal\n",
    "yf = rfft(y * window)\n",
    "xf = rfftfreq(N, T)\n",
    "# Convert frequencies to units of cycles/whole note\n",
    "xf = xf/time_unit\n",
    "# Convert Fourier output to real-valued amplitudes\n",
    "amplitudes = np.abs(yf)\n",
    "\n",
    "# Find significant peaks (using min distance between neighbouring peaks)\n",
    "peaks, _ = find_peaks(amplitudes, distance=N*.07)\n",
    "\n",
    "##### Plot Right Fast Fourier Transform #####\n",
    "plt.plot(xf, amplitudes)\n",
    "plt.plot(xf[peaks], amplitudes[peaks], \"x\")\n",
    "plt.xlabel('Frequencies in units of cycles/whole note')\n",
    "plt.grid()\n",
    "plt.show()\n",
    "\n",
    "##### Get top frequencies (and periods) #####\n",
    "fourier_peaks = np.array(tuple(zip(xf[peaks], 1/xf[peaks], amplitudes[peaks])))\n",
    "# Create DataFrame\n",
    "fourier_df = pd.DataFrame(fourier_peaks, columns = ['frequency (cycles/whole note)', 'period (1/f)', 'amplitude'])\n",
    "# Convert period (1/f) to Fractions\n",
    "fourier_df['period (1/f)'] = [fractions.Fraction(period).limit_denominator(100) for period in fourier_df['period (1/f)']]\n",
    "# Sort in descending order\n",
    "fourier_df_sorted = fourier_df.sort_values(by='amplitude', ascending=False)\n",
    "print(fourier_df_sorted)\n",
    "\n",
    "################################################################\n",
    "# Create a window with the first few lags\n",
    "# The window length will correspond to the maximum bar length (time signature) found in the dataset in the units of whole notes\n",
    "nlags = math.ceil(max_bar_length / (T*time_unit))\n",
    "\n",
    "##### Plot autocorrelations with respect to first few lags #####\n",
    "plot_acf(y, lags=nlags)\n",
    "plt.xlabel('Lag in units of {} notes'.format(fractions.Fraction(T*time_unit).limit_denominator(100)))\n",
    "plt.grid()\n",
    "plt.show()\n",
    "\n",
    "##### Get top autocorrelations #####\n",
    "autocorr = sm.tsa.acf(y, nlags=nlags)\n",
    "# Convert lags in units of whole notes\n",
    "converted_lags = range(len(autocorr)) * (T*time_unit)\n",
    "# Create DataFrame\n",
    "autocorr_df = pd.DataFrame(tuple(zip(converted_lags, autocorr)), columns = ['lag (whole notes)','autocorrelation'])\n",
    "# Convert lags to Fractions\n",
    "autocorr_df['lag (whole notes)'] = [fractions.Fraction(onset).limit_denominator(100) for onset in autocorr_df['lag (whole notes)']]\n",
    "# Sort in descending order\n",
    "autocorr_df_sorted = autocorr_df.sort_values(ascending=False, by='autocorrelation').where(autocorr_df.autocorrelation > 0).dropna().drop(0)\n",
    "print(autocorr_df_sorted)\n",
    "\n"
   ]
  }
 ],
 "metadata": {
  "kernelspec": {
   "display_name": "Python 3 (ipykernel)",
   "language": "python",
   "name": "python3"
  },
  "language_info": {
   "codemirror_mode": {
    "name": "ipython",
    "version": 3
   },
   "file_extension": ".py",
   "mimetype": "text/x-python",
   "name": "python",
   "nbconvert_exporter": "python",
   "pygments_lexer": "ipython3",
   "version": "3.9.10"
  }
 },
 "nbformat": 4,
 "nbformat_minor": 4
}
