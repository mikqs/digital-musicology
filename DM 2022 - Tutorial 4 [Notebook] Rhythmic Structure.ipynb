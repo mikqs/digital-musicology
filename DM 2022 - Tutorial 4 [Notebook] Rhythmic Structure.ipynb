{
 "cells": [
  {
   "cell_type": "markdown",
   "source": [
    "# Setup"
   ],
   "metadata": {
    "collapsed": false,
    "pycharm": {
     "name": "#%% md\n"
    }
   }
  },
  {
   "cell_type": "code",
   "execution_count": 1,
   "outputs": [],
   "source": [
    "#!pip install --user music21 pygame iteration_utilities"
   ],
   "metadata": {
    "collapsed": false,
    "pycharm": {
     "name": "#%%\n"
    }
   }
  },
  {
   "cell_type": "markdown",
   "source": [
    "## Configure Music21\n",
    "\n",
    "The library uses your installation of [MuseScore](https://musescore.org/) to display scores. Tell it where the MuseScore executable can be found on your computer by uncommenting and adapting the respective line. This needs to happen only once."
   ],
   "metadata": {
    "collapsed": false
   }
  },
  {
   "cell_type": "code",
   "execution_count": 2,
   "outputs": [],
   "source": [
    "from music21 import environment\n",
    "# Windows (adapt Program Files)\n",
    "#musescore_executable = r'C:\\Program Files (x86)\\MuseScore 3\\bin\\MuseScore3.exe'\n",
    "musescore_executable = r'C:\\Program Files\\MuseScore 3\\bin\\MuseScore3.exe'\n",
    "\n",
    "# Mac path\n",
    "#musescore_executable = '/Applications/MuseScore 3.app/Contents/MacOS/mscore'\n",
    "\n",
    "# Linux path (if Package manager is not Snap)\n",
    "#musescore_executable = '/usr/bin/mscore'\n",
    "# otherwise, download AppImage, e.g.\n",
    "#musescore_executable = '~/Downloads/MuseScore-3.6.2.548021370-x86_64.AppImage'\n",
    "\n",
    "environment.set('musescoreDirectPNGPath', musescore_executable)\n",
    "environment.set('musicxmlPath', musescore_executable)\n",
    "environment.set('autoDownload', 'allow')"
   ],
   "metadata": {
    "collapsed": false,
    "pycharm": {
     "name": "#%%\n"
    }
   }
  },
  {
   "cell_type": "markdown",
   "source": [
    "# Preliminaries"
   ],
   "metadata": {
    "collapsed": false,
    "pycharm": {
     "name": "#%% md\n"
    }
   }
  },
  {
   "cell_type": "code",
   "execution_count": 1,
   "outputs": [],
   "source": [
    "from fractions import Fraction\n",
    "from music21 import midi, note, stream, instrument, meter"
   ],
   "metadata": {
    "collapsed": false,
    "pycharm": {
     "name": "#%%\n"
    }
   }
  },
  {
   "cell_type": "markdown",
   "source": [],
   "metadata": {
    "collapsed": false
   }
  },
  {
   "cell_type": "markdown",
   "id": "17f60d41",
   "metadata": {},
   "source": [
    "## Helper functions\n",
    "\n",
    "In this tutorial, we use the library `music21` to visualize rhythms in score format. Music21 stores `Note` objects into containers called `Stream` (or its subclass `Measure`). The parameters of the note objects (e.g., duration, onset, and pitch) can be transformed algorithmically, and the containers can then be visualized in score format or rendered as audio playback in midi format.\n",
    "\n",
    "First, here is a shortcut for **playback**:"
   ]
  },
  {
   "cell_type": "code",
   "execution_count": 2,
   "id": "6863241f",
   "metadata": {},
   "outputs": [],
   "source": [
    "def play(score):\n",
    "    \"\"\"Takes a Measure or Stream and plays it back.\"\"\"\n",
    "    midi.realtime.StreamPlayer(score).play()"
   ]
  },
  {
   "cell_type": "markdown",
   "id": "43f5dbae",
   "metadata": {},
   "source": [
    "**Now, we define a function to create individual percussion sounds with a given duration.**\n",
    "\n",
    "We express durations in whole-note units, so that quarter-notes have duration 1/4, eigth-notes have duration 1/8 etc.\n",
    "\n",
    "Since we are dealing with rhythm, we don't really care about the pitch of the notes, so we assign a default value (C4)."
   ]
  },
  {
   "cell_type": "code",
   "execution_count": 3,
   "id": "4830aa2f",
   "metadata": {},
   "outputs": [],
   "source": [
    "def percussion_hit(duration, pitch = \"C4\"):\n",
    "    \"\"\"Create Note object for percussion hits (default pitch is C4)\n",
    "\n",
    "    Parameters\n",
    "    ----------\n",
    "    duration : float or Fraction\n",
    "        Duration of the event.\n",
    "    pitch : str, optional\n",
    "        Matters only for display.\n",
    "\n",
    "    Returns\n",
    "    -------\n",
    "    music21.note.Note\n",
    "        A Note object that can be embedded in containers such as Chords, Measures, Streams\n",
    "    \"\"\"\n",
    "    return note.Note(pitch, quarterLength = duration*4)"
   ]
  },
  {
   "cell_type": "markdown",
   "id": "27262052",
   "metadata": {},
   "source": [
    "So, a percussion_hit of duration 1 (whole-note) spans 4 quarter-notes:"
   ]
  },
  {
   "cell_type": "code",
   "execution_count": 4,
   "id": "6ff1ee4d",
   "metadata": {},
   "outputs": [
    {
     "data": {
      "text/plain": "4.0"
     },
     "execution_count": 4,
     "metadata": {},
     "output_type": "execute_result"
    }
   ],
   "source": [
    "whole_note = percussion_hit(1)\n",
    "whole_note.quarterLength"
   ]
  },
  {
   "cell_type": "code",
   "execution_count": 5,
   "id": "87ac0695",
   "metadata": {},
   "outputs": [
    {
     "data": {
      "image/png": "[encoded data removed]",
      "text/plain": "<IPython.core.display.Image object>"
     },
     "metadata": {
      "image/png": {
       "width": 206,
       "height": 49
      }
     },
     "output_type": "display_data"
    }
   ],
   "source": [
    "whole_note.show()"
   ]
  },
  {
   "cell_type": "markdown",
   "id": "0080cab9",
   "metadata": {},
   "source": [
    "**Now, we create a container object (a Stream or a Measure) for our percussion_hits.**"
   ]
  },
  {
   "cell_type": "code",
   "execution_count": 6,
   "id": "85d6aa1a",
   "metadata": {},
   "outputs": [],
   "source": [
    "def create_percussion(time_sig = None):\n",
    "    \"\"\" Creates a container with or without time signature to which\n",
    "    events can be appended.\n",
    "\n",
    "    Parameters\n",
    "    ----------\n",
    "    time_sig : str, optional\n",
    "        By default, no time signature is specified, so that a single measure of unspecified capacity is generated.\n",
    "        If you do specify a time signature a stream with the given time signature is created instead.\n",
    "\n",
    "    Returns\n",
    "    -------\n",
    "    music21.stream.Stream\n",
    "        If time_sig is None, the return value is a Measure which is a subclass of Stream.\n",
    "    \"\"\"\n",
    "    if time_sig == None:\n",
    "        drumPart = stream.Measure()\n",
    "    else:\n",
    "        drumPart = stream.Stream()\n",
    "        drumPart.timeSignature = meter.TimeSignature(time_sig)\n",
    "    \n",
    "    drumPart.insert(0, instrument.Woodblock()) #assign woodblock timbre\n",
    "    return drumPart"
   ]
  },
  {
   "cell_type": "code",
   "execution_count": 7,
   "outputs": [
    {
     "data": {
      "image/png": "[encoded data removed]",
      "text/plain": "<IPython.core.display.Image object>"
     },
     "metadata": {
      "image/png": {
       "width": 247,
       "height": 49
      }
     },
     "output_type": "display_data"
    }
   ],
   "source": [
    "no_timesig = create_percussion()     # create stream without time signature\n",
    "no_timesig.append(percussion_hit(3)) # add an event of length 3 whole notes\n",
    "no_timesig.show()                    # display"
   ],
   "metadata": {
    "collapsed": false,
    "pycharm": {
     "name": "#%%\n"
    }
   }
  },
  {
   "cell_type": "code",
   "execution_count": 8,
   "outputs": [
    {
     "name": "stdout",
     "output_type": "stream",
     "text": [
      "pygame 2.1.2 (SDL 2.0.18, Python 3.10.0)\n",
      "Hello from the pygame community. https://www.pygame.org/contribute.html\n"
     ]
    }
   ],
   "source": [
    "play(no_timesig) # play back"
   ],
   "metadata": {
    "collapsed": false,
    "pycharm": {
     "name": "#%%\n"
    }
   }
  },
  {
   "cell_type": "markdown",
   "id": "45f973b2",
   "metadata": {},
   "source": [
    "**We can now create rhythms by appending percussion_hits to a stream.**\n",
    "\n",
    "To simplify the process, we define new function that appends a percussion_hit of given duration to an existing percussion stream:"
   ]
  },
  {
   "cell_type": "code",
   "execution_count": 9,
   "id": "ef59e621",
   "metadata": {},
   "outputs": [],
   "source": [
    "def append_event(duration, stream_object, rest = False, pitch ='C4'):\n",
    "    \"\"\" Appends a rest or percussion_hit of the given duration to an existing stream.\n",
    "\n",
    "    Parameters\n",
    "    ----------\n",
    "    duration : float or Fraction\n",
    "        Duration of the new event.\n",
    "    stream_object : music21.stream.Stream\n",
    "        Stream object to which append the new event to.\n",
    "    rest : bool, optional\n",
    "        By default, the appended event has the pitch ``pitch``.\n",
    "        Pass True to append a rest instead.\n",
    "    pitch : str, optional\n",
    "        Pitch of the appended event, matters only for display. Disregarded if ``rest`` is True.\n",
    "\n",
    "    Returns\n",
    "    -------\n",
    "    None\n",
    "    \"\"\"\n",
    "    if rest:\n",
    "        stream_object.append(note.Rest(quarterLength = duration*4))\n",
    "    else:\n",
    "        stream_object.append(percussion_hit(duration, pitch))"
   ]
  },
  {
   "cell_type": "code",
   "execution_count": 10,
   "id": "675a559e",
   "metadata": {},
   "outputs": [
    {
     "data": {
      "image/png": "[encoded data removed]",
      "text/plain": "<IPython.core.display.Image object>"
     },
     "metadata": {
      "image/png": {
       "width": 226,
       "height": 49
      }
     },
     "output_type": "display_data"
    }
   ],
   "source": [
    "four_four = create_percussion(\"4/4\")\n",
    "append_event(1/8, four_four)\n",
    "four_four.show()"
   ]
  },
  {
   "cell_type": "markdown",
   "id": "fb4be49e",
   "metadata": {},
   "source": [
    "Finally, bundle everything so we can create a rhythm directly from a list of durations:"
   ]
  },
  {
   "cell_type": "code",
   "execution_count": 11,
   "id": "32762674",
   "metadata": {},
   "outputs": [],
   "source": [
    "def rhythm_from_sequence(durations, time_sig = None, pitch = 'C4', rhythm=None):\n",
    "    \"\"\" Generate rhythmic stream from a list of durations. Rests are indicated by specifying a duration as a string.\n",
    "\n",
    "    Parameters\n",
    "    ----------\n",
    "    durations : list of {float, Fraction, str}\n",
    "        Sequence of durations. Floats or Fractions passed as strings are interpreted as rests.\n",
    "    time_sig : str, optional\n",
    "        By default, no time signature is specified, so that a single measure of unspecified capacity is generated.\n",
    "        If you do specify a time signature a stream with the given time signature is created instead.\n",
    "    pitch : str, optional\n",
    "        Matters only for display.\n",
    "    rhythm : music21.stream.Stream, optional\n",
    "        If you want to append the rhythm to an existing Stream, pass this Stream. Otherwise a new one will be created.\n",
    "\n",
    "    Returns\n",
    "    -------\n",
    "    music21.stream.Stream\n",
    "        The rhythm reflecting the given list of durations.\n",
    "    \"\"\"\n",
    "    if rhythm is None:\n",
    "        rhythm = create_percussion(time_sig = time_sig)\n",
    "    for dur in durations:\n",
    "        is_rest = False\n",
    "        if dur not in (0, '0'):\n",
    "            if isinstance(dur, str):\n",
    "                is_rest = True\n",
    "                dur = Fraction(dur)\n",
    "            append_event(dur, rhythm, rest = is_rest, pitch = pitch)\n",
    "    return rhythm"
   ]
  },
  {
   "cell_type": "code",
   "execution_count": 12,
   "id": "de126463",
   "metadata": {},
   "outputs": [
    {
     "data": {
      "image/png": "[encoded data removed]",
      "text/plain": "<IPython.core.display.Image object>"
     },
     "metadata": {
      "image/png": {
       "width": 367,
       "height": 49
      }
     },
     "output_type": "display_data"
    }
   ],
   "source": [
    "rhythm = rhythm_from_sequence([3/8, 1/8, '1/2'], time_sig='3/4')\n",
    "rhythm.show()"
   ]
  },
  {
   "cell_type": "code",
   "execution_count": 13,
   "outputs": [
    {
     "data": {
      "image/png": "[encoded data removed]",
      "text/plain": "<IPython.core.display.Image object>"
     },
     "metadata": {
      "image/png": {
       "width": 674,
       "height": 53
      }
     },
     "output_type": "display_data"
    }
   ],
   "source": [
    "rhythm = rhythm_from_sequence([1/6]*3, time_sig='3/4', rhythm=rhythm)\n",
    "rhythm.show()"
   ],
   "metadata": {
    "collapsed": false,
    "pycharm": {
     "name": "#%%\n"
    }
   }
  },
  {
   "cell_type": "markdown",
   "id": "7682fb01",
   "metadata": {},
   "source": [
    "# A context-free grammar of rhythms"
   ]
  },
  {
   "cell_type": "markdown",
   "id": "cb4d8771",
   "metadata": {},
   "source": [
    "In a Markov model, each rhythmic event depends on the preceding one(s). A different approach to modelling rhythm is to interpret rhythmic events as recursive elaborations of a latent rhythmic structure. The following example of hierarchical rhythm generation is based on the context-free rhythm grammar from [Rohrmeier (2020)](https://program.ismir2020.net/poster_4-20.html).\n",
    "\n"
   ]
  },
  {
   "cell_type": "markdown",
   "id": "38816964",
   "metadata": {},
   "source": [
    "## Categories\n",
    "First, in this formalism, a rhythmic category is a 3-ple of parameters defining a time-span: the upbeat, the body and the tail. The body represents the \"ideal\" duration of the timespan, if no extensions or timestealing happen. The upbeat encodes the addition (if positive) or subtraction (if negative) of a portion at the beginning of the timespan. Similarly, the coda encodes the addition (if positive) or subtraction (if negative) of a portion at the end of the timespan. As a consequence, the overall duration of a timespan (a, b, c) is a+b+c.\n",
    "\n",
    "Each rhythmic category can generate other rhythmic categories by means of the application of a rule."
   ]
  },
  {
   "cell_type": "code",
   "execution_count": 14,
   "outputs": [],
   "source": [
    "class Category:\n",
    "    def __init__(self, upbeat, body, tail, is_terminal=False):\n",
    "        #Parameters\n",
    "        self.upbeat = upbeat\n",
    "        self.body = body\n",
    "        self.tail = tail\n",
    "        self.is_terminal = is_terminal\n",
    "        self.parameters = (upbeat, body, tail)\n",
    "\n",
    "    def __repr__(self):\n",
    "        \"\"\"Display the category as a list if terminal, otherwise as tuple.\"\"\"\n",
    "        if self.is_terminal:\n",
    "            return str(list(self.parameters))\n",
    "        return str(self.parameters)\n",
    "\n",
    "    @property\n",
    "    def durations(self):\n",
    "        durations = [self.upbeat, self.body + self.tail]\n",
    "        if self.upbeat < 0:\n",
    "            durations[0] = 0\n",
    "            durations[1] += self.upbeat\n",
    "        return durations\n",
    "\n",
    "    def show(self):\n",
    "        \"\"\"A helper function to display the rhythmic category. Shows a positive upbeat separately from the body+tail\"\"\"\n",
    "        return rhythm_from_sequence(self.durations).show()"
   ],
   "metadata": {
    "collapsed": false,
    "pycharm": {
     "name": "#%%\n"
    }
   }
  },
  {
   "cell_type": "markdown",
   "id": "e121e86c",
   "metadata": {},
   "source": [
    "For example, here is a rhythmic category:"
   ]
  },
  {
   "cell_type": "code",
   "execution_count": 15,
   "outputs": [
    {
     "data": {
      "image/png": "[encoded data removed]",
      "text/plain": "<IPython.core.display.Image object>"
     },
     "metadata": {
      "image/png": {
       "width": 234,
       "height": 49
      }
     },
     "output_type": "display_data"
    }
   ],
   "source": [
    "example_category = Category(1/4, 1, 0)\n",
    "example_category.show()"
   ],
   "metadata": {
    "collapsed": false,
    "pycharm": {
     "name": "#%%\n"
    }
   }
  },
  {
   "cell_type": "markdown",
   "source": [
    "## Rules\n",
    "\n",
    "**Freeze.** Unary rule, implementation detail. Since non-terminals and terminals look the same, we distinguish between them using their boolean property `is_terminal`. The function `freeze()` takes a non-terminal and returns a copy with `is_terminal` set to True."
   ],
   "metadata": {
    "collapsed": false
   }
  },
  {
   "cell_type": "code",
   "execution_count": 16,
   "outputs": [],
   "source": [
    "def freeze(parent):\n",
    "    \"\"\"Turn non-terminal into terminal.\"\"\"\n",
    "    assert not parent.is_terminal, \"Trying to apply freeze to a terminal.\"\n",
    "    result = Category(*parent.parameters, is_terminal=True)\n",
    "    return (result, )"
   ],
   "metadata": {
    "collapsed": false,
    "pycharm": {
     "name": "#%%\n"
    }
   }
  },
  {
   "cell_type": "markdown",
   "source": [
    "**Split**. This rule splits a rhythmic category into two \"children\" by dividing the body into two parts. The left child inherits the upbeat of the parent category, while the right child inherits the coda of the parent category. Finally, the right child might \"steal\" a portion from the left child (if the right child has a positive upbeat), or vice-versa (if the right child has a negative upbeat). The split rule comes with two parameters. First, the split ratio (which is often 1/2, representing an equal split). The second parameter is optional, and specifies the upbeat of the right child (default is 0)."
   ],
   "metadata": {
    "collapsed": false,
    "pycharm": {
     "name": "#%% md\n"
    }
   }
  },
  {
   "cell_type": "code",
   "execution_count": 17,
   "outputs": [],
   "source": [
    "def split(parent, ratio = 1/2, right_child_upbeat=0, display=False):\n",
    "    \"\"\"SPLIT operation on parent category.\n",
    "\n",
    "    Parameters\n",
    "    ----------\n",
    "    parent : Category\n",
    "    ratio : float or Fraction\n",
    "        Multiply the parent's body with ratio to get the left child's body.\n",
    "    right_child_upbeat : float or Fraction\n",
    "        The left child's upbeat is inherited from the parent, the right child's\n",
    "        upbeat can be specified here, resulting in the left child getting a negative\n",
    "        tail of the same size.\n",
    "\n",
    "    Returns\n",
    "    -------\n",
    "    pair of Category\n",
    "\n",
    "    \"\"\"\n",
    "    assert not parent.is_terminal, \"Trying to apply split to a terminal.\"\n",
    "    left_child_body = parent.body * ratio\n",
    "    right_child_body = parent.body - left_child_body\n",
    "    left_child_cat = Category(parent.upbeat, left_child_body, - right_child_upbeat)\n",
    "    right_child_cat = Category(right_child_upbeat, right_child_body, parent.tail)\n",
    "    result = (left_child_cat, right_child_cat)\n",
    "    if display:\n",
    "        print(f\"{parent} => {result}\")\n",
    "    return result"
   ],
   "metadata": {
    "collapsed": false,
    "pycharm": {
     "name": "#%%\n"
    }
   }
  },
  {
   "cell_type": "code",
   "execution_count": 18,
   "outputs": [
    {
     "name": "stdout",
     "output_type": "stream",
     "text": [
      "(0.25, 1, 0) => ((0.25, 0.5, 0), (0, 0.5, 0))\n"
     ]
    },
    {
     "data": {
      "text/plain": "((0.25, 0.5, 0), (0, 0.5, 0))"
     },
     "execution_count": 18,
     "metadata": {},
     "output_type": "execute_result"
    }
   ],
   "source": [
    "split(example_category, display=True)"
   ],
   "metadata": {
    "collapsed": false,
    "pycharm": {
     "name": "#%%\n"
    }
   }
  },
  {
   "cell_type": "markdown",
   "source": [
    "Note that this is an equal split where the children do not steal time from each other. Here we have a different split, where the right child has an upbeat, hence stealing time from the left child:"
   ],
   "metadata": {
    "collapsed": false
   }
  },
  {
   "cell_type": "code",
   "execution_count": 19,
   "outputs": [
    {
     "name": "stdout",
     "output_type": "stream",
     "text": [
      "(0.25, 1, 0) => ((0.25, 0.5, -0.0625), (0.0625, 0.5, 0))\n"
     ]
    },
    {
     "data": {
      "text/plain": "((0.25, 0.5, -0.0625), (0.0625, 0.5, 0))"
     },
     "execution_count": 19,
     "metadata": {},
     "output_type": "execute_result"
    }
   ],
   "source": [
    "split(example_category, 1/2, 1/16, display=True)"
   ],
   "metadata": {
    "collapsed": false,
    "pycharm": {
     "name": "#%%\n"
    }
   }
  },
  {
   "cell_type": "markdown",
   "source": [
    "**Prepare**. This rule separates the upbeat (if it is positive) from the body, creating two distinct rhytmic categories: one inherits the parent's upbeat as its own body, the other inherits the parent's body and tail (but has not upbeat)."
   ],
   "metadata": {
    "collapsed": false
   }
  },
  {
   "cell_type": "code",
   "execution_count": 20,
   "outputs": [],
   "source": [
    "def prepare(parent, display=False):\n",
    "    \"\"\"UPBEAT rule: separates upbeat from body\"\"\"\n",
    "    assert not parent.is_terminal, \"Trying to apply prepare to a terminal.\"\n",
    "    assert parent.upbeat > 0, f\"Trying to apply prepare to a category with upbeat {parent.upbeat}.\"\n",
    "    left_child_cat = Category(0, parent.upbeat, 0)\n",
    "    right_child_cat = Category(0, parent.body, parent.tail)\n",
    "    result = (left_child_cat,  right_child_cat)\n",
    "    if display:\n",
    "        print(f\"{parent} => {result}\")\n",
    "    return result"
   ],
   "metadata": {
    "collapsed": false,
    "pycharm": {
     "name": "#%%\n"
    }
   }
  },
  {
   "cell_type": "code",
   "execution_count": 21,
   "outputs": [
    {
     "name": "stdout",
     "output_type": "stream",
     "text": [
      "(0.25, 1, 0) => ((0, 0.25, 0), (0, 1, 0))\n"
     ]
    },
    {
     "data": {
      "text/plain": "((0, 0.25, 0), (0, 1, 0))"
     },
     "execution_count": 21,
     "metadata": {},
     "output_type": "execute_result"
    }
   ],
   "source": [
    "prepare(example_category, display=True)"
   ],
   "metadata": {
    "collapsed": false,
    "pycharm": {
     "name": "#%%\n"
    }
   }
  },
  {
   "cell_type": "markdown",
   "source": [
    "**Anticipate and Delay**: these two rules are unary rules, i.e. the parent is simply transformed into one different category. In the anticipation (or e-shift) rule, the upbeat is absorbed into the body, so that the body of the timespan is shifted to the left. The delay (or l-shift) rule does the opposite.\n",
    "\n",
    "Here is, for example, an application of the anticipation rule. Since this is a unary rule, only one child is generated:"
   ],
   "metadata": {
    "collapsed": false
   }
  },
  {
   "cell_type": "code",
   "execution_count": 22,
   "outputs": [],
   "source": [
    "def shift(parent, to_left=True, display=False):\n",
    "    \"\"\" Shift body to the left (anticipate) or the right (delay).\n",
    "\n",
    "    Parameters\n",
    "    ----------\n",
    "    parent : Category\n",
    "    to_left : bool, optional\n",
    "        By default, the anticipate rule is applied (e-shift).\n",
    "        Pass False to apply delay (l-shift).\n",
    "\n",
    "    Returns\n",
    "    -------\n",
    "    tuple of Category\n",
    "    \"\"\"\n",
    "    assert not parent.is_terminal, \"Trying to apply shift to a terminal.\"\n",
    "    if to_left:\n",
    "        result = Category(0, parent.body, parent.upbeat+parent.tail)\n",
    "    else:\n",
    "        result = Category(parent.upbeat + self.tail, self.body, 0)\n",
    "    if display:\n",
    "        print(f\"{parent} => {result}\")\n",
    "    return (result, )"
   ],
   "metadata": {
    "collapsed": false,
    "pycharm": {
     "name": "#%%\n"
    }
   }
  },
  {
   "cell_type": "code",
   "execution_count": 23,
   "outputs": [
    {
     "name": "stdout",
     "output_type": "stream",
     "text": [
      "(0.25, 1, 0) => (0, 1, 0.25)\n"
     ]
    },
    {
     "data": {
      "text/plain": "((0, 1, 0.25),)"
     },
     "execution_count": 23,
     "metadata": {},
     "output_type": "execute_result"
    }
   ],
   "source": [
    "shift(example_category, display=True)"
   ],
   "metadata": {
    "collapsed": false,
    "pycharm": {
     "name": "#%%\n"
    }
   }
  },
  {
   "cell_type": "markdown",
   "id": "2b33fb3e",
   "metadata": {},
   "source": [
    "## Generation"
   ]
  },
  {
   "cell_type": "code",
   "execution_count": 24,
   "outputs": [],
   "source": [
    "class Tree:\n",
    "\n",
    "    def __init__(self, root_category):\n",
    "        self.root = root_category\n",
    "        self.left, self.right = None, None # Tree objects\n",
    "\n",
    "    @property\n",
    "    def is_frozen(self):\n",
    "        if self.root.is_terminal:\n",
    "            return True\n",
    "        if self.left is None:\n",
    "            return False\n",
    "        if self.left.is_frozen:\n",
    "            if self.right is None:\n",
    "                return True\n",
    "            return self.right.is_frozen\n",
    "        return False\n",
    "\n",
    "    @property\n",
    "    def leaves(self):\n",
    "        assert self.is_frozen, \"Tree is not a complete derivation, some leaves are non-terminals.\"\n",
    "        if self.root.is_terminal:\n",
    "            return [d for d in self.root.durations if d > 0]\n",
    "        result = self.left.leaves\n",
    "        if self.right is not None:\n",
    "            result.extend(self.right.leaves)\n",
    "        return result\n",
    "\n",
    "    def get_leftmost(self):\n",
    "        if self.root.is_terminal:\n",
    "            print(\"Tree is frozen.\")\n",
    "            return\n",
    "        if self.left is None:\n",
    "            return self\n",
    "        if not self.left.is_frozen:\n",
    "            return self.left.get_leftmost()\n",
    "        if self.right is not None and not self.right.is_frozen:\n",
    "            return self.right.get_leftmost()\n",
    "\n",
    "    def apply(self, rules):\n",
    "        \"\"\" Applies the rules in sequence, each to the leftmost non-terminal.\n",
    "\n",
    "        Parameters\n",
    "        ----------\n",
    "        rules : list of (callable, dict)\n",
    "            For each rule to apply, pass a pair containing the function and a dictionary with the function parameters.\n",
    "\n",
    "        Returns\n",
    "        -------\n",
    "        None\n",
    "        \"\"\"\n",
    "        if isinstance(rules, tuple):\n",
    "            rules = [rules]\n",
    "        for i, (func, params) in enumerate(rules):\n",
    "            leftmost_tree = self.get_leftmost()\n",
    "            if leftmost_tree is None:\n",
    "                print(f\"Could only apply {i} out of {len(rules)} rules because derivation was complete at that point.\")\n",
    "                break\n",
    "            category = leftmost_tree.root\n",
    "            result = func(category, **params)\n",
    "            leftmost_tree.left = Tree(result[0])\n",
    "            if len(result) == 2:\n",
    "                leftmost_tree.right = Tree(result[1])\n",
    "\n",
    "    def freeze_all(self):\n",
    "        \"\"\"Apply the function freeze() to all non-terminals, turning them into terminals.\"\"\"\n",
    "        leftmost_tree = self.get_leftmost()\n",
    "        while leftmost_tree is not None:\n",
    "            leftmost_tree.apply((freeze, {}))\n",
    "            leftmost_tree = self.get_leftmost()\n",
    "\n",
    "    def show(self, playback=False, *args, **kwargs):\n",
    "        \"\"\"Freezes all open terminals and shows the generated rhythm as a score.\"\"\"\n",
    "        self.freeze_all()\n",
    "        durations = self.leaves\n",
    "        stream = rhythm_from_sequence(durations, *args, **kwargs)\n",
    "        if playback:\n",
    "            play(stream)\n",
    "        stream.show()\n",
    "\n",
    "    def __repr__(self):\n",
    "        if self.left is not None and self.left.root.is_terminal:\n",
    "            return str(self.left.root)\n",
    "        result = str(self.root)\n",
    "        if self.left is not None:\n",
    "            result += \" [\" + self.left.__repr__()\n",
    "            if self.right is not None:\n",
    "                result += self.right.__repr__()\n",
    "            result += \"] \"\n",
    "        return result"
   ],
   "metadata": {
    "collapsed": false,
    "pycharm": {
     "name": "#%%\n"
    }
   }
  },
  {
   "cell_type": "code",
   "execution_count": 25,
   "outputs": [
    {
     "name": "stdout",
     "output_type": "stream",
     "text": [
      "is_frozen: False\n"
     ]
    },
    {
     "data": {
      "text/plain": "(0.25, 4, 0) [(0.25, 2.0, 0)(0, 2.0, 0)] "
     },
     "execution_count": 25,
     "metadata": {},
     "output_type": "execute_result"
    }
   ],
   "source": [
    "t = Tree(Category(1/4, 4, 0))\n",
    "t.apply((split, {}))\n",
    "print(f\"is_frozen: {t.is_frozen}\")\n",
    "t"
   ],
   "metadata": {
    "collapsed": false,
    "pycharm": {
     "name": "#%%\n"
    }
   }
  },
  {
   "cell_type": "code",
   "execution_count": 26,
   "outputs": [
    {
     "data": {
      "text/plain": "(0.25, 2.0, 0)"
     },
     "execution_count": 26,
     "metadata": {},
     "output_type": "execute_result"
    }
   ],
   "source": [
    "t.get_leftmost()"
   ],
   "metadata": {
    "collapsed": false,
    "pycharm": {
     "name": "#%%\n"
    }
   }
  },
  {
   "cell_type": "code",
   "execution_count": 27,
   "outputs": [
    {
     "name": "stdout",
     "output_type": "stream",
     "text": [
      "is_frozen: False\n"
     ]
    },
    {
     "data": {
      "text/plain": "(0.25, 4, 0) [[0.25, 2.0, 0](0, 2.0, 0)] "
     },
     "execution_count": 27,
     "metadata": {},
     "output_type": "execute_result"
    }
   ],
   "source": [
    "t.apply((freeze, {}))\n",
    "print(f\"is_frozen: {t.is_frozen}\")\n",
    "t"
   ],
   "metadata": {
    "collapsed": false,
    "pycharm": {
     "name": "#%%\n"
    }
   }
  },
  {
   "cell_type": "code",
   "execution_count": 28,
   "outputs": [
    {
     "data": {
      "text/plain": "(0, 2.0, 0)"
     },
     "execution_count": 28,
     "metadata": {},
     "output_type": "execute_result"
    }
   ],
   "source": [
    "t.get_leftmost()"
   ],
   "metadata": {
    "collapsed": false,
    "pycharm": {
     "name": "#%%\n"
    }
   }
  },
  {
   "cell_type": "code",
   "execution_count": 29,
   "outputs": [
    {
     "name": "stdout",
     "output_type": "stream",
     "text": [
      "is_frozen: True\n"
     ]
    },
    {
     "data": {
      "text/plain": "(0.25, 4, 0) [[0.25, 2.0, 0][0, 2.0, 0]] "
     },
     "execution_count": 29,
     "metadata": {},
     "output_type": "execute_result"
    }
   ],
   "source": [
    "t.apply((freeze, {}))\n",
    "print(f\"is_frozen: {t.is_frozen}\")\n",
    "t"
   ],
   "metadata": {
    "collapsed": false,
    "pycharm": {
     "name": "#%%\n"
    }
   }
  },
  {
   "cell_type": "code",
   "execution_count": 30,
   "outputs": [],
   "source": [
    "t.get_leftmost()"
   ],
   "metadata": {
    "collapsed": false,
    "pycharm": {
     "name": "#%%\n"
    }
   }
  },
  {
   "cell_type": "code",
   "execution_count": 31,
   "outputs": [
    {
     "name": "stdout",
     "output_type": "stream",
     "text": [
      "Leaves as durations: [0.25, 2.0, 2.0]\n"
     ]
    },
    {
     "data": {
      "image/png": "[encoded data removed]",
      "text/plain": "<IPython.core.display.Image object>"
     },
     "metadata": {
      "image/png": {
       "width": 357,
       "height": 49
      }
     },
     "output_type": "display_data"
    }
   ],
   "source": [
    "print(f\"Leaves as durations: {t.leaves}\")\n",
    "rhythm_from_sequence(t.leaves).show()"
   ],
   "metadata": {
    "collapsed": false,
    "pycharm": {
     "name": "#%%\n"
    }
   }
  },
  {
   "cell_type": "markdown",
   "id": "756027e9",
   "metadata": {},
   "source": [
    "Here, as an example, we generate the initial rhythm from the [Jazz standard \"Blue Bossa\"](https://youtu.be/U7eOs5lERww?t=12) (Rohrmeier 2020)"
   ]
  },
  {
   "cell_type": "markdown",
   "id": "94c77601",
   "metadata": {},
   "source": [
    "<img src=\"img/BlueBossa.png\">"
   ]
  },
  {
   "cell_type": "markdown",
   "id": "4ee7b413",
   "metadata": {},
   "source": [
    "The rhythm lasts 4 bars (in 4/4 meter) plus a 1/4 upbeat, so that the root category is:"
   ]
  },
  {
   "cell_type": "code",
   "execution_count": 32,
   "id": "9a38d19a",
   "metadata": {},
   "outputs": [],
   "source": [
    "root = Category(1/4, 4, 0)"
   ]
  },
  {
   "cell_type": "markdown",
   "id": "03c03bee",
   "metadata": {},
   "source": [
    "<img src=\"img/bb01.png\">\n",
    "\n",
    "The recipe to generate a rhythm can be represented in the form of a derivation tree. Each node of the tree is occupied by a rhythmic category, and the branches originating at a node lead to the children of that node under some rule application. A full derivation tree for the example from Blue Bossa is the following: "
   ]
  },
  {
   "cell_type": "markdown",
   "id": "ff01806c",
   "metadata": {},
   "source": [
    "<img src=\"img/HierarchicalRhythm.png\">"
   ]
  },
  {
   "cell_type": "markdown",
   "id": "1079ecc3",
   "metadata": {},
   "source": [
    "Let us start from the top of the tree, where we find the root category. The first branching is a split rule (the body is split in half), leading to two children nodes. We can represent a node of the tree as a list, containing the rule applied at that node (if any), as well as its children nodes. In the case of the topmost node in the above tree, the rule is a split with ratio 1/2 and right-child's head 1/4."
   ]
  },
  {
   "cell_type": "code",
   "execution_count": 33,
   "id": "a9bd08e5",
   "metadata": {},
   "outputs": [
    {
     "data": {
      "image/png": "[encoded data removed]",
      "text/plain": "<IPython.core.display.Image object>"
     },
     "metadata": {
      "image/png": {
       "width": 674,
       "height": 49
      }
     },
     "output_type": "display_data"
    }
   ],
   "source": [
    "tree = Tree(root)\n",
    "tree.apply((split, dict(ratio=1/2, right_child_upbeat=1/4)))\n",
    "tree.show()"
   ]
  },
  {
   "cell_type": "markdown",
   "id": "6478f5d7",
   "metadata": {},
   "source": [
    "<img src=\"img/bb02.png\">\n",
    "\n",
    "Let's look now at the left child of the root node. Here, another split rule is applied, resulting in two children with equal body (split factor 1/2) and a 1/8 upbeat for the right child. "
   ]
  },
  {
   "cell_type": "code",
   "execution_count": 34,
   "id": "00fb4adc",
   "metadata": {},
   "outputs": [
    {
     "data": {
      "image/png": "[encoded data removed]",
      "text/plain": "<IPython.core.display.Image object>"
     },
     "metadata": {
      "image/png": {
       "width": 674,
       "height": 49
      }
     },
     "output_type": "display_data"
    }
   ],
   "source": [
    "tree = Tree(root)\n",
    "tree.apply([(split, dict(ratio=1/2, right_child_upbeat=1/4)),\n",
    "            (split, dict(ratio=1/2, right_child_upbeat=1/8))\n",
    "           ])\n",
    "tree.show()"
   ]
  },
  {
   "cell_type": "markdown",
   "id": "1ed3e47d",
   "metadata": {},
   "source": [
    "<img src=\"img/bb03.png\">\n",
    "\n",
    "The left child of the left child of the root also undergoes a split operation..."
   ]
  },
  {
   "cell_type": "code",
   "execution_count": 35,
   "outputs": [
    {
     "name": "stdout",
     "output_type": "stream",
     "text": [
      "(0.25, 4, 0) [(0.25, 2.0, -0.25) [(0.25, 1.0, -0.125) [(0.25, 0.5, -0.125)(0.125, 0.5, -0.125)] (0.125, 1.0, -0.25)] (0.25, 2.0, 0)] \n"
     ]
    },
    {
     "data": {
      "image/png": "[encoded data removed]",
      "text/plain": "<IPython.core.display.Image object>"
     },
     "metadata": {
      "image/png": {
       "width": 674,
       "height": 49
      }
     },
     "output_type": "display_data"
    }
   ],
   "source": [
    "tree = Tree(root)\n",
    "tree.apply([(split, dict(ratio=1/2, right_child_upbeat=1/4)),\n",
    "            (split, dict(ratio=1/2, right_child_upbeat=1/8)),\n",
    "            (split, dict(ratio=1/2, right_child_upbeat=1/8))\n",
    "           ])\n",
    "print(tree)\n",
    "tree.show()"
   ],
   "metadata": {
    "collapsed": false,
    "pycharm": {
     "name": "#%%\n"
    }
   }
  },
  {
   "cell_type": "markdown",
   "id": "0ff10e99",
   "metadata": {},
   "source": [
    "<img src=\"img/bb04.png\">\n",
    "\n",
    "... while its own left child (i.e., of the left child of the left child of the root) undergoes a preparation rule..."
   ]
  },
  {
   "cell_type": "code",
   "execution_count": 36,
   "id": "f4e3f8f1",
   "metadata": {},
   "outputs": [
    {
     "name": "stdout",
     "output_type": "stream",
     "text": [
      "(0.25, 4, 0) [(0.25, 2.0, -0.25) [(0.25, 1.0, -0.125) [(0.25, 0.5, -0.125) [[0, 0.25, 0][0, 0.5, -0.125]] (0.125, 0.5, -0.125)] (0.125, 1.0, -0.25)] (0.25, 2.0, 0)] \n"
     ]
    },
    {
     "data": {
      "image/png": "[encoded data removed]",
      "text/plain": "<IPython.core.display.Image object>"
     },
     "metadata": {
      "image/png": {
       "width": 674,
       "height": 49
      }
     },
     "output_type": "display_data"
    }
   ],
   "source": [
    "tree = Tree(root)\n",
    "tree.apply([(split, dict(ratio=1/2, right_child_upbeat=1/4)),\n",
    "            (split, dict(ratio=1/2, right_child_upbeat=1/8)),\n",
    "            (split, dict(ratio=1/2, right_child_upbeat=1/8)),\n",
    "            (prepare, {}),\n",
    "            (freeze, {}),\n",
    "            (freeze, {}),\n",
    "           ])\n",
    "print(tree)\n",
    "tree.show()"
   ]
  },
  {
   "cell_type": "markdown",
   "id": "45f35866",
   "metadata": {},
   "source": [
    "... similarly to the right child of the left child of the left child of the root:"
   ]
  },
  {
   "cell_type": "code",
   "execution_count": 37,
   "id": "f694a92d",
   "metadata": {},
   "outputs": [
    {
     "name": "stdout",
     "output_type": "stream",
     "text": [
      "(0.25, 4, 0) [(0.25, 2.0, -0.25) [(0.25, 1.0, -0.125) [(0.25, 0.5, -0.125) [[0, 0.25, 0][0, 0.5, -0.125]] (0.125, 0.5, -0.125) [(0, 0.125, 0)(0, 0.5, -0.125)] ] (0.125, 1.0, -0.25)] (0.25, 2.0, 0)] \n"
     ]
    },
    {
     "data": {
      "image/png": "[encoded data removed]",
      "text/plain": "<IPython.core.display.Image object>"
     },
     "metadata": {
      "image/png": {
       "width": 674,
       "height": 49
      }
     },
     "output_type": "display_data"
    }
   ],
   "source": [
    "tree = Tree(root)\n",
    "tree.apply([(split, dict(ratio=1/2, right_child_upbeat=1/4)),\n",
    "            (split, dict(ratio=1/2, right_child_upbeat=1/8)),\n",
    "            (split, dict(ratio=1/2, right_child_upbeat=1/8)),\n",
    "            (prepare, {}),\n",
    "            (freeze, {}),\n",
    "            (freeze, {}),\n",
    "            (prepare, {}),\n",
    "           ])\n",
    "print(tree)\n",
    "tree.show()"
   ]
  },
  {
   "cell_type": "markdown",
   "id": "2632518e",
   "metadata": {},
   "source": [
    "The right child of this preparation rule is further elaborated with a split, whose right child is then anticipated:"
   ]
  },
  {
   "cell_type": "code",
   "execution_count": 38,
   "outputs": [
    {
     "name": "stdout",
     "output_type": "stream",
     "text": [
      "(0.25, 4, 0) [(0.25, 2.0, -0.25) [(0.25, 1.0, -0.125) [(0.25, 0.5, -0.125) [[0, 0.25, 0][0, 0.5, -0.125]] (0.125, 0.5, -0.125) [[0, 0.125, 0](0, 0.5, -0.125) [[0, 0.25, -0.125](0.125, 0.25, -0.125) [(0, 0.25, 0.0)] ] ] ] (0.125, 1.0, -0.25)] (0.25, 2.0, 0)] \n"
     ]
    },
    {
     "data": {
      "image/png": "[encoded data removed]",
      "text/plain": "<IPython.core.display.Image object>"
     },
     "metadata": {
      "image/png": {
       "width": 674,
       "height": 49
      }
     },
     "output_type": "display_data"
    }
   ],
   "source": [
    "tree = Tree(root)\n",
    "tree.apply([(split, dict(ratio=1/2, right_child_upbeat=1/4)),\n",
    "            (split, dict(ratio=1/2, right_child_upbeat=1/8)),\n",
    "            (split, dict(ratio=1/2, right_child_upbeat=1/8)),\n",
    "            (prepare, {}),\n",
    "            (freeze, {}),\n",
    "            (freeze, {}),\n",
    "            (prepare, {}),\n",
    "            (freeze, {}),\n",
    "            (split, dict(ratio=1/2, right_child_upbeat=1/8)),\n",
    "            (freeze, {}),\n",
    "            (shift, {})\n",
    "           ])\n",
    "print(tree)\n",
    "tree.show()"
   ],
   "metadata": {
    "collapsed": false,
    "pycharm": {
     "name": "#%%\n"
    }
   }
  },
  {
   "cell_type": "markdown",
   "id": "2b4ebb3b",
   "metadata": {},
   "source": [
    "<img src=\"img/bb06.png\">\n",
    "\n",
    "Fast-forward to the whole tree:"
   ]
  },
  {
   "cell_type": "code",
   "execution_count": 40,
   "outputs": [
    {
     "name": "stdout",
     "output_type": "stream",
     "text": [
      "(0.25, 4, 0) [(0.25, 2.0, -0.25) [(0.25, 1.0, -0.125) [(0.25, 0.5, -0.125) [[0, 0.25, 0][0, 0.5, -0.125]] (0.125, 0.5, -0.125) [[0, 0.125, 0](0, 0.5, -0.125) [[0, 0.25, -0.125](0.125, 0.25, -0.125) [[0, 0.25, 0.0]] ] ] ] [0.125, 1.0, -0.25]] (0.25, 2.0, 0) [(0.25, 1.0, -0.125) [(0.25, 0.5, -0.125) [[0, 0.25, 0][0, 0.5, -0.125]] (0.125, 0.5, -0.125) [[0, 0.5, 0.0]] ] (0.125, 1.0, 0) [(0, 1.0, 0.125)] ] ] \n"
     ]
    },
    {
     "data": {
      "image/png": "[encoded data removed]",
      "text/plain": "<IPython.core.display.Image object>"
     },
     "metadata": {
      "image/png": {
       "width": 674,
       "height": 57
      }
     },
     "output_type": "display_data"
    }
   ],
   "source": [
    "tree = Tree(root)\n",
    "tree.apply([(split, dict(ratio=1/2, right_child_upbeat=1/4)),\n",
    "            (split, dict(ratio=1/2, right_child_upbeat=1/8)),\n",
    "            (split, dict(ratio=1/2, right_child_upbeat=1/8)),\n",
    "            (prepare, {}),\n",
    "            (freeze, {}),\n",
    "            (freeze, {}),\n",
    "            (prepare, {}),\n",
    "            (freeze, {}),\n",
    "            (split, dict(ratio=1/2, right_child_upbeat=1/8)),\n",
    "            (freeze, {}),\n",
    "            (shift, {}),\n",
    "            (freeze, {}),\n",
    "            (freeze, {}),\n",
    "            (split, dict(ratio=1/2, right_child_upbeat=1/8)),\n",
    "            (split, dict(ratio=1/2, right_child_upbeat=1/8)),\n",
    "            (prepare, {}),\n",
    "            (freeze, {}),\n",
    "            (freeze, {}),\n",
    "            (shift, {}),\n",
    "            (freeze, {}),\n",
    "            (shift, {}),\n",
    "           ])\n",
    "print(tree)\n",
    "tree.show(playback=True)"
   ],
   "metadata": {
    "collapsed": false,
    "pycharm": {
     "name": "#%%\n"
    }
   }
  },
  {
   "cell_type": "markdown",
   "id": "6eaa3713",
   "metadata": {},
   "source": [
    "<img src=\"img/bb07.png\">"
   ]
  },
  {
   "cell_type": "markdown",
   "id": "0ea0a3c7",
   "metadata": {
    "pycharm": {
     "name": "#%% md\n"
    }
   },
   "source": [
    "Overall, here is how all notes in the generated rhythm relate to each other in terms of generative steps: in yellow the splits, in blue the preparations, in green the anticipations. Orange boxes highlight places where some notes \"steal time\" from other notes (because of anticipations).\n",
    "\n",
    "<img src=\"img/ColouredDerivation.png\">"
   ]
  }
 ],
 "metadata": {
  "kernelspec": {
   "name": "rhythmgrammar",
   "language": "python",
   "display_name": "rhythmgrammar"
  },
  "language_info": {
   "codemirror_mode": {
    "name": "ipython",
    "version": 3
   },
   "file_extension": ".py",
   "mimetype": "text/x-python",
   "name": "python",
   "nbconvert_exporter": "python",
   "pygments_lexer": "ipython3",
   "version": "3.7.10"
  }
 },
 "nbformat": 4,
 "nbformat_minor": 5
}