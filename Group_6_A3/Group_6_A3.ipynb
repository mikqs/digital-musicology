{
 "cells": [
  {
   "cell_type": "markdown",
   "metadata": {
    "id": "mKzYXT9wujnq",
    "pycharm": {
     "name": "#%% md\n"
    }
   },
   "source": [
    "# Digital Musicology (DH-401)\n",
    "## Assignment 3: Similarity\n",
    "Group 6\n",
    "- Mickaël Achkar\n",
    "- Yichen Wang\n",
    "- Yinghui Jiang"
   ]
  },
  {
   "cell_type": "code",
   "execution_count": 1,
   "metadata": {
    "id": "DyJrZLvLujnx",
    "pycharm": {
     "name": "#%%\n"
    }
   },
   "outputs": [],
   "source": [
    "import ms3\n",
    "import pandas as pd\n",
    "import numpy as np\n",
    "import math\n",
    "import fractions\n",
    "import matplotlib.pyplot as plt"
   ]
  },
  {
   "cell_type": "markdown",
   "metadata": {
    "id": "nLKz6w-Fujnz",
    "pycharm": {
     "name": "#%% md\n"
    }
   },
   "source": [
    "## 0. Dataset preparation"
   ]
  },
  {
   "cell_type": "code",
   "execution_count": null,
   "metadata": {},
   "outputs": [],
   "source": [
    "%%time\n",
    "\n",
    "# Suppress SettingWithCopy warnings\n",
    "pd.options.mode.chained_assignment = None\n",
    "\n",
    "# Import CSV\n",
    "chorales_dataset = pd.read_csv('DM 2022 - Assignment 3 [Dataset].csv', converters = {'mn_onset': fractions.Fraction, 'act_dur': fractions.Fraction, 'duration': fractions.Fraction, 'nominal_duration': fractions.Fraction, 'scalar': fractions.Fraction}, index_col = 0, low_memory = False)\n",
    "\n",
    "# Ignore gracenotes (there is only one)\n",
    "chorales_dataset = chorales_dataset[chorales_dataset['gracenote'].isna()].drop(columns = ['gracenote'])\n",
    "\n",
    "# Remove Chorale043 because it is corrupted (it does not open in MuseScore and it has only 1 staff and no closing fermata)\n",
    "# chorales_dataset.drop(chorales_dataset[chorales_dataset['piece']=='BachChorales/Chorale043'].index, inplace=True)\n",
    "chorales_dataset = chorales_dataset[chorales_dataset.piece != 'BachChorales/Chorale043']\n",
    "\n",
    "# Get unique piece/staff pairs\n",
    "piece_staffs = chorales_dataset[['piece', 'staff']].drop_duplicates().to_numpy()\n",
    "\n",
    "# Consider only until the fermata in or after the 4th bar\n",
    "fermata_data = []\n",
    "for piece, staff in piece_staffs:\n",
    "    for idx, row in chorales_dataset[(chorales_dataset['piece'] == piece) & (chorales_dataset['staff'] == staff)].iterrows():\n",
    "        fermata_data.append(row)\n",
    "        if row['fermata'] and row['mn'] >= 4:\n",
    "            break   \n",
    "fermata_df = pd.DataFrame(fermata_data)\n",
    "\n",
    "# Sort by onset and staff for consistent alignment\n",
    "fermata_df = fermata_df.sort_values(by=['piece', 'mn', 'mn_onset', 'staff']).reset_index(drop=True)"
   ]
  },
  {
   "cell_type": "code",
   "execution_count": null,
   "metadata": {},
   "outputs": [],
   "source": [
    "fermata_df"
   ]
  },
  {
   "cell_type": "markdown",
   "metadata": {},
   "source": [
    "## I. Similarity parameters\n",
    "### a. Melodic contour"
   ]
  },
  {
   "cell_type": "code",
   "execution_count": null,
   "metadata": {},
   "outputs": [],
   "source": []
  }
 ],
 "metadata": {
  "colab": {
   "collapsed_sections": [],
   "name": "Group_6_A2.ipynb",
   "provenance": []
  },
  "kernelspec": {
   "display_name": "Python 3 (ipykernel)",
   "language": "python",
   "name": "python3"
  },
  "language_info": {
   "codemirror_mode": {
    "name": "ipython",
    "version": 3
   },
   "file_extension": ".py",
   "mimetype": "text/x-python",
   "name": "python",
   "nbconvert_exporter": "python",
   "pygments_lexer": "ipython3",
   "version": "3.9.12"
  }
 },
 "nbformat": 4,
 "nbformat_minor": 4
}
